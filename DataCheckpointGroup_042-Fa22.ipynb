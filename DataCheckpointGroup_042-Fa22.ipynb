{
 "cells": [
  {
   "cell_type": "markdown",
   "metadata": {},
   "source": [
    "# COGS 108 - Data Checkpoint"
   ]
  },
  {
   "cell_type": "markdown",
   "metadata": {},
   "source": [
    "# Names\n",
    "\n",
    "- Jake Heinlein\n",
    "- Nathan Tripp\n",
    "- Naomi Chin\n",
    "- Leo Friedman\n",
    "- Dante Tanjuatco"
   ]
  },
  {
   "cell_type": "markdown",
   "metadata": {},
   "source": [
    "<a id='research_question'></a>\n",
    "# Research Question"
   ]
  },
  {
   "cell_type": "markdown",
   "metadata": {},
   "source": [
    "*Is the combination of an mlb free agents age and batting performance, measured by batting average and on base plus slugging percentage, indicative of their yearly salary, and if so, can an algorithm predict a players future contract based on these factors?*"
   ]
  },
  {
   "cell_type": "markdown",
   "metadata": {},
   "source": [
    "# Dataset(s)"
   ]
  },
  {
   "cell_type": "markdown",
   "metadata": {},
   "source": [
    "*Fill in your dataset information here*\n",
    "\n",
    "(Copy this information for each dataset)\n",
    "- Dataset Name:\n",
    "- Link to the dataset:\n",
    "- Number of observations:\n",
    "\n",
    "The first data set looks at MLB players stats by year (https://www.rotowire.com/baseball/stats.php). We are using player age, batting average, and on base plus slugging percentage data. We are taking datasets from 2010-2022. From 2010-2022, the datasets contain 671, 681, 687, 685, 698, 693, 677, 675, 689, 694, 612, 734, and 772 observations, respectively. We will call the concatenation of these datasets 'batting'.\n",
    "\n",
    "The second dataset shows free agent contracts (**insert link**), which we are using to find players yearly salary. The datasets contain... observations. We will call the concatenation of these datasets 'contracts'.\n",
    "\n",
    "We are looking at players who are included in both sets, comparing batting performance along with age to their new contracted yearly salary as free agents."
   ]
  },
  {
   "cell_type": "code",
   "execution_count": null,
   "metadata": {},
   "outputs": [],
   "source": []
  },
  {
   "cell_type": "markdown",
   "metadata": {},
   "source": [
    "# Setup"
   ]
  },
  {
   "cell_type": "code",
   "execution_count": 1,
   "metadata": {},
   "outputs": [],
   "source": [
    "# import packages and setup visuals\n",
    "\n",
    "import pandas as pd\n",
    "pd.set_option('display.max_rows', None)\n",
    "import os"
   ]
  },
  {
   "cell_type": "code",
   "execution_count": 2,
   "metadata": {},
   "outputs": [],
   "source": [
    "# create functions\n",
    "\n",
    "# remove dollar sign and commas from salary string, convert to integer\n",
    "def salary_to_int(str_in):\n",
    "    str_in = str_in.replace('$','')\n",
    "    str_in = str_in.replace(',','')\n",
    "    output = int(str_in)\n",
    "    return output\n",
    "\n",
    "# turn 'LastName, FirstName' into 'FirstName LastName'\n",
    "def standardize_name(str_in):\n",
    "    # str_in = str_in.replace(',', '')\n",
    "    # str_in = remove_periods(str_in)\n",
    "    name_list = str_in.split(', ')\n",
    "    output = name_list[1] + ' ' + name_list[0]\n",
    "    return output\n",
    "\n",
    "# change the term length to just the starting year of the term\n",
    "def term_to_year(str_in):\n",
    "    term_list = str(str_in).split('-')\n",
    "    output = term_list[0]\n",
    "    return output\n",
    "\n",
    "# remove the periods from names\n",
    "def remove_periods(str_in):\n",
    "    output = str_in.replace('.','')\n",
    "    return output"
   ]
  },
  {
   "cell_type": "code",
   "execution_count": null,
   "metadata": {},
   "outputs": [],
   "source": []
  },
  {
   "cell_type": "markdown",
   "metadata": {},
   "source": [
    "# Data Cleaning"
   ]
  },
  {
   "cell_type": "markdown",
   "metadata": {},
   "source": [
    "Describe your data cleaning steps here."
   ]
  },
  {
   "cell_type": "code",
   "execution_count": 13,
   "metadata": {},
   "outputs": [
    {
     "name": "stdout",
     "output_type": "stream",
     "text": [
      "The first year in the dataset is 2011\n",
      "There are 339 unique players in the contract data\n"
     ]
    },
    {
     "data": {
      "text/html": [
       "<div>\n",
       "<style scoped>\n",
       "    .dataframe tbody tr th:only-of-type {\n",
       "        vertical-align: middle;\n",
       "    }\n",
       "\n",
       "    .dataframe tbody tr th {\n",
       "        vertical-align: top;\n",
       "    }\n",
       "\n",
       "    .dataframe thead th {\n",
       "        text-align: right;\n",
       "    }\n",
       "</style>\n",
       "<table border=\"1\" class=\"dataframe\">\n",
       "  <thead>\n",
       "    <tr style=\"text-align: right;\">\n",
       "      <th></th>\n",
       "      <th>Player</th>\n",
       "      <th>Year</th>\n",
       "      <th>Yearly Salary</th>\n",
       "    </tr>\n",
       "  </thead>\n",
       "  <tbody>\n",
       "    <tr>\n",
       "      <th>0</th>\n",
       "      <td>Carl Crawford</td>\n",
       "      <td>2011</td>\n",
       "      <td>20285714</td>\n",
       "    </tr>\n",
       "    <tr>\n",
       "      <th>31</th>\n",
       "      <td>Geoff Blum</td>\n",
       "      <td>2011</td>\n",
       "      <td>1350000</td>\n",
       "    </tr>\n",
       "    <tr>\n",
       "      <th>32</th>\n",
       "      <td>Edgar Renteria</td>\n",
       "      <td>2011</td>\n",
       "      <td>2100000</td>\n",
       "    </tr>\n",
       "    <tr>\n",
       "      <th>33</th>\n",
       "      <td>Manmy Ramirez</td>\n",
       "      <td>2011</td>\n",
       "      <td>2000020</td>\n",
       "    </tr>\n",
       "    <tr>\n",
       "      <th>34</th>\n",
       "      <td>Miguel Cairo</td>\n",
       "      <td>2011</td>\n",
       "      <td>2000000</td>\n",
       "    </tr>\n",
       "  </tbody>\n",
       "</table>\n",
       "</div>"
      ],
      "text/plain": [
       "            Player  Year  Yearly Salary\n",
       "0    Carl Crawford  2011       20285714\n",
       "31      Geoff Blum  2011        1350000\n",
       "32  Edgar Renteria  2011        2100000\n",
       "33   Manmy Ramirez  2011        2000020\n",
       "34    Miguel Cairo  2011        2000000"
      ]
     },
     "metadata": {},
     "output_type": "display_data"
    }
   ],
   "source": [
    "## YOUR CODE HERE\n",
    "## FEEL FREE TO ADD MULTIPLE CELLS PER SECTION\n",
    "\n",
    "# clean MLB contract (salary) data\n",
    "\n",
    "# access the directory with MLB contracts\n",
    "directory = 'data/contracts'\n",
    "# initialize list of contract filenames\n",
    "filenames = []\n",
    "# concatenate contracts from 2011-2022\n",
    "for filename in os.listdir(directory):\n",
    "    filenames.append(str(directory) + \"/\" + filename)\n",
    "contracts = pd.concat([pd.read_csv(f) for f in filenames])\n",
    "# keep player, position, age, term, and AAV columns\n",
    "contracts = contracts[[\"Player\",\"Pos'n\",\"Age\",\"Term\",\"AAV\"]]\n",
    "# remove pitcher information\n",
    "contracts = contracts[contracts[\"Pos'n\"].str.contains(\"hp\") == False]\n",
    "# remove any rows with empty data\n",
    "contracts = contracts[contracts[\"AAV\"].isna() == False]\n",
    "# remove $1 contracts (0 year contracts)\n",
    "contracts = contracts[contracts[\"AAV\"] != \"$1\"]\n",
    "# change AAV to an integer\n",
    "contracts[\"AAV\"] = contracts[\"AAV\"].apply(salary_to_int)\n",
    "# reset the indices\n",
    "contracts = contracts.reset_index(drop = True)\n",
    "# rename AAV (Average Annual Value) to Yearly Salary\n",
    "contracts = contracts.rename({\"AAV\":\"Yearly Salary\"}, axis=1)\n",
    "# turn 'LastName, FirstName' into 'FirstName LastName'\n",
    "contracts[\"Player\"] = contracts[\"Player\"].apply(standardize_name)\n",
    "# remove all columns except for selected ones\n",
    "contracts = contracts[[\"Player\",\"Term\",\"Yearly Salary\"]]\n",
    "# change the term length to just the starting year of the term\n",
    "contracts[\"Term\"] = contracts[\"Term\"].apply(term_to_year)\n",
    "# rename 'term_to_year' to 'Year'\n",
    "contracts = contracts.rename({\"Term\":\"Year\"}, axis = 1)\n",
    "# sort the dataframe by year\n",
    "contracts = contracts.sort_values(by=\"Year\")\n",
    "# cleaned contract dataframe outputs\n",
    "print(\"The first year in the dataset is \" + contracts.iloc[1,1])\n",
    "print(\"There are \" + str(len(contracts[\"Player\"].unique())) + \" unique players in the contract data\")\n",
    "display(contracts.head())"
   ]
  },
  {
   "cell_type": "code",
   "execution_count": 4,
   "metadata": {},
   "outputs": [
    {
     "data": {
      "text/html": [
       "<div>\n",
       "<style scoped>\n",
       "    .dataframe tbody tr th:only-of-type {\n",
       "        vertical-align: middle;\n",
       "    }\n",
       "\n",
       "    .dataframe tbody tr th {\n",
       "        vertical-align: top;\n",
       "    }\n",
       "\n",
       "    .dataframe thead th {\n",
       "        text-align: right;\n",
       "    }\n",
       "</style>\n",
       "<table border=\"1\" class=\"dataframe\">\n",
       "  <thead>\n",
       "    <tr style=\"text-align: right;\">\n",
       "      <th></th>\n",
       "      <th>Player</th>\n",
       "      <th>Pos</th>\n",
       "      <th>Age</th>\n",
       "      <th>AVG</th>\n",
       "      <th>OPS</th>\n",
       "      <th>Year</th>\n",
       "    </tr>\n",
       "  </thead>\n",
       "  <tbody>\n",
       "    <tr>\n",
       "      <th>0</th>\n",
       "      <td>Ichiro Suzuki</td>\n",
       "      <td>OF</td>\n",
       "      <td>48</td>\n",
       "      <td>0.315</td>\n",
       "      <td>0.753</td>\n",
       "      <td>2010</td>\n",
       "    </tr>\n",
       "    <tr>\n",
       "      <th>448</th>\n",
       "      <td>Jorge Cantu</td>\n",
       "      <td>3B</td>\n",
       "      <td>40</td>\n",
       "      <td>0.235</td>\n",
       "      <td>0.606</td>\n",
       "      <td>2010</td>\n",
       "    </tr>\n",
       "    <tr>\n",
       "      <th>451</th>\n",
       "      <td>Mark DeRosa</td>\n",
       "      <td>OF</td>\n",
       "      <td>47</td>\n",
       "      <td>0.194</td>\n",
       "      <td>0.537</td>\n",
       "      <td>2010</td>\n",
       "    </tr>\n",
       "    <tr>\n",
       "      <th>457</th>\n",
       "      <td>Pat Burrell</td>\n",
       "      <td>OF</td>\n",
       "      <td>46</td>\n",
       "      <td>0.202</td>\n",
       "      <td>0.625</td>\n",
       "      <td>2010</td>\n",
       "    </tr>\n",
       "    <tr>\n",
       "      <th>458</th>\n",
       "      <td>Lucas Duda</td>\n",
       "      <td>1B</td>\n",
       "      <td>36</td>\n",
       "      <td>0.202</td>\n",
       "      <td>0.678</td>\n",
       "      <td>2010</td>\n",
       "    </tr>\n",
       "  </tbody>\n",
       "</table>\n",
       "</div>"
      ],
      "text/plain": [
       "            Player Pos  Age    AVG    OPS  Year\n",
       "0    Ichiro Suzuki  OF   48  0.315  0.753  2010\n",
       "448    Jorge Cantu  3B   40  0.235  0.606  2010\n",
       "451    Mark DeRosa  OF   47  0.194  0.537  2010\n",
       "457    Pat Burrell  OF   46  0.202  0.625  2010\n",
       "458     Lucas Duda  1B   36  0.202  0.678  2010"
      ]
     },
     "execution_count": 4,
     "metadata": {},
     "output_type": "execute_result"
    }
   ],
   "source": [
    "# clean MLB batting data\n",
    "\n",
    "# access the directory with MLB batting data\n",
    "directory = 'data/batting'\n",
    "filenames = []\n",
    "dataframes = []\n",
    "# add the year of corresponding data to each dataset\n",
    "for filename in os.listdir(directory):\n",
    "    year = filename[:4]\n",
    "    filepath = str(directory) + \"/\" + filename\n",
    "    filenames.append(filepath)\n",
    "    df = pd.read_csv(filepath)\n",
    "    df['Year'] = year\n",
    "    dataframes.append(df)\n",
    "# concatenate 2010-2022 datasets\n",
    "batting = pd.concat(dataframes)\n",
    "# sort dataframe by year\n",
    "batting = batting.sort_values(by = \"Year\")\n",
    "# remove all columns except for selected ones\n",
    "batting = batting[[\"Player\", \"Pos\", \"Age\", \"AVG\", \"OPS\", \"Year\"]]\n",
    "# only keep the players that also appear in the contracts dataframe\n",
    "batting = batting[batting[\"Player\"].isin(contracts[\"Player\"])]\n",
    "# batting[\"Player\"] = batting[\"Player\"].apply(remove_periods)\n",
    "# print(len(batting[\"Player\"].unique()))\n",
    "# print((contracts[contracts[\"Player\"].isin(batting[\"Player\"]) == False ])[\"Player\"])\n",
    "# for player in contracts[\"Player\"].unique() :\n",
    "#     if((batting[\"Player\"].unique()).contains(player) == False):\n",
    "#         print(player)\n",
    "# print(contracts[\"Player\"].unique().isin((batting[\"Player\"].unique())))\n",
    "# batting = batting[batting.isin(contracts[\"Player\"])]\n",
    "batting.head()\n",
    "# batting[\"Player\"].value_counts()"
   ]
  }
 ],
 "metadata": {
  "kernelspec": {
   "display_name": "Python 3.9.7 ('base')",
   "language": "python",
   "name": "python3"
  },
  "language_info": {
   "codemirror_mode": {
    "name": "ipython",
    "version": 3
   },
   "file_extension": ".py",
   "mimetype": "text/x-python",
   "name": "python",
   "nbconvert_exporter": "python",
   "pygments_lexer": "ipython3",
   "version": "3.9.7"
  },
  "vscode": {
   "interpreter": {
    "hash": "17148b80536a9518b3c217100db44d9bbf858b2c0861d2db315eb0a1b18cdf91"
   }
  }
 },
 "nbformat": 4,
 "nbformat_minor": 2
}
