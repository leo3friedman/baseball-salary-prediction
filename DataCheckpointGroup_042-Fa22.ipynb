{
 "cells": [
  {
   "cell_type": "markdown",
   "metadata": {},
   "source": [
    "# COGS 108 - Data Checkpoint"
   ]
  },
  {
   "cell_type": "markdown",
   "metadata": {},
   "source": [
    "# Names\n",
    "\n",
    "- Jake Heinlein\n",
    "- Nathan Tripp\n",
    "- Naomi Chin\n",
    "- Leo Friedman\n",
    "- Dante Tanjuatco"
   ]
  },
  {
   "cell_type": "markdown",
   "metadata": {},
   "source": [
    "<a id='research_question'></a>\n",
    "# Research Question"
   ]
  },
  {
   "cell_type": "markdown",
   "metadata": {},
   "source": [
    "*Is the combination of an mlb free agents age and batting performance, measured by batting average and on base plus slugging percentage, indicative of their yearly salary, and if so, can an algorithm predict a players future contract based on these factors?*"
   ]
  },
  {
   "cell_type": "markdown",
   "metadata": {},
   "source": [
    "# Dataset(s)"
   ]
  },
  {
   "cell_type": "markdown",
   "metadata": {},
   "source": [
    "*Fill in your dataset information here*\n",
    "\n",
    "(Copy this information for each dataset)\n",
    "- Dataset Name:\n",
    "- Link to the dataset:\n",
    "- Number of observations:\n",
    "\n",
    "The first data set looks at MLB players stats by year (https://www.rotowire.com/baseball/stats.php). We are using player age, batting average, and on base plus slugging percentage data. We are taking datasets from 2010-2022. From 2010-2022, the datasets contain 671, 681, 687, 685, 698, 693, 677, 675, 689, 694, 612, 734, and 772 observations, respectively. We will call the concatenation of these datasets 'batting'.\n",
    "\n",
    "The second dataset shows free agent contracts (**insert link**), which we are using to find players yearly salary. The datasets contain... observations. We will call the concatenation of these datasets 'contracts'.\n",
    "\n",
    "We are looking at players who are included in both sets, comparing batting performance along with age to their new contracted yearly salary as free agents."
   ]
  },
  {
   "cell_type": "markdown",
   "metadata": {},
   "source": [
    "# Setup"
   ]
  },
  {
   "cell_type": "code",
   "execution_count": null,
   "metadata": {},
   "outputs": [],
   "source": [
    "# import packages and setup visuals\n",
    "import pandas as pd\n",
    "# pd.set_option('display.max_rows', None)\n",
    "import os"
   ]
  },
  {
   "cell_type": "code",
   "execution_count": null,
   "metadata": {},
   "outputs": [],
   "source": [
    "directory = 'data/contracts/'\n",
    "filepaths = [directory + filename for filename in os.listdir(directory)]\n",
    "contracts = pd.concat([pd.read_csv(filepath) for filepath in filepaths])\n",
    "print('contracts shape: ', contracts.shape)\n",
    "\n",
    "people = pd.read_csv('data/batting/People.csv')\n",
    "batting = pd.read_csv('data/batting/Batting.csv')\n",
    "print('contracts shape: ', people.shape)\n",
    "print('batting shape: ', batting.shape)"
   ]
  },
  {
   "cell_type": "markdown",
   "metadata": {},
   "source": [
    "# Data Cleaning"
   ]
  },
  {
   "cell_type": "markdown",
   "metadata": {},
   "source": [
    "##### Part 1: Cleaning contacts dataframe"
   ]
  },
  {
   "cell_type": "code",
   "execution_count": null,
   "metadata": {},
   "outputs": [],
   "source": [
    "contracts = contracts[['Player','Pos\\'n', 'Age', 'Term', 'AAV']]\n",
    "contracts = contracts[contracts[\"Pos'n\"].str.contains(\"hp\") == False]\n",
    "contracts = contracts.dropna(axis=0)\n",
    "contracts = contracts.drop('Pos\\'n',axis=1)\n",
    "contracts"
   ]
  },
  {
   "cell_type": "code",
   "execution_count": null,
   "metadata": {},
   "outputs": [],
   "source": [
    "def salary_to_int(str_in):\n",
    "    return int(str_in.replace('$','').replace(',',''))\n",
    "\n",
    "def term_to_year(str_in):\n",
    "    return int(str(str_in).split('-')[0])"
   ]
  },
  {
   "cell_type": "code",
   "execution_count": null,
   "metadata": {},
   "outputs": [],
   "source": [
    "contracts['AAV'] = contracts['AAV'].apply(salary_to_int)\n",
    "contracts['Term'] = contracts['Term'].apply(term_to_year)\n",
    "contracts"
   ]
  },
  {
   "cell_type": "code",
   "execution_count": null,
   "metadata": {},
   "outputs": [],
   "source": [
    "contracts.columns = ['playerName','playerAge','year','yearSalary']\n",
    "contracts.head()"
   ]
  },
  {
   "cell_type": "code",
   "execution_count": null,
   "metadata": {},
   "outputs": [],
   "source": [
    "# create functions\n",
    "\n",
    "# remove dollar sign and commas from salary string, convert to integer\n",
    "def salary_to_int(str_in):\n",
    "    str_in = str_in.replace('$','')\n",
    "    str_in = str_in.replace(',','')\n",
    "    output = int(str_in)\n",
    "    return output\n",
    "\n",
    "# turn 'LastName, FirstName' into 'FirstName LastName'\n",
    "def standardize_name(str_in):\n",
    "    # str_in = str_in.replace(',', '')\n",
    "    # str_in = remove_periods(str_in)\n",
    "    name_list = str_in.split(', ')\n",
    "    output = name_list[1] + ' ' + name_list[0]\n",
    "    return output\n",
    "\n",
    "# change the term length to just the starting year of the term\n",
    "def term_to_year(str_in):\n",
    "    term_list = str(str_in).split('-')\n",
    "    output = term_list[0]\n",
    "    return output\n",
    "\n",
    "# remove the periods from names\n",
    "def remove_periods(str_in):\n",
    "    output = str_in.replace('.','')\n",
    "    return output"
   ]
  },
  {
   "cell_type": "markdown",
   "metadata": {},
   "source": [
    "##### Part 2: Clean batting dataframe "
   ]
  },
  {
   "cell_type": "code",
   "execution_count": null,
   "metadata": {},
   "outputs": [],
   "source": [
    "def calc_avg(h, ab):\n",
    "    return h / ab\n",
    "\n",
    "def calc_obp(h, bb, hbp, ab, sf):\n",
    "    return (h + bb + hbp) / (ab + bb + sf + hbp)\n",
    "\n",
    "def calc_tb(h, two_b, three_b, hr):\n",
    "    singles = h - two_b - three_b - hr\n",
    "    return singles + two_b * 2 + three_b * 3 + hr * 4\n",
    "\n",
    "def calc_slg(tb, ab):\n",
    "    return tb / ab\n",
    "\n",
    "def calc_obs(obp, slg):\n",
    "    return obp + slg"
   ]
  },
  {
   "cell_type": "code",
   "execution_count": null,
   "metadata": {},
   "outputs": [],
   "source": [
    "avg = calc_avg(h=batting['H'], ab=batting['AB'])\n",
    "batting['AVG'] = round(avg, 3)\n",
    "\n",
    "obp = calc_obp(h=batting['H'], bb=batting['BB'], hbp=batting['HBP'], ab=batting['AB'], sf=batting['SF'])\n",
    "tb = calc_tb(h=batting['H'], two_b=batting['2B'], three_b=batting['3B'], hr=batting['HR'])\n",
    "slg = calc_slg(tb, batting['AB'])\n",
    "obs = calc_obs(obp, slg)\n",
    "batting['OBS'] = round(obs, 3)\n",
    "batting.head()"
   ]
  },
  {
   "cell_type": "markdown",
   "metadata": {},
   "source": [
    "Describe your data cleaning steps here."
   ]
  },
  {
   "cell_type": "code",
   "execution_count": null,
   "metadata": {},
   "outputs": [],
   "source": [
    "## YOUR CODE HERE\n",
    "## FEEL FREE TO ADD MULTIPLE CELLS PER SECTION\n",
    "\n",
    "# clean MLB contract (salary) data\n",
    "\n",
    "# access the directory with MLB contracts\n",
    "directory = 'data/contracts'\n",
    "# initialize list of contract filenames\n",
    "filenames = []\n",
    "# concatenate contracts from 2011-2022\n",
    "for filename in os.listdir(directory):\n",
    "    filenames.append(str(directory) + \"/\" + filename)\n",
    "contracts = pd.concat([pd.read_csv(f) for f in filenames])\n",
    "# keep player, position, age, term, and AAV columns\n",
    "contracts = contracts[[\"Player\",\"Pos'n\",\"Age\",\"Term\",\"AAV\"]]\n",
    "# remove pitcher information\n",
    "contracts = contracts[contracts[\"Pos'n\"].str.contains(\"hp\") == False]\n",
    "# remove any rows with empty data\n",
    "contracts = contracts[contracts[\"AAV\"].isna() == False]\n",
    "# remove $1 contracts (0 year contracts)\n",
    "contracts = contracts[contracts[\"AAV\"] != \"$1\"]\n",
    "# change AAV to an integer\n",
    "contracts[\"AAV\"] = contracts[\"AAV\"].apply(salary_to_int)\n",
    "# reset the indices\n",
    "contracts = contracts.reset_index(drop = True)\n",
    "# rename AAV (Average Annual Value) to Yearly Salary\n",
    "contracts = contracts.rename({\"AAV\":\"Yearly Salary\"}, axis=1)\n",
    "# turn 'LastName, FirstName' into 'FirstName LastName'\n",
    "contracts[\"Player\"] = contracts[\"Player\"].apply(standardize_name)\n",
    "# remove all columns except for selected ones\n",
    "contracts = contracts[[\"Player\",\"Term\",\"Yearly Salary\"]]\n",
    "# change the term length to just the starting year of the term\n",
    "contracts[\"Term\"] = contracts[\"Term\"].apply(term_to_year)\n",
    "# rename 'term_to_year' to 'Year'\n",
    "contracts = contracts.rename({\"Term\":\"Year\"}, axis = 1)\n",
    "# sort the dataframe by year\n",
    "contracts = contracts.sort_values(by=\"Year\")\n",
    "# cleaned contract dataframe outputs\n",
    "print(\"The first year in the dataset is \" + contracts.iloc[1,1])\n",
    "print(\"There are \" + str(len(contracts[\"Player\"].unique())) + \" unique players in the contract data\")\n",
    "display(contracts.head())"
   ]
  },
  {
   "cell_type": "code",
   "execution_count": null,
   "metadata": {},
   "outputs": [],
   "source": [
    "# clean MLB batting data\n",
    "\n",
    "# access the directory with MLB batting data\n",
    "directory = 'data/batting'\n",
    "filenames = []\n",
    "dataframes = []\n",
    "# add the year of corresponding data to each dataset\n",
    "for filename in os.listdir(directory):\n",
    "    year = filename[:4]\n",
    "    filepath = str(directory) + \"/\" + filename\n",
    "    filenames.append(filepath)\n",
    "    df = pd.read_csv(filepath)\n",
    "    df['Year'] = year\n",
    "    dataframes.append(df)\n",
    "# concatenate 2010-2022 datasets\n",
    "batting = pd.concat(dataframes)\n",
    "# sort dataframe by year\n",
    "batting = batting.sort_values(by = \"Year\")\n",
    "# remove all columns except for selected ones\n",
    "batting = batting[[\"Player\", \"Pos\", \"Age\", \"AVG\", \"OPS\", \"Year\"]]\n",
    "# only keep the players that also appear in the contracts dataframe\n",
    "batting = batting[batting[\"Player\"].isin(contracts[\"Player\"])]\n",
    "# batting[\"Player\"] = batting[\"Player\"].apply(remove_periods)\n",
    "# print(len(batting[\"Player\"].unique()))\n",
    "# print((contracts[contracts[\"Player\"].isin(batting[\"Player\"]) == False ])[\"Player\"])\n",
    "# for player in contracts[\"Player\"].unique() :\n",
    "#     if((batting[\"Player\"].unique()).contains(player) == False):\n",
    "#         print(player)\n",
    "# print(contracts[\"Player\"].unique().isin((batting[\"Player\"].unique())))\n",
    "# batting = batting[batting.isin(contracts[\"Player\"])]\n",
    "batting.head()\n",
    "# batting[\"Player\"].value_counts()"
   ]
  }
 ],
 "metadata": {
  "kernelspec": {
   "display_name": "Python 3.9.7 ('base')",
   "language": "python",
   "name": "python3"
  },
  "language_info": {
   "codemirror_mode": {
    "name": "ipython",
    "version": 3
   },
   "file_extension": ".py",
   "mimetype": "text/x-python",
   "name": "python",
   "nbconvert_exporter": "python",
   "pygments_lexer": "ipython3",
   "version": "3.9.7"
  },
  "vscode": {
   "interpreter": {
    "hash": "17148b80536a9518b3c217100db44d9bbf858b2c0861d2db315eb0a1b18cdf91"
   }
  }
 },
 "nbformat": 4,
 "nbformat_minor": 2
}
