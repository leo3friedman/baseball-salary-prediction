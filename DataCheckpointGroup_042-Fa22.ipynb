{
 "cells": [
  {
   "cell_type": "markdown",
   "metadata": {},
   "source": [
    "# COGS 108 - Data Checkpoint"
   ]
  },
  {
   "cell_type": "markdown",
   "metadata": {},
   "source": [
    "# Names\n",
    "\n",
    "- Jake Heinlein\n",
    "- Nathan Tripp\n",
    "- Naomi Chin\n",
    "- Leo Friedman\n",
    "- Dante Tanjuatco"
   ]
  },
  {
   "cell_type": "markdown",
   "metadata": {},
   "source": [
    "<a id='research_question'></a>\n",
    "# Research Question"
   ]
  },
  {
   "cell_type": "markdown",
   "metadata": {},
   "source": [
    "*Is the combination of an mlb free agents age and batting performance, measured by batting average and on base plus slugging percentage, indicative of their yearly salary, and if so, can an algorithm predict a players future contract based on these factors?*"
   ]
  },
  {
   "cell_type": "markdown",
   "metadata": {},
   "source": [
    "# Dataset(s)"
   ]
  },
  {
   "cell_type": "markdown",
   "metadata": {},
   "source": [
    "*Fill in your dataset information here*\n",
    "\n",
    "(Copy this information for each dataset)\n",
    "- Dataset Name:\n",
    "- Link to the dataset:\n",
    "- Number of observations:\n",
    "\n",
    "The first data set looks at MLB players stats by year, which we are using to look at players age, batting average, and on base plus slugging percentage. The second dataset shows free agent contracts, which we will use to find players yearly salary.\n",
    "\n",
    "We are looking at players who are included in both sets, comparing batting performance along with age to their yearly salary."
   ]
  },
  {
   "cell_type": "code",
   "execution_count": null,
   "metadata": {},
   "outputs": [],
   "source": []
  },
  {
   "cell_type": "markdown",
   "metadata": {},
   "source": [
    "# Setup"
   ]
  },
  {
   "cell_type": "code",
   "execution_count": 1,
   "metadata": {},
   "outputs": [],
   "source": [
    "\n",
    "import pandas as pd\n",
    "pd.set_option('display.max_rows', None)\n",
    "import os"
   ]
  },
  {
   "cell_type": "code",
   "execution_count": 2,
   "metadata": {},
   "outputs": [],
   "source": [
    "def salary_to_int(str_in):\n",
    "    str_in = str_in.replace('$','')\n",
    "    str_in = str_in.replace(',','')\n",
    "    output = int(str_in)\n",
    "    return output\n",
    "\n",
    "def standardize_name(str_in):\n",
    "    # str_in = str_in.replace(',', '')\n",
    "    # str_in = remove_periods(str_in)\n",
    "    name_list = str_in.split(', ')\n",
    "    output = name_list[1] + ' ' + name_list[0]\n",
    "    return output\n",
    "\n",
    "def term_to_year(str_in):\n",
    "    term_list = str(str_in).split('-')\n",
    "    output = term_list[0]\n",
    "    return output\n",
    "\n",
    "def remove_periods(str_in):\n",
    "    output = str_in.replace('.','')\n",
    "    return output"
   ]
  },
  {
   "cell_type": "code",
   "execution_count": 3,
   "metadata": {},
   "outputs": [
    {
     "name": "stdout",
     "output_type": "stream",
     "text": [
      "2011\n",
      "339\n"
     ]
    },
    {
     "data": {
      "text/html": [
       "<div>\n",
       "<style scoped>\n",
       "    .dataframe tbody tr th:only-of-type {\n",
       "        vertical-align: middle;\n",
       "    }\n",
       "\n",
       "    .dataframe tbody tr th {\n",
       "        vertical-align: top;\n",
       "    }\n",
       "\n",
       "    .dataframe thead th {\n",
       "        text-align: right;\n",
       "    }\n",
       "</style>\n",
       "<table border=\"1\" class=\"dataframe\">\n",
       "  <thead>\n",
       "    <tr style=\"text-align: right;\">\n",
       "      <th></th>\n",
       "      <th>Player</th>\n",
       "      <th>Year</th>\n",
       "      <th>Yearly Salary</th>\n",
       "    </tr>\n",
       "  </thead>\n",
       "  <tbody>\n",
       "    <tr>\n",
       "      <th>345</th>\n",
       "      <td>Jerry Hairston</td>\n",
       "      <td>2011</td>\n",
       "      <td>2000000</td>\n",
       "    </tr>\n",
       "    <tr>\n",
       "      <th>313</th>\n",
       "      <td>Adam Dunn</td>\n",
       "      <td>2011</td>\n",
       "      <td>14000000</td>\n",
       "    </tr>\n",
       "    <tr>\n",
       "      <th>312</th>\n",
       "      <td>Adrian Beltre</td>\n",
       "      <td>2011</td>\n",
       "      <td>16000000</td>\n",
       "    </tr>\n",
       "    <tr>\n",
       "      <th>311</th>\n",
       "      <td>Jayson Werth</td>\n",
       "      <td>2011</td>\n",
       "      <td>18000000</td>\n",
       "    </tr>\n",
       "    <tr>\n",
       "      <th>310</th>\n",
       "      <td>Carl Crawford</td>\n",
       "      <td>2011</td>\n",
       "      <td>20285714</td>\n",
       "    </tr>\n",
       "  </tbody>\n",
       "</table>\n",
       "</div>"
      ],
      "text/plain": [
       "             Player  Year  Yearly Salary\n",
       "345  Jerry Hairston  2011        2000000\n",
       "313       Adam Dunn  2011       14000000\n",
       "312   Adrian Beltre  2011       16000000\n",
       "311    Jayson Werth  2011       18000000\n",
       "310   Carl Crawford  2011       20285714"
      ]
     },
     "metadata": {},
     "output_type": "display_data"
    }
   ],
   "source": [
    "# access the directory with MLB contracts\n",
    "directory = 'data/contracts'\n",
    "# initialize list of contract filenames\n",
    "filenames = []\n",
    "# concatenate contracts from 2011-2022\n",
    "for filename in os.listdir(directory):\n",
    "    filenames.append(str(directory) + \"/\" + filename)\n",
    "contracts = pd.concat([pd.read_csv(f) for f in filenames])\n",
    "# keep player, position, age, term, and AAV columns\n",
    "contracts = contracts[[\"Player\",\"Pos'n\",\"Age\",\"Term\",\"AAV\"]]\n",
    "# remove pitcher information\n",
    "contracts = contracts[contracts[\"Pos'n\"].str.contains(\"hp\") == False]\n",
    "# remove any rows with empty data\n",
    "contracts = contracts[contracts[\"AAV\"].isna() == False]\n",
    "# remove $1 contracts (0 year contracts)\n",
    "contracts = contracts[contracts[\"AAV\"] != \"$1\"]\n",
    "# change AAV to an integer\n",
    "contracts[\"AAV\"] = contracts[\"AAV\"].apply(salary_to_int)\n",
    "# reset the indices\n",
    "contracts = contracts.reset_index(drop = True)\n",
    "# rename AAV (Average Annual Value) to Yearly Salary\n",
    "contracts = contracts.rename({\"AAV\":\"Yearly Salary\"}, axis=1)\n",
    "contracts[\"Player\"] = contracts[\"Player\"].apply(standardize_name)\n",
    "contracts = contracts[[\"Player\",\"Term\",\"Yearly Salary\"]]\n",
    "contracts[\"Term\"] = contracts[\"Term\"].apply(term_to_year)\n",
    "contracts = contracts.rename({\"Term\":\"Year\"}, axis = 1)\n",
    "contracts = contracts.sort_values(by=\"Year\")\n",
    "print(contracts.iloc[1,1])\n",
    "print(len(contracts[\"Player\"].unique()))\n",
    "display(contracts.head())"
   ]
  },
  {
   "cell_type": "code",
   "execution_count": 4,
   "metadata": {},
   "outputs": [
    {
     "data": {
      "text/html": [
       "<div>\n",
       "<style scoped>\n",
       "    .dataframe tbody tr th:only-of-type {\n",
       "        vertical-align: middle;\n",
       "    }\n",
       "\n",
       "    .dataframe tbody tr th {\n",
       "        vertical-align: top;\n",
       "    }\n",
       "\n",
       "    .dataframe thead th {\n",
       "        text-align: right;\n",
       "    }\n",
       "</style>\n",
       "<table border=\"1\" class=\"dataframe\">\n",
       "  <thead>\n",
       "    <tr style=\"text-align: right;\">\n",
       "      <th></th>\n",
       "      <th>Player</th>\n",
       "      <th>Pos</th>\n",
       "      <th>Age</th>\n",
       "      <th>AVG</th>\n",
       "      <th>OPS</th>\n",
       "      <th>Year</th>\n",
       "    </tr>\n",
       "  </thead>\n",
       "  <tbody>\n",
       "    <tr>\n",
       "      <th>0</th>\n",
       "      <td>Ichiro Suzuki</td>\n",
       "      <td>OF</td>\n",
       "      <td>48</td>\n",
       "      <td>0.315</td>\n",
       "      <td>0.753</td>\n",
       "      <td>2010</td>\n",
       "    </tr>\n",
       "    <tr>\n",
       "      <th>448</th>\n",
       "      <td>Jorge Cantu</td>\n",
       "      <td>3B</td>\n",
       "      <td>40</td>\n",
       "      <td>0.235</td>\n",
       "      <td>0.606</td>\n",
       "      <td>2010</td>\n",
       "    </tr>\n",
       "    <tr>\n",
       "      <th>451</th>\n",
       "      <td>Mark DeRosa</td>\n",
       "      <td>OF</td>\n",
       "      <td>47</td>\n",
       "      <td>0.194</td>\n",
       "      <td>0.537</td>\n",
       "      <td>2010</td>\n",
       "    </tr>\n",
       "    <tr>\n",
       "      <th>457</th>\n",
       "      <td>Pat Burrell</td>\n",
       "      <td>OF</td>\n",
       "      <td>46</td>\n",
       "      <td>0.202</td>\n",
       "      <td>0.625</td>\n",
       "      <td>2010</td>\n",
       "    </tr>\n",
       "    <tr>\n",
       "      <th>458</th>\n",
       "      <td>Lucas Duda</td>\n",
       "      <td>1B</td>\n",
       "      <td>36</td>\n",
       "      <td>0.202</td>\n",
       "      <td>0.678</td>\n",
       "      <td>2010</td>\n",
       "    </tr>\n",
       "  </tbody>\n",
       "</table>\n",
       "</div>"
      ],
      "text/plain": [
       "            Player Pos  Age    AVG    OPS  Year\n",
       "0    Ichiro Suzuki  OF   48  0.315  0.753  2010\n",
       "448    Jorge Cantu  3B   40  0.235  0.606  2010\n",
       "451    Mark DeRosa  OF   47  0.194  0.537  2010\n",
       "457    Pat Burrell  OF   46  0.202  0.625  2010\n",
       "458     Lucas Duda  1B   36  0.202  0.678  2010"
      ]
     },
     "execution_count": 4,
     "metadata": {},
     "output_type": "execute_result"
    }
   ],
   "source": [
    "directory = 'data/batting'\n",
    "filenames = []\n",
    "dataframes = []\n",
    "for filename in os.listdir(directory):\n",
    "    year = filename[:4]\n",
    "    filepath = str(directory) + \"/\" + filename\n",
    "    filenames.append(filepath)\n",
    "    df = pd.read_csv(filepath)\n",
    "    df['Year'] = year\n",
    "    dataframes.append(df)\n",
    "batting = pd.concat(dataframes)\n",
    "batting = batting.sort_values(by = \"Year\")\n",
    "batting = batting[[\"Player\", \"Pos\", \"Age\", \"AVG\", \"OPS\", \"Year\"]]\n",
    "batting = batting[batting[\"Player\"].isin(contracts[\"Player\"])]\n",
    "# batting[\"Player\"] = batting[\"Player\"].apply(remove_periods)\n",
    "# print(len(batting[\"Player\"].unique()))\n",
    "# print((contracts[contracts[\"Player\"].isin(batting[\"Player\"]) == False ])[\"Player\"])\n",
    "# for player in contracts[\"Player\"].unique() :\n",
    "#     if((batting[\"Player\"].unique()).contains(player) == False):\n",
    "#         print(player)\n",
    "# print(contracts[\"Player\"].unique().isin((batting[\"Player\"].unique())))\n",
    "# batting = batting[batting.isin(contracts[\"Player\"])]\n",
    "batting.head()\n",
    "# batting[\"Player\"].value_counts()"
   ]
  },
  {
   "cell_type": "code",
   "execution_count": null,
   "metadata": {},
   "outputs": [],
   "source": []
  },
  {
   "cell_type": "markdown",
   "metadata": {},
   "source": [
    "# Data Cleaning"
   ]
  },
  {
   "cell_type": "markdown",
   "metadata": {},
   "source": [
    "Describe your data cleaning steps here."
   ]
  },
  {
   "cell_type": "code",
   "execution_count": 5,
   "metadata": {},
   "outputs": [],
   "source": [
    "## YOUR CODE HERE\n",
    "## FEEL FREE TO ADD MULTIPLE CELLS PER SECTION"
   ]
  }
 ],
 "metadata": {
  "kernelspec": {
   "display_name": "Python 3.10.3 64-bit ('3.10.3')",
   "language": "python",
   "name": "python3"
  },
  "language_info": {
   "codemirror_mode": {
    "name": "ipython",
    "version": 3
   },
   "file_extension": ".py",
   "mimetype": "text/x-python",
   "name": "python",
   "nbconvert_exporter": "python",
   "pygments_lexer": "ipython3",
   "version": "3.10.3"
  },
  "vscode": {
   "interpreter": {
    "hash": "3613003ef70dec723b60e148f2d9bfe5d5cd26b5333f3a08a83dcf09676d74c5"
   }
  }
 },
 "nbformat": 4,
 "nbformat_minor": 2
}
