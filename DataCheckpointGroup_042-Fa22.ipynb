{
 "cells": [
  {
   "cell_type": "markdown",
   "metadata": {},
   "source": [
    "# COGS 108 - Data Checkpoint"
   ]
  },
  {
   "cell_type": "markdown",
   "metadata": {},
   "source": [
    "# Names\n",
    "\n",
    "- Jake Heinlein\n",
    "- Nathan Tripp\n",
    "- Naomi Chin\n",
    "- Leo Friedman\n",
    "- Dante Tanjuatco"
   ]
  },
  {
   "cell_type": "markdown",
   "metadata": {},
   "source": [
    "<a id='research_question'></a>\n",
    "# Research Question"
   ]
  },
  {
   "cell_type": "markdown",
   "metadata": {},
   "source": [
    "*Is the combination of an mlb free agents age and batting performance, measured by batting average and on base plus slugging percentage, indicative of their yearly salary, and if so, can an algorithm predict a players future contract based on these factors?*"
   ]
  },
  {
   "cell_type": "markdown",
   "metadata": {},
   "source": [
    "# Dataset(s)"
   ]
  },
  {
   "cell_type": "markdown",
   "metadata": {},
   "source": [
    "*Fill in your dataset information here*\n",
    "\n",
    "(Copy this information for each dataset)\n",
    "- Dataset Name:\n",
    "- Link to the dataset:\n",
    "- Number of observations:\n",
    "\n",
    "The first data set looks at MLB players stats by year (https://www.rotowire.com/baseball/stats.php). We are using player age, batting average, and on base plus slugging percentage data. We are taking datasets from 2010-2022. From 2010-2022, the datasets contain 671, 681, 687, 685, 698, 693, 677, 675, 689, 694, 612, 734, and 772 observations, respectively. We will call the concatenation of these datasets 'batting'.\n",
    "\n",
    "The second dataset shows free agent contracts (**insert link**), which we are using to find players yearly salary. The datasets contain... observations. We will call the concatenation of these datasets 'contracts'.\n",
    "\n",
    "We are looking at players who are included in both sets, comparing batting performance along with age to their new contracted yearly salary as free agents."
   ]
  },
  {
   "cell_type": "markdown",
   "metadata": {},
   "source": [
    "# Setup"
   ]
  },
  {
   "cell_type": "code",
   "execution_count": 858,
   "metadata": {},
   "outputs": [],
   "source": [
    "# import packages and setup visuals\n",
    "import pandas as pd\n",
    "# pd.set_option('display.max_rows', None)\n",
    "import os"
   ]
  },
  {
   "cell_type": "code",
   "execution_count": 859,
   "metadata": {},
   "outputs": [
    {
     "name": "stdout",
     "output_type": "stream",
     "text": [
      "contracts shape:  (4996, 18)\n",
      "contracts shape:  (20370, 24)\n",
      "batting shape:  (110495, 22)\n"
     ]
    }
   ],
   "source": [
    "directory = 'data/contracts/'\n",
    "filepaths = [directory + filename for filename in os.listdir(directory)]\n",
    "contracts = pd.concat([pd.read_csv(filepath) for filepath in filepaths])\n",
    "print('contracts shape: ', contracts.shape)\n",
    "\n",
    "people = pd.read_csv('data/batting/People.csv')\n",
    "batting = pd.read_csv('data/batting/Batting.csv')\n",
    "print('contracts shape: ', people.shape)\n",
    "print('batting shape: ', batting.shape)"
   ]
  },
  {
   "cell_type": "markdown",
   "metadata": {},
   "source": [
    "# Data Cleaning"
   ]
  },
  {
   "cell_type": "markdown",
   "metadata": {},
   "source": [
    "##### Part 1: Cleaning contacts dataframe"
   ]
  },
  {
   "cell_type": "code",
   "execution_count": 860,
   "metadata": {},
   "outputs": [
    {
     "data": {
      "text/html": [
       "<div>\n",
       "<style scoped>\n",
       "    .dataframe tbody tr th:only-of-type {\n",
       "        vertical-align: middle;\n",
       "    }\n",
       "\n",
       "    .dataframe tbody tr th {\n",
       "        vertical-align: top;\n",
       "    }\n",
       "\n",
       "    .dataframe thead th {\n",
       "        text-align: right;\n",
       "    }\n",
       "</style>\n",
       "<table border=\"1\" class=\"dataframe\">\n",
       "  <thead>\n",
       "    <tr style=\"text-align: right;\">\n",
       "      <th></th>\n",
       "      <th>Player</th>\n",
       "      <th>Age</th>\n",
       "      <th>Term</th>\n",
       "      <th>AAV</th>\n",
       "    </tr>\n",
       "  </thead>\n",
       "  <tbody>\n",
       "    <tr>\n",
       "      <th>0</th>\n",
       "      <td>Cano, Robinson</td>\n",
       "      <td>31.0</td>\n",
       "      <td>2014-23</td>\n",
       "      <td>$24,000,000</td>\n",
       "    </tr>\n",
       "    <tr>\n",
       "      <th>1</th>\n",
       "      <td>Ellsbury, Jacoby</td>\n",
       "      <td>30.0</td>\n",
       "      <td>2014-20</td>\n",
       "      <td>$21,857,143</td>\n",
       "    </tr>\n",
       "    <tr>\n",
       "      <th>2</th>\n",
       "      <td>Choo, Shin-Soo</td>\n",
       "      <td>31.0</td>\n",
       "      <td>2014-20</td>\n",
       "      <td>$18,571,429</td>\n",
       "    </tr>\n",
       "    <tr>\n",
       "      <th>3</th>\n",
       "      <td>McCann, Brian</td>\n",
       "      <td>30.0</td>\n",
       "      <td>2014-18</td>\n",
       "      <td>$17,000,000</td>\n",
       "    </tr>\n",
       "    <tr>\n",
       "      <th>4</th>\n",
       "      <td>Granderson, Curtis</td>\n",
       "      <td>33.0</td>\n",
       "      <td>2014-17</td>\n",
       "      <td>$15,000,000</td>\n",
       "    </tr>\n",
       "    <tr>\n",
       "      <th>...</th>\n",
       "      <td>...</td>\n",
       "      <td>...</td>\n",
       "      <td>...</td>\n",
       "      <td>...</td>\n",
       "    </tr>\n",
       "    <tr>\n",
       "      <th>66</th>\n",
       "      <td>Chisenhall, Lonnie</td>\n",
       "      <td>30.0</td>\n",
       "      <td>2019</td>\n",
       "      <td>$2,750,000</td>\n",
       "    </tr>\n",
       "    <tr>\n",
       "      <th>70</th>\n",
       "      <td>Maldonado, Martin</td>\n",
       "      <td>32.0</td>\n",
       "      <td>2019</td>\n",
       "      <td>$2,500,000</td>\n",
       "    </tr>\n",
       "    <tr>\n",
       "      <th>75</th>\n",
       "      <td>McCann, Brian</td>\n",
       "      <td>35.0</td>\n",
       "      <td>2019</td>\n",
       "      <td>$2,000,000</td>\n",
       "    </tr>\n",
       "    <tr>\n",
       "      <th>77</th>\n",
       "      <td>Harrison, Josh</td>\n",
       "      <td>31.0</td>\n",
       "      <td>2019</td>\n",
       "      <td>$2,000,000</td>\n",
       "    </tr>\n",
       "    <tr>\n",
       "      <th>78</th>\n",
       "      <td>Walker, Neil</td>\n",
       "      <td>33.0</td>\n",
       "      <td>2019</td>\n",
       "      <td>$2,000,000</td>\n",
       "    </tr>\n",
       "  </tbody>\n",
       "</table>\n",
       "<p>1427 rows × 4 columns</p>\n",
       "</div>"
      ],
      "text/plain": [
       "                Player   Age     Term          AAV\n",
       "0       Cano, Robinson  31.0  2014-23  $24,000,000\n",
       "1     Ellsbury, Jacoby  30.0  2014-20  $21,857,143\n",
       "2       Choo, Shin-Soo  31.0  2014-20  $18,571,429\n",
       "3        McCann, Brian  30.0  2014-18  $17,000,000\n",
       "4   Granderson, Curtis  33.0  2014-17  $15,000,000\n",
       "..                 ...   ...      ...          ...\n",
       "66  Chisenhall, Lonnie  30.0     2019   $2,750,000\n",
       "70   Maldonado, Martin  32.0     2019   $2,500,000\n",
       "75       McCann, Brian  35.0     2019   $2,000,000\n",
       "77      Harrison, Josh  31.0     2019   $2,000,000\n",
       "78        Walker, Neil  33.0     2019   $2,000,000\n",
       "\n",
       "[1427 rows x 4 columns]"
      ]
     },
     "execution_count": 860,
     "metadata": {},
     "output_type": "execute_result"
    }
   ],
   "source": [
    "contracts = contracts[['Player','Pos\\'n', 'Age', 'Term', 'AAV']]\n",
    "contracts = contracts[contracts[\"Pos'n\"].str.contains(\"hp\") == False]\n",
    "contracts = contracts.dropna(axis=0)\n",
    "contracts = contracts.drop('Pos\\'n',axis=1)\n",
    "contracts"
   ]
  },
  {
   "cell_type": "code",
   "execution_count": 861,
   "metadata": {},
   "outputs": [],
   "source": [
    "def salary_to_int(str_in):\n",
    "    return int(str_in.replace('$','').replace(',',''))\n",
    "\n",
    "def term_to_year(str_in):\n",
    "    return int(str(str_in).split('-')[0])"
   ]
  },
  {
   "cell_type": "code",
   "execution_count": 862,
   "metadata": {},
   "outputs": [
    {
     "data": {
      "text/html": [
       "<div>\n",
       "<style scoped>\n",
       "    .dataframe tbody tr th:only-of-type {\n",
       "        vertical-align: middle;\n",
       "    }\n",
       "\n",
       "    .dataframe tbody tr th {\n",
       "        vertical-align: top;\n",
       "    }\n",
       "\n",
       "    .dataframe thead th {\n",
       "        text-align: right;\n",
       "    }\n",
       "</style>\n",
       "<table border=\"1\" class=\"dataframe\">\n",
       "  <thead>\n",
       "    <tr style=\"text-align: right;\">\n",
       "      <th></th>\n",
       "      <th>Player</th>\n",
       "      <th>Age</th>\n",
       "      <th>Term</th>\n",
       "      <th>AAV</th>\n",
       "    </tr>\n",
       "  </thead>\n",
       "  <tbody>\n",
       "    <tr>\n",
       "      <th>0</th>\n",
       "      <td>Cano, Robinson</td>\n",
       "      <td>31.0</td>\n",
       "      <td>2014</td>\n",
       "      <td>24000000</td>\n",
       "    </tr>\n",
       "    <tr>\n",
       "      <th>1</th>\n",
       "      <td>Ellsbury, Jacoby</td>\n",
       "      <td>30.0</td>\n",
       "      <td>2014</td>\n",
       "      <td>21857143</td>\n",
       "    </tr>\n",
       "    <tr>\n",
       "      <th>2</th>\n",
       "      <td>Choo, Shin-Soo</td>\n",
       "      <td>31.0</td>\n",
       "      <td>2014</td>\n",
       "      <td>18571429</td>\n",
       "    </tr>\n",
       "    <tr>\n",
       "      <th>3</th>\n",
       "      <td>McCann, Brian</td>\n",
       "      <td>30.0</td>\n",
       "      <td>2014</td>\n",
       "      <td>17000000</td>\n",
       "    </tr>\n",
       "    <tr>\n",
       "      <th>4</th>\n",
       "      <td>Granderson, Curtis</td>\n",
       "      <td>33.0</td>\n",
       "      <td>2014</td>\n",
       "      <td>15000000</td>\n",
       "    </tr>\n",
       "    <tr>\n",
       "      <th>...</th>\n",
       "      <td>...</td>\n",
       "      <td>...</td>\n",
       "      <td>...</td>\n",
       "      <td>...</td>\n",
       "    </tr>\n",
       "    <tr>\n",
       "      <th>66</th>\n",
       "      <td>Chisenhall, Lonnie</td>\n",
       "      <td>30.0</td>\n",
       "      <td>2019</td>\n",
       "      <td>2750000</td>\n",
       "    </tr>\n",
       "    <tr>\n",
       "      <th>70</th>\n",
       "      <td>Maldonado, Martin</td>\n",
       "      <td>32.0</td>\n",
       "      <td>2019</td>\n",
       "      <td>2500000</td>\n",
       "    </tr>\n",
       "    <tr>\n",
       "      <th>75</th>\n",
       "      <td>McCann, Brian</td>\n",
       "      <td>35.0</td>\n",
       "      <td>2019</td>\n",
       "      <td>2000000</td>\n",
       "    </tr>\n",
       "    <tr>\n",
       "      <th>77</th>\n",
       "      <td>Harrison, Josh</td>\n",
       "      <td>31.0</td>\n",
       "      <td>2019</td>\n",
       "      <td>2000000</td>\n",
       "    </tr>\n",
       "    <tr>\n",
       "      <th>78</th>\n",
       "      <td>Walker, Neil</td>\n",
       "      <td>33.0</td>\n",
       "      <td>2019</td>\n",
       "      <td>2000000</td>\n",
       "    </tr>\n",
       "  </tbody>\n",
       "</table>\n",
       "<p>1427 rows × 4 columns</p>\n",
       "</div>"
      ],
      "text/plain": [
       "                Player   Age  Term       AAV\n",
       "0       Cano, Robinson  31.0  2014  24000000\n",
       "1     Ellsbury, Jacoby  30.0  2014  21857143\n",
       "2       Choo, Shin-Soo  31.0  2014  18571429\n",
       "3        McCann, Brian  30.0  2014  17000000\n",
       "4   Granderson, Curtis  33.0  2014  15000000\n",
       "..                 ...   ...   ...       ...\n",
       "66  Chisenhall, Lonnie  30.0  2019   2750000\n",
       "70   Maldonado, Martin  32.0  2019   2500000\n",
       "75       McCann, Brian  35.0  2019   2000000\n",
       "77      Harrison, Josh  31.0  2019   2000000\n",
       "78        Walker, Neil  33.0  2019   2000000\n",
       "\n",
       "[1427 rows x 4 columns]"
      ]
     },
     "execution_count": 862,
     "metadata": {},
     "output_type": "execute_result"
    }
   ],
   "source": [
    "contracts['AAV'] = contracts['AAV'].apply(salary_to_int)\n",
    "contracts['Term'] = contracts['Term'].apply(term_to_year)\n",
    "contracts"
   ]
  },
  {
   "cell_type": "code",
   "execution_count": 863,
   "metadata": {},
   "outputs": [],
   "source": [
    "# create functions\n",
    "\n",
    "# remove dollar sign and commas from salary string, convert to integer\n",
    "def salary_to_int(str_in):\n",
    "    str_in = str_in.replace('$','')\n",
    "    str_in = str_in.replace(',','')\n",
    "    output = int(str_in)\n",
    "    return output\n",
    "\n",
    "# turn 'LastName, FirstName' into 'FirstName LastName'\n",
    "def standardize_name(str_in):\n",
    "    # str_in = str_in.replace(',', '')\n",
    "    # str_in = remove_periods(str_in)\n",
    "    name_list = str_in.split(', ')\n",
    "    output = name_list[1] + ' ' + name_list[0]\n",
    "    return output\n",
    "\n",
    "# change the term length to just the starting year of the term\n",
    "def term_to_year(str_in):\n",
    "    term_list = str(str_in).split('-')\n",
    "    output = term_list[0]\n",
    "    return output\n",
    "\n",
    "# remove the periods from names\n",
    "def remove_periods(str_in):\n",
    "    output = str_in.replace('.','')\n",
    "    return output"
   ]
  },
  {
   "cell_type": "code",
   "execution_count": null,
   "metadata": {},
   "outputs": [],
   "source": []
  },
  {
   "cell_type": "markdown",
   "metadata": {},
   "source": [
    "Describe your data cleaning steps here."
   ]
  },
  {
   "cell_type": "code",
   "execution_count": 864,
   "metadata": {},
   "outputs": [
    {
     "name": "stdout",
     "output_type": "stream",
     "text": [
      "The first year in the dataset is 1991\n",
      "There are 797 unique players in the contract data\n"
     ]
    },
    {
     "data": {
      "text/html": [
       "<div>\n",
       "<style scoped>\n",
       "    .dataframe tbody tr th:only-of-type {\n",
       "        vertical-align: middle;\n",
       "    }\n",
       "\n",
       "    .dataframe tbody tr th {\n",
       "        vertical-align: top;\n",
       "    }\n",
       "\n",
       "    .dataframe thead th {\n",
       "        text-align: right;\n",
       "    }\n",
       "</style>\n",
       "<table border=\"1\" class=\"dataframe\">\n",
       "  <thead>\n",
       "    <tr style=\"text-align: right;\">\n",
       "      <th></th>\n",
       "      <th>Player</th>\n",
       "      <th>Year</th>\n",
       "      <th>Yearly Salary</th>\n",
       "    </tr>\n",
       "  </thead>\n",
       "  <tbody>\n",
       "    <tr>\n",
       "      <th>978</th>\n",
       "      <td>Rick Dempsey</td>\n",
       "      <td>1991</td>\n",
       "      <td>150000</td>\n",
       "    </tr>\n",
       "    <tr>\n",
       "      <th>960</th>\n",
       "      <td>Jamie Quirk</td>\n",
       "      <td>1991</td>\n",
       "      <td>500000</td>\n",
       "    </tr>\n",
       "    <tr>\n",
       "      <th>961</th>\n",
       "      <td>Rafael Belliard</td>\n",
       "      <td>1991</td>\n",
       "      <td>450000</td>\n",
       "    </tr>\n",
       "    <tr>\n",
       "      <th>962</th>\n",
       "      <td>Randy Bush</td>\n",
       "      <td>1991</td>\n",
       "      <td>450000</td>\n",
       "    </tr>\n",
       "    <tr>\n",
       "      <th>963</th>\n",
       "      <td>Candy Maldonado</td>\n",
       "      <td>1991</td>\n",
       "      <td>825000</td>\n",
       "    </tr>\n",
       "  </tbody>\n",
       "</table>\n",
       "</div>"
      ],
      "text/plain": [
       "              Player  Year  Yearly Salary\n",
       "978     Rick Dempsey  1991         150000\n",
       "960      Jamie Quirk  1991         500000\n",
       "961  Rafael Belliard  1991         450000\n",
       "962       Randy Bush  1991         450000\n",
       "963  Candy Maldonado  1991         825000"
      ]
     },
     "metadata": {},
     "output_type": "display_data"
    }
   ],
   "source": [
    "## YOUR CODE HERE\n",
    "## FEEL FREE TO ADD MULTIPLE CELLS PER SECTION\n",
    "\n",
    "# clean MLB contract (salary) data\n",
    "\n",
    "# access the directory with MLB contracts\n",
    "directory = 'data/contracts'\n",
    "# initialize list of contract filenames\n",
    "filenames = []\n",
    "# concatenate contracts from 2011-2022\n",
    "for filename in os.listdir(directory):\n",
    "    filenames.append(str(directory) + \"/\" + filename)\n",
    "contracts = pd.concat([pd.read_csv(f) for f in filenames])\n",
    "# keep player, position, age, term, and AAV columns\n",
    "contracts = contracts[[\"Player\",\"Pos'n\",\"Age\",\"Term\",\"AAV\"]]\n",
    "# remove pitcher information\n",
    "contracts = contracts[contracts[\"Pos'n\"].str.contains(\"hp\") == False]\n",
    "# remove any rows with empty data\n",
    "contracts = contracts[contracts[\"AAV\"].isna() == False]\n",
    "# remove $1 contracts (0 year contracts)\n",
    "contracts = contracts[contracts[\"AAV\"] != \"$1\"]\n",
    "# change AAV to an integer\n",
    "contracts[\"AAV\"] = contracts[\"AAV\"].apply(salary_to_int)\n",
    "# reset the indices\n",
    "contracts = contracts.reset_index(drop = True)\n",
    "# rename AAV (Average Annual Value) to Yearly Salary\n",
    "contracts = contracts.rename({\"AAV\":\"Yearly Salary\"}, axis=1)\n",
    "# turn 'LastName, FirstName' into 'FirstName LastName'\n",
    "contracts[\"Player\"] = contracts[\"Player\"].apply(standardize_name)\n",
    "# remove all columns except for selected ones\n",
    "contracts = contracts[[\"Player\",\"Term\",\"Yearly Salary\"]]\n",
    "# change the term length to just the starting year of the term\n",
    "contracts[\"Term\"] = contracts[\"Term\"].apply(term_to_year)\n",
    "# rename 'term_to_year' to 'Year'\n",
    "contracts = contracts.rename({\"Term\":\"Year\"}, axis = 1)\n",
    "# sort the dataframe by year\n",
    "contracts = contracts.sort_values(by=\"Year\")\n",
    "# cleaned contract dataframe outputs\n",
    "print(\"The first year in the dataset is \" + contracts.iloc[1,1])\n",
    "print(\"There are \" + str(len(contracts[\"Player\"].unique())) + \" unique players in the contract data\")\n",
    "display(contracts.head())"
   ]
  },
  {
   "cell_type": "code",
   "execution_count": 865,
   "metadata": {},
   "outputs": [
    {
     "ename": "KeyError",
     "evalue": "\"['Player', 'Pos', 'Age', 'AVG', 'OPS'] not in index\"",
     "output_type": "error",
     "traceback": [
      "\u001b[0;31m---------------------------------------------------------------------------\u001b[0m",
      "\u001b[0;31mKeyError\u001b[0m                                  Traceback (most recent call last)",
      "Cell \u001b[0;32mIn [865], line 20\u001b[0m\n\u001b[1;32m     18\u001b[0m batting \u001b[39m=\u001b[39m batting\u001b[39m.\u001b[39msort_values(by \u001b[39m=\u001b[39m \u001b[39m\"\u001b[39m\u001b[39mYear\u001b[39m\u001b[39m\"\u001b[39m)\n\u001b[1;32m     19\u001b[0m \u001b[39m# remove all columns except for selected ones\u001b[39;00m\n\u001b[0;32m---> 20\u001b[0m batting \u001b[39m=\u001b[39m batting[[\u001b[39m\"\u001b[39;49m\u001b[39mPlayer\u001b[39;49m\u001b[39m\"\u001b[39;49m, \u001b[39m\"\u001b[39;49m\u001b[39mPos\u001b[39;49m\u001b[39m\"\u001b[39;49m, \u001b[39m\"\u001b[39;49m\u001b[39mAge\u001b[39;49m\u001b[39m\"\u001b[39;49m, \u001b[39m\"\u001b[39;49m\u001b[39mAVG\u001b[39;49m\u001b[39m\"\u001b[39;49m, \u001b[39m\"\u001b[39;49m\u001b[39mOPS\u001b[39;49m\u001b[39m\"\u001b[39;49m, \u001b[39m\"\u001b[39;49m\u001b[39mYear\u001b[39;49m\u001b[39m\"\u001b[39;49m]]\n\u001b[1;32m     21\u001b[0m \u001b[39m# only keep the players that also appear in the contracts dataframe\u001b[39;00m\n\u001b[1;32m     22\u001b[0m batting \u001b[39m=\u001b[39m batting[batting[\u001b[39m\"\u001b[39m\u001b[39mPlayer\u001b[39m\u001b[39m\"\u001b[39m]\u001b[39m.\u001b[39misin(contracts[\u001b[39m\"\u001b[39m\u001b[39mPlayer\u001b[39m\u001b[39m\"\u001b[39m])]\n",
      "File \u001b[0;32m~/.pyenv/versions/3.10.3/lib/python3.10/site-packages/pandas/core/frame.py:3511\u001b[0m, in \u001b[0;36mDataFrame.__getitem__\u001b[0;34m(self, key)\u001b[0m\n\u001b[1;32m   3509\u001b[0m     \u001b[39mif\u001b[39;00m is_iterator(key):\n\u001b[1;32m   3510\u001b[0m         key \u001b[39m=\u001b[39m \u001b[39mlist\u001b[39m(key)\n\u001b[0;32m-> 3511\u001b[0m     indexer \u001b[39m=\u001b[39m \u001b[39mself\u001b[39;49m\u001b[39m.\u001b[39;49mcolumns\u001b[39m.\u001b[39;49m_get_indexer_strict(key, \u001b[39m\"\u001b[39;49m\u001b[39mcolumns\u001b[39;49m\u001b[39m\"\u001b[39;49m)[\u001b[39m1\u001b[39m]\n\u001b[1;32m   3513\u001b[0m \u001b[39m# take() does not accept boolean indexers\u001b[39;00m\n\u001b[1;32m   3514\u001b[0m \u001b[39mif\u001b[39;00m \u001b[39mgetattr\u001b[39m(indexer, \u001b[39m\"\u001b[39m\u001b[39mdtype\u001b[39m\u001b[39m\"\u001b[39m, \u001b[39mNone\u001b[39;00m) \u001b[39m==\u001b[39m \u001b[39mbool\u001b[39m:\n",
      "File \u001b[0;32m~/.pyenv/versions/3.10.3/lib/python3.10/site-packages/pandas/core/indexes/base.py:5782\u001b[0m, in \u001b[0;36mIndex._get_indexer_strict\u001b[0;34m(self, key, axis_name)\u001b[0m\n\u001b[1;32m   5779\u001b[0m \u001b[39melse\u001b[39;00m:\n\u001b[1;32m   5780\u001b[0m     keyarr, indexer, new_indexer \u001b[39m=\u001b[39m \u001b[39mself\u001b[39m\u001b[39m.\u001b[39m_reindex_non_unique(keyarr)\n\u001b[0;32m-> 5782\u001b[0m \u001b[39mself\u001b[39;49m\u001b[39m.\u001b[39;49m_raise_if_missing(keyarr, indexer, axis_name)\n\u001b[1;32m   5784\u001b[0m keyarr \u001b[39m=\u001b[39m \u001b[39mself\u001b[39m\u001b[39m.\u001b[39mtake(indexer)\n\u001b[1;32m   5785\u001b[0m \u001b[39mif\u001b[39;00m \u001b[39misinstance\u001b[39m(key, Index):\n\u001b[1;32m   5786\u001b[0m     \u001b[39m# GH 42790 - Preserve name from an Index\u001b[39;00m\n",
      "File \u001b[0;32m~/.pyenv/versions/3.10.3/lib/python3.10/site-packages/pandas/core/indexes/base.py:5845\u001b[0m, in \u001b[0;36mIndex._raise_if_missing\u001b[0;34m(self, key, indexer, axis_name)\u001b[0m\n\u001b[1;32m   5842\u001b[0m     \u001b[39mraise\u001b[39;00m \u001b[39mKeyError\u001b[39;00m(\u001b[39mf\u001b[39m\u001b[39m\"\u001b[39m\u001b[39mNone of [\u001b[39m\u001b[39m{\u001b[39;00mkey\u001b[39m}\u001b[39;00m\u001b[39m] are in the [\u001b[39m\u001b[39m{\u001b[39;00maxis_name\u001b[39m}\u001b[39;00m\u001b[39m]\u001b[39m\u001b[39m\"\u001b[39m)\n\u001b[1;32m   5844\u001b[0m not_found \u001b[39m=\u001b[39m \u001b[39mlist\u001b[39m(ensure_index(key)[missing_mask\u001b[39m.\u001b[39mnonzero()[\u001b[39m0\u001b[39m]]\u001b[39m.\u001b[39munique())\n\u001b[0;32m-> 5845\u001b[0m \u001b[39mraise\u001b[39;00m \u001b[39mKeyError\u001b[39;00m(\u001b[39mf\u001b[39m\u001b[39m\"\u001b[39m\u001b[39m{\u001b[39;00mnot_found\u001b[39m}\u001b[39;00m\u001b[39m not in index\u001b[39m\u001b[39m\"\u001b[39m)\n",
      "\u001b[0;31mKeyError\u001b[0m: \"['Player', 'Pos', 'Age', 'AVG', 'OPS'] not in index\""
     ]
    }
   ],
   "source": [
    "# clean MLB batting data\n",
    "\n",
    "# access the directory with MLB batting data\n",
    "directory = 'data/batting'\n",
    "filenames = []\n",
    "dataframes = []\n",
    "# add the year of corresponding data to each dataset\n",
    "for filename in os.listdir(directory):\n",
    "    year = filename[:4]\n",
    "    filepath = str(directory) + \"/\" + filename\n",
    "    filenames.append(filepath)\n",
    "    df = pd.read_csv(filepath)\n",
    "    df['Year'] = year\n",
    "    dataframes.append(df)\n",
    "# concatenate 2010-2022 datasets\n",
    "batting = pd.concat(dataframes)\n",
    "# sort dataframe by year\n",
    "batting = batting.sort_values(by = \"Year\")\n",
    "# remove all columns except for selected ones\n",
    "batting = batting[[\"Player\", \"Pos\", \"Age\", \"AVG\", \"OPS\", \"Year\"]]\n",
    "# only keep the players that also appear in the contracts dataframe\n",
    "batting = batting[batting[\"Player\"].isin(contracts[\"Player\"])]\n",
    "# batting[\"Player\"] = batting[\"Player\"].apply(remove_periods)\n",
    "# print(len(batting[\"Player\"].unique()))\n",
    "# print((contracts[contracts[\"Player\"].isin(batting[\"Player\"]) == False ])[\"Player\"])\n",
    "# for player in contracts[\"Player\"].unique() :\n",
    "#     if((batting[\"Player\"].unique()).contains(player) == False):\n",
    "#         print(player)\n",
    "# print(contracts[\"Player\"].unique().isin((batting[\"Player\"].unique())))\n",
    "# batting = batting[batting.isin(contracts[\"Player\"])]\n",
    "batting.head()\n",
    "# batting[\"Player\"].value_counts()"
   ]
  }
 ],
 "metadata": {
  "kernelspec": {
   "display_name": "Python 3.9.7 ('base')",
   "language": "python",
   "name": "python3"
  },
  "language_info": {
   "codemirror_mode": {
    "name": "ipython",
    "version": 3
   },
   "file_extension": ".py",
   "mimetype": "text/x-python",
   "name": "python",
   "nbconvert_exporter": "python",
   "pygments_lexer": "ipython3",
   "version": "3.9.7"
  },
  "vscode": {
   "interpreter": {
    "hash": "17148b80536a9518b3c217100db44d9bbf858b2c0861d2db315eb0a1b18cdf91"
   }
  }
 },
 "nbformat": 4,
 "nbformat_minor": 2
}
