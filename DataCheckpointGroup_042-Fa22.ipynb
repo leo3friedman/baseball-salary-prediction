{
 "cells": [
  {
   "cell_type": "markdown",
   "metadata": {},
   "source": [
    "# COGS 108 - Data Checkpoint"
   ]
  },
  {
   "cell_type": "markdown",
   "metadata": {},
   "source": [
    "# Names\n",
    "\n",
    "- Jake Heinlein\n",
    "- Nathan Tripp\n",
    "- Naomi Chin\n",
    "- Leo Friedman\n",
    "- Dante Tanjuatco"
   ]
  },
  {
   "cell_type": "markdown",
   "metadata": {},
   "source": [
    "<a id='research_question'></a>\n",
    "# Research Question"
   ]
  },
  {
   "cell_type": "markdown",
   "metadata": {},
   "source": [
    "*Is the combination of an mlb free agents age and batting performance, measured by batting average and on base plus slugging percentage, indicative of their yearly salary, and if so, can an algorithm predict a players future contract based on these factors?*"
   ]
  },
  {
   "cell_type": "markdown",
   "metadata": {},
   "source": [
    "# Dataset(s)"
   ]
  },
  {
   "cell_type": "markdown",
   "metadata": {},
   "source": [
    "*Fill in your dataset information here*\n",
    "\n",
    "(Copy this information for each dataset)\n",
    "- Dataset Name:\n",
    "- Link to the dataset:\n",
    "- Number of observations:\n",
    "\n",
    "The first data set looks at MLB players stats by year, which we are using to look at players age, batting average, and on base plus slugging percentage. The second dataset shows free agent contracts, which we will use to find players yearly salary.\n",
    "\n",
    "We are looking at players who are included in both sets, comparing batting performance along with age to their yearly salary."
   ]
  },
  {
   "cell_type": "markdown",
   "metadata": {},
   "source": [
    "# Setup"
   ]
  },
  {
   "cell_type": "code",
   "execution_count": 42,
   "metadata": {},
   "outputs": [],
   "source": [
    "import pandas as pd\n",
    "pd.set_option('display.max_rows', None)\n",
    "import os"
   ]
  },
  {
   "cell_type": "code",
   "execution_count": 50,
   "metadata": {},
   "outputs": [],
   "source": [
    "def salary_to_int(str_in):\n",
    "    str_in = str_in.replace('$','')\n",
    "    str_in = str_in.replace(',','')\n",
    "    output = int(str_in)\n",
    "    return output"
   ]
  },
  {
   "cell_type": "code",
   "execution_count": 70,
   "metadata": {},
   "outputs": [
    {
     "data": {
      "text/html": [
       "<div>\n",
       "<style scoped>\n",
       "    .dataframe tbody tr th:only-of-type {\n",
       "        vertical-align: middle;\n",
       "    }\n",
       "\n",
       "    .dataframe tbody tr th {\n",
       "        vertical-align: top;\n",
       "    }\n",
       "\n",
       "    .dataframe thead th {\n",
       "        text-align: right;\n",
       "    }\n",
       "</style>\n",
       "<table border=\"1\" class=\"dataframe\">\n",
       "  <thead>\n",
       "    <tr style=\"text-align: right;\">\n",
       "      <th></th>\n",
       "      <th>Player</th>\n",
       "      <th>Pos'n</th>\n",
       "      <th>Age</th>\n",
       "      <th>Term</th>\n",
       "      <th>Yearly Salary</th>\n",
       "    </tr>\n",
       "  </thead>\n",
       "  <tbody>\n",
       "    <tr>\n",
       "      <th>0</th>\n",
       "      <td>Harper, Bryce</td>\n",
       "      <td>rf</td>\n",
       "      <td>26.0</td>\n",
       "      <td>2019-31</td>\n",
       "      <td>25384615</td>\n",
       "    </tr>\n",
       "    <tr>\n",
       "      <th>1</th>\n",
       "      <td>Machado, Manny</td>\n",
       "      <td>ss</td>\n",
       "      <td>26.0</td>\n",
       "      <td>2019-28</td>\n",
       "      <td>30000000</td>\n",
       "    </tr>\n",
       "    <tr>\n",
       "      <th>2</th>\n",
       "      <td>Pollock, A.J.</td>\n",
       "      <td>cf</td>\n",
       "      <td>31.0</td>\n",
       "      <td>2019-22</td>\n",
       "      <td>13750000</td>\n",
       "    </tr>\n",
       "    <tr>\n",
       "      <th>3</th>\n",
       "      <td>McCutchen, Andrew</td>\n",
       "      <td>lf</td>\n",
       "      <td>32.0</td>\n",
       "      <td>2019-21</td>\n",
       "      <td>16666666</td>\n",
       "    </tr>\n",
       "    <tr>\n",
       "      <th>4</th>\n",
       "      <td>Brantley, Michael</td>\n",
       "      <td>lf</td>\n",
       "      <td>32.0</td>\n",
       "      <td>2019-20</td>\n",
       "      <td>16000000</td>\n",
       "    </tr>\n",
       "  </tbody>\n",
       "</table>\n",
       "</div>"
      ],
      "text/plain": [
       "              Player Pos'n   Age     Term  Yearly Salary\n",
       "0      Harper, Bryce    rf  26.0  2019-31       25384615\n",
       "1     Machado, Manny    ss  26.0  2019-28       30000000\n",
       "2      Pollock, A.J.    cf  31.0  2019-22       13750000\n",
       "3  McCutchen, Andrew    lf  32.0  2019-21       16666666\n",
       "4  Brantley, Michael    lf  32.0  2019-20       16000000"
      ]
     },
     "metadata": {},
     "output_type": "display_data"
    }
   ],
   "source": [
    "directory = 'data/contracts'\n",
    "filenames = []\n",
    "for filename in os.listdir(directory):\n",
    "    filenames.append(str(directory) + \"/\" + filename)\n",
    "contracts = pd.concat([pd.read_csv(f) for f in filenames])\n",
    "contracts = contracts[[\"Player\",\"Pos'n\",\"Age\",\"Term\",\"AAV\"]]\n",
    "contracts = contracts[contracts[\"Pos'n\"].str.contains(\"hp\") == False]\n",
    "contracts = contracts[contracts[\"AAV\"].isna() == False]\n",
    "contracts = contracts[contracts[\"AAV\"] != \"$1\"]\n",
    "contracts[\"AAV\"] = contracts[\"AAV\"].apply(salary_to_int)\n",
    "contracts = contracts.reset_index(drop = True)\n",
    "contracts = contracts.rename({\"AAV\":\"Yearly Salary\"}, axis=1)\n",
    "display(contracts.head())"
   ]
  },
  {
   "cell_type": "code",
   "execution_count": null,
   "metadata": {},
   "outputs": [],
   "source": [
    "directory = 'data/contracts'\n",
    "filenames = []\n",
    "for filename in os.listdir(directory):\n",
    "    filenames.append(str(directory) + \"/\" + filename)\n",
    "contracts = pd.concat([pd.read_csv(f) for f in filenames])"
   ]
  },
  {
   "cell_type": "code",
   "execution_count": null,
   "metadata": {},
   "outputs": [],
   "source": []
  },
  {
   "cell_type": "markdown",
   "metadata": {},
   "source": [
    "# Data Cleaning"
   ]
  },
  {
   "cell_type": "markdown",
   "metadata": {},
   "source": [
    "Describe your data cleaning steps here."
   ]
  },
  {
   "cell_type": "code",
   "execution_count": 2,
   "metadata": {},
   "outputs": [],
   "source": [
    "## YOUR CODE HERE\n",
    "## FEEL FREE TO ADD MULTIPLE CELLS PER SECTION"
   ]
  }
 ],
 "metadata": {
  "kernelspec": {
   "display_name": "Python 3",
   "language": "python",
   "name": "python3"
  },
  "language_info": {
   "codemirror_mode": {
    "name": "ipython",
    "version": 3
   },
   "file_extension": ".py",
   "mimetype": "text/x-python",
   "name": "python",
   "nbconvert_exporter": "python",
   "pygments_lexer": "ipython3",
   "version": "3.7.9"
  }
 },
 "nbformat": 4,
 "nbformat_minor": 2
}
