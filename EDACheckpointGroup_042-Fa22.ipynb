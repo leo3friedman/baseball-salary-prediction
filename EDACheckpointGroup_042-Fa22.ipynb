{
 "cells": [
  {
   "cell_type": "markdown",
   "metadata": {},
   "source": [
    "# COGS 108 - EDA Checkpoint"
   ]
  },
  {
   "cell_type": "markdown",
   "metadata": {},
   "source": [
    "# Names\n",
    "\n",
    "- Naomi Chin\n",
    "- Leo Friedman\n",
    "- Jake Heinlein\n",
    "- Dante Tanjuatco\n",
    "- Nathan Tripp"
   ]
  },
  {
   "cell_type": "markdown",
   "metadata": {},
   "source": [
    "<a id='research_question'></a>\n",
    "# Research Question"
   ]
  },
  {
   "cell_type": "markdown",
   "metadata": {},
   "source": [
    "*Is the combination of an mlb free agents age and batting performance, measured by relevant batting statistics (Batting Average, On Base Percentage, Slugging Average, etc.) indicative of their yearly salary, and if so, can we predict a player's future salary based on these factors?*"
   ]
  },
  {
   "cell_type": "markdown",
   "metadata": {},
   "source": [
    "# Setup"
   ]
  },
  {
   "cell_type": "code",
   "execution_count": null,
   "metadata": {},
   "outputs": [],
   "source": [
    "# import packages and setup visuals\n",
    "import pandas as pd\n",
    "import numpy as np\n",
    "import os\n",
    "import matplotlib.pyplot as plt\n",
    "import seaborn as sns\n",
    "import patsy\n",
    "import statsmodels.api as sm\n",
    "import statistics"
   ]
  },
  {
   "cell_type": "markdown",
   "metadata": {},
   "source": [
    "# Data Cleaning"
   ]
  },
  {
   "cell_type": "markdown",
   "metadata": {},
   "source": [
    "### Contracts"
   ]
  },
  {
   "cell_type": "markdown",
   "metadata": {},
   "source": [
    "Concatenate all contract csv files from years 1991-2022 as a dataframe named \"contracts\""
   ]
  },
  {
   "cell_type": "code",
   "execution_count": null,
   "metadata": {
    "scrolled": true
   },
   "outputs": [],
   "source": [
    "# merge all contract files in contracts directory as one dataframe\n",
    "directory = 'data/contracts/'\n",
    "filepaths = [directory + filename for filename in os.listdir(directory)]\n",
    "contracts = pd.concat([pd.read_csv(filepath) for filepath in filepaths])\n",
    "contracts_original = contracts\n",
    "print('contracts shape: ', contracts.shape)\n",
    "print('contracts columns: ', list(contracts.columns))"
   ]
  },
  {
   "cell_type": "markdown",
   "metadata": {},
   "source": [
    "Combine the three columns, 'Age', 'Age 7/1/21', and 'Age 7/1/22', into one 'Age' column by taking the non-null value from each set of columns (if it exists). There are 18 columns per contract observation. Drop all columns that are irrelevant to our project. Now that the dataframe only contains relevant variables, drop all observations with NaN values. "
   ]
  },
  {
   "cell_type": "code",
   "execution_count": null,
   "metadata": {},
   "outputs": [],
   "source": [
    "# set 'Age' column to value in 'Age  7/1/21' column or 'Age 7/1/22' column if NaN\n",
    "contracts['Age'] = contracts['Age'].add(contracts['Age 7/1/21'], fill_value=0)\n",
    "contracts['Age'] = contracts['Age'].add(contracts['Age 7/1/22'], fill_value=0)\n",
    "\n",
    "# drop unecessary columns\n",
    "contracts = contracts[['Player','Pos\\'n', 'Age', 'Term', 'AAV']]\n",
    "\n",
    "# drop players with NaN values\n",
    "contracts = contracts.dropna(axis=0)"
   ]
  },
  {
   "cell_type": "markdown",
   "metadata": {},
   "source": [
    "Our project is looking at how batting performance affects salary. Pitcher's salaries, however, are not indicative of their batting performance. Drop all pitchers from the \"contract\" dataframe."
   ]
  },
  {
   "cell_type": "code",
   "execution_count": null,
   "metadata": {},
   "outputs": [],
   "source": [
    "# drop players that are pitchers\n",
    "contracts = contracts[contracts[\"Pos'n\"].str.contains(\"hp\") == False]\n",
    "\n",
    "# drop position column (no longer needed)\n",
    "contracts = contracts.drop('Pos\\'n',axis=1)\n",
    "\n",
    "display(contracts.head())"
   ]
  },
  {
   "cell_type": "markdown",
   "metadata": {},
   "source": [
    "Next, standardize our variables so we can plot and compare them with values from other datasets. "
   ]
  },
  {
   "cell_type": "code",
   "execution_count": null,
   "metadata": {},
   "outputs": [],
   "source": [
    "# convert a players yearly salary (AAV) from a string to an int\n",
    "def salary_to_int(str_in):\n",
    "    return int(str_in.replace('$','').replace(',',''))\n",
    "\n",
    "# convert the term of a player's contract (Term) to the year they were offered it\n",
    "def term_to_year(str_in):\n",
    "    return int(str(str_in).split('-')[0])\n",
    "\n",
    "# standardize player names\n",
    "def standardize_name(str_in):\n",
    "    if ',' in str_in:\n",
    "        name_list = str(str_in).split(',')\n",
    "        str_in = name_list[1].strip() + \" \" + name_list[0].strip()\n",
    "    str_in = str_in.replace('Jr.','')\n",
    "    str_in = str_in.replace('Sr.','')\n",
    "    str_in = str_in.replace('.','')\n",
    "    str_in = str_in.replace('é','e')\n",
    "    str_in = str_in.replace('á','a')\n",
    "    return str_in.replace(' ', '')\n",
    "\n",
    "# round all ages\n",
    "def standardize_age(age):\n",
    "    return round(float(age), 0)"
   ]
  },
  {
   "cell_type": "code",
   "execution_count": null,
   "metadata": {},
   "outputs": [],
   "source": [
    "# standardize name, age, salary, and term variables\n",
    "contracts['Player'] = contracts['Player'].apply(standardize_name)\n",
    "contracts['Age'] = contracts['Age'].apply(standardize_age)\n",
    "contracts['AAV'] = contracts['AAV'].apply(salary_to_int)\n",
    "contracts['Term'] = contracts['Term'].apply(term_to_year)\n",
    "display(contracts.head())"
   ]
  },
  {
   "cell_type": "markdown",
   "metadata": {},
   "source": [
    "Rename contract columns for consistency. Drop all observations with contract values of $1. "
   ]
  },
  {
   "cell_type": "code",
   "execution_count": null,
   "metadata": {},
   "outputs": [],
   "source": [
    "# rename columns for consistency\n",
    "contracts.columns = ['playerName','playerAge','year','yearSalary']\n",
    "\n",
    "# drop contracts that had a yearSalary of $1\n",
    "contracts = contracts[contracts['yearSalary'] > 1]\n",
    "\n",
    "display(contracts.head())"
   ]
  },
  {
   "cell_type": "markdown",
   "metadata": {},
   "source": [
    "### Batting"
   ]
  },
  {
   "cell_type": "markdown",
   "metadata": {},
   "source": [
    "Read Batting.csv file as a dataframe named \"batting\". Read People.csv file (a lookup table that has player names, age, etc.) as a dataframe named \"people\"."
   ]
  },
  {
   "cell_type": "code",
   "execution_count": 62,
   "metadata": {},
   "outputs": [
    {
     "name": "stdout",
     "output_type": "stream",
     "text": [
      "people shape:  (20370, 24)\n",
      "batting shape:  (110495, 22)\n"
     ]
    }
   ],
   "source": [
    "# read people and batting files as dataframes\n",
    "people = pd.read_csv('data/batting/People.csv')\n",
    "batting = pd.read_csv('data/batting/Batting.csv')\n",
    "batting_original = batting\n",
    "print('people shape: ', people.shape)\n",
    "print('batting shape: ', batting.shape)"
   ]
  },
  {
   "cell_type": "markdown",
   "metadata": {},
   "source": [
    "Drop irrelevant columns from batting"
   ]
  },
  {
   "cell_type": "code",
   "execution_count": 63,
   "metadata": {},
   "outputs": [
    {
     "data": {
      "text/html": [
       "<div>\n",
       "<style scoped>\n",
       "    .dataframe tbody tr th:only-of-type {\n",
       "        vertical-align: middle;\n",
       "    }\n",
       "\n",
       "    .dataframe tbody tr th {\n",
       "        vertical-align: top;\n",
       "    }\n",
       "\n",
       "    .dataframe thead th {\n",
       "        text-align: right;\n",
       "    }\n",
       "</style>\n",
       "<table border=\"1\" class=\"dataframe\">\n",
       "  <thead>\n",
       "    <tr style=\"text-align: right;\">\n",
       "      <th></th>\n",
       "      <th>playerID</th>\n",
       "      <th>yearID</th>\n",
       "      <th>AB</th>\n",
       "      <th>H</th>\n",
       "      <th>2B</th>\n",
       "      <th>3B</th>\n",
       "      <th>HR</th>\n",
       "      <th>BB</th>\n",
       "      <th>HBP</th>\n",
       "      <th>SF</th>\n",
       "    </tr>\n",
       "  </thead>\n",
       "  <tbody>\n",
       "    <tr>\n",
       "      <th>0</th>\n",
       "      <td>abercda01</td>\n",
       "      <td>1871</td>\n",
       "      <td>4</td>\n",
       "      <td>0</td>\n",
       "      <td>0</td>\n",
       "      <td>0</td>\n",
       "      <td>0</td>\n",
       "      <td>0</td>\n",
       "      <td>NaN</td>\n",
       "      <td>NaN</td>\n",
       "    </tr>\n",
       "    <tr>\n",
       "      <th>1</th>\n",
       "      <td>addybo01</td>\n",
       "      <td>1871</td>\n",
       "      <td>118</td>\n",
       "      <td>32</td>\n",
       "      <td>6</td>\n",
       "      <td>0</td>\n",
       "      <td>0</td>\n",
       "      <td>4</td>\n",
       "      <td>NaN</td>\n",
       "      <td>NaN</td>\n",
       "    </tr>\n",
       "    <tr>\n",
       "      <th>2</th>\n",
       "      <td>allisar01</td>\n",
       "      <td>1871</td>\n",
       "      <td>137</td>\n",
       "      <td>40</td>\n",
       "      <td>4</td>\n",
       "      <td>5</td>\n",
       "      <td>0</td>\n",
       "      <td>2</td>\n",
       "      <td>NaN</td>\n",
       "      <td>NaN</td>\n",
       "    </tr>\n",
       "    <tr>\n",
       "      <th>3</th>\n",
       "      <td>allisdo01</td>\n",
       "      <td>1871</td>\n",
       "      <td>133</td>\n",
       "      <td>44</td>\n",
       "      <td>10</td>\n",
       "      <td>2</td>\n",
       "      <td>2</td>\n",
       "      <td>0</td>\n",
       "      <td>NaN</td>\n",
       "      <td>NaN</td>\n",
       "    </tr>\n",
       "    <tr>\n",
       "      <th>4</th>\n",
       "      <td>ansonca01</td>\n",
       "      <td>1871</td>\n",
       "      <td>120</td>\n",
       "      <td>39</td>\n",
       "      <td>11</td>\n",
       "      <td>3</td>\n",
       "      <td>0</td>\n",
       "      <td>2</td>\n",
       "      <td>NaN</td>\n",
       "      <td>NaN</td>\n",
       "    </tr>\n",
       "  </tbody>\n",
       "</table>\n",
       "</div>"
      ],
      "text/plain": [
       "    playerID  yearID   AB   H  2B  3B  HR  BB  HBP  SF\n",
       "0  abercda01    1871    4   0   0   0   0   0  NaN NaN\n",
       "1   addybo01    1871  118  32   6   0   0   4  NaN NaN\n",
       "2  allisar01    1871  137  40   4   5   0   2  NaN NaN\n",
       "3  allisdo01    1871  133  44  10   2   2   0  NaN NaN\n",
       "4  ansonca01    1871  120  39  11   3   0   2  NaN NaN"
      ]
     },
     "metadata": {},
     "output_type": "display_data"
    }
   ],
   "source": [
    "batting = batting[['playerID', 'yearID', 'AB', 'H', '2B', '3B', 'HR', 'BB','HBP','SF']]\n",
    "display(batting.head())"
   ]
  },
  {
   "cell_type": "markdown",
   "metadata": {},
   "source": [
    "After running the cell below you can see that some players have two sets of batting stats from the same year. This is because they were on two different teams during one year. Combine these stats such that every player only has one set of stats per year. \n",
    "\n",
    "*NOTE: This takes quite a bit of time to run.*"
   ]
  },
  {
   "cell_type": "code",
   "execution_count": 70,
   "metadata": {},
   "outputs": [
    {
     "data": {
      "text/plain": [
       "1952    2\n",
       "1954    2\n",
       "1949    1\n",
       "1950    1\n",
       "1951    1\n",
       "1953    1\n",
       "1955    1\n",
       "1956    1\n",
       "Name: yearID, dtype: int64"
      ]
     },
     "metadata": {},
     "output_type": "display_data"
    }
   ],
   "source": [
    "# example of player with ID 'abramca01' who has two sets of batting stats for the years 1952 and 1954\n",
    "display(batting[batting['playerID'] == 'abramca01']['yearID'].value_counts())"
   ]
  },
  {
   "cell_type": "code",
   "execution_count": 72,
   "metadata": {},
   "outputs": [
    {
     "data": {
      "text/plain": [
       "1949    1\n",
       "1950    1\n",
       "1951    1\n",
       "1952    1\n",
       "1953    1\n",
       "1954    1\n",
       "1955    1\n",
       "1956    1\n",
       "Name: yearID, dtype: int64"
      ]
     },
     "metadata": {},
     "output_type": "display_data"
    }
   ],
   "source": [
    "# summing batting stats from the same year\n",
    "batting = batting.groupby(['playerID', 'yearID']).agg(lambda x: x.sum(min_count=1))\n",
    "\n",
    "# reset index\n",
    "batting = batting.reset_index()\n",
    "\n",
    "display(batting[batting['playerID'] == 'abramca01']['yearID'].value_counts())"
   ]
  },
  {
   "cell_type": "markdown",
   "metadata": {},
   "source": [
    "Now that the dataframe only contains relevant variables, drop all observations with NaN values. Also drop observations with Zero \"At Bats\". A player can only be judged by their batting ability if they have batted at least once."
   ]
  },
  {
   "cell_type": "code",
   "execution_count": 73,
   "metadata": {},
   "outputs": [],
   "source": [
    "# drop observations with NaN values\n",
    "batting = batting.dropna(axis=0)\n",
    "\n",
    "# drop observations with 0 At Bats\n",
    "batting = batting[batting['AB'] > 0]"
   ]
  },
  {
   "cell_type": "markdown",
   "metadata": {},
   "source": [
    "This batting dataframe only contains the raw batting numbers per player in a given season (number of hits, strikes, homeruns, etc.). For our analysis, we want averaged data. Add columns for \"Batting Average\" (AVG), \"On Base Percentage\" (OBP), \"Slugging Average\" (SLG), and \"On Base Plus Slugging Average\" (OBS)."
   ]
  },
  {
   "cell_type": "code",
   "execution_count": 74,
   "metadata": {},
   "outputs": [],
   "source": [
    "# calculate batting average\n",
    "def calc_avg(h, ab):\n",
    "    return h / ab\n",
    "  \n",
    "# calculate on base percentage\n",
    "def calc_obp(h, bb, hbp, ab, sf):\n",
    "    return (h + bb + hbp) / (ab + bb + sf + hbp)\n",
    "    \n",
    "# calculate total bases\n",
    "def calc_tb(h, two_b, three_b, hr):\n",
    "    singles = h - two_b - three_b - hr\n",
    "    return singles + two_b * 2 + three_b * 3 + hr * 4\n",
    "\n",
    "# calculate slugging average\n",
    "def calc_slg(tb, ab):\n",
    "    return tb / ab\n",
    "\n",
    "# calculate on base plus slugging average\n",
    "def calc_obs(obp, slg):\n",
    "    return obp + slg"
   ]
  },
  {
   "cell_type": "code",
   "execution_count": 75,
   "metadata": {},
   "outputs": [
    {
     "data": {
      "text/html": [
       "<div>\n",
       "<style scoped>\n",
       "    .dataframe tbody tr th:only-of-type {\n",
       "        vertical-align: middle;\n",
       "    }\n",
       "\n",
       "    .dataframe tbody tr th {\n",
       "        vertical-align: top;\n",
       "    }\n",
       "\n",
       "    .dataframe thead th {\n",
       "        text-align: right;\n",
       "    }\n",
       "</style>\n",
       "<table border=\"1\" class=\"dataframe\">\n",
       "  <thead>\n",
       "    <tr style=\"text-align: right;\">\n",
       "      <th></th>\n",
       "      <th>playerID</th>\n",
       "      <th>yearID</th>\n",
       "      <th>AB</th>\n",
       "      <th>H</th>\n",
       "      <th>2B</th>\n",
       "      <th>3B</th>\n",
       "      <th>HR</th>\n",
       "      <th>BB</th>\n",
       "      <th>HBP</th>\n",
       "      <th>SF</th>\n",
       "      <th>AVG</th>\n",
       "      <th>OBP</th>\n",
       "      <th>SLG</th>\n",
       "      <th>OBS</th>\n",
       "    </tr>\n",
       "  </thead>\n",
       "  <tbody>\n",
       "    <tr>\n",
       "      <th>1</th>\n",
       "      <td>aardsda01</td>\n",
       "      <td>2006</td>\n",
       "      <td>2</td>\n",
       "      <td>0</td>\n",
       "      <td>0</td>\n",
       "      <td>0</td>\n",
       "      <td>0</td>\n",
       "      <td>0</td>\n",
       "      <td>0.0</td>\n",
       "      <td>0.0</td>\n",
       "      <td>0.000</td>\n",
       "      <td>0.000</td>\n",
       "      <td>0.000</td>\n",
       "      <td>0.000</td>\n",
       "    </tr>\n",
       "    <tr>\n",
       "      <th>3</th>\n",
       "      <td>aardsda01</td>\n",
       "      <td>2008</td>\n",
       "      <td>1</td>\n",
       "      <td>0</td>\n",
       "      <td>0</td>\n",
       "      <td>0</td>\n",
       "      <td>0</td>\n",
       "      <td>0</td>\n",
       "      <td>0.0</td>\n",
       "      <td>0.0</td>\n",
       "      <td>0.000</td>\n",
       "      <td>0.000</td>\n",
       "      <td>0.000</td>\n",
       "      <td>0.000</td>\n",
       "    </tr>\n",
       "    <tr>\n",
       "      <th>8</th>\n",
       "      <td>aardsda01</td>\n",
       "      <td>2015</td>\n",
       "      <td>1</td>\n",
       "      <td>0</td>\n",
       "      <td>0</td>\n",
       "      <td>0</td>\n",
       "      <td>0</td>\n",
       "      <td>0</td>\n",
       "      <td>0.0</td>\n",
       "      <td>0.0</td>\n",
       "      <td>0.000</td>\n",
       "      <td>0.000</td>\n",
       "      <td>0.000</td>\n",
       "      <td>0.000</td>\n",
       "    </tr>\n",
       "    <tr>\n",
       "      <th>9</th>\n",
       "      <td>aaronha01</td>\n",
       "      <td>1954</td>\n",
       "      <td>468</td>\n",
       "      <td>131</td>\n",
       "      <td>27</td>\n",
       "      <td>6</td>\n",
       "      <td>13</td>\n",
       "      <td>28</td>\n",
       "      <td>3.0</td>\n",
       "      <td>4.0</td>\n",
       "      <td>0.280</td>\n",
       "      <td>0.322</td>\n",
       "      <td>0.447</td>\n",
       "      <td>0.769</td>\n",
       "    </tr>\n",
       "    <tr>\n",
       "      <th>10</th>\n",
       "      <td>aaronha01</td>\n",
       "      <td>1955</td>\n",
       "      <td>602</td>\n",
       "      <td>189</td>\n",
       "      <td>37</td>\n",
       "      <td>9</td>\n",
       "      <td>27</td>\n",
       "      <td>49</td>\n",
       "      <td>3.0</td>\n",
       "      <td>4.0</td>\n",
       "      <td>0.314</td>\n",
       "      <td>0.366</td>\n",
       "      <td>0.540</td>\n",
       "      <td>0.906</td>\n",
       "    </tr>\n",
       "  </tbody>\n",
       "</table>\n",
       "</div>"
      ],
      "text/plain": [
       "     playerID  yearID   AB    H  2B  3B  HR  BB  HBP   SF    AVG    OBP  \\\n",
       "1   aardsda01    2006    2    0   0   0   0   0  0.0  0.0  0.000  0.000   \n",
       "3   aardsda01    2008    1    0   0   0   0   0  0.0  0.0  0.000  0.000   \n",
       "8   aardsda01    2015    1    0   0   0   0   0  0.0  0.0  0.000  0.000   \n",
       "9   aaronha01    1954  468  131  27   6  13  28  3.0  4.0  0.280  0.322   \n",
       "10  aaronha01    1955  602  189  37   9  27  49  3.0  4.0  0.314  0.366   \n",
       "\n",
       "      SLG    OBS  \n",
       "1   0.000  0.000  \n",
       "3   0.000  0.000  \n",
       "8   0.000  0.000  \n",
       "9   0.447  0.769  \n",
       "10  0.540  0.906  "
      ]
     },
     "metadata": {},
     "output_type": "display_data"
    }
   ],
   "source": [
    "# create Batting Average column in batting dataframe\n",
    "avg = calc_avg(h=batting['H'], ab=batting['AB'])\n",
    "batting['AVG'] = round(avg, 3)\n",
    "\n",
    "# create On Base Percentage average column in batting dataframe\n",
    "obp = calc_obp(h=batting['H'], bb=batting['BB'], hbp=batting['HBP'], ab=batting['AB'], sf=batting['SF'])\n",
    "batting['OBP'] = round(obp, 3)\n",
    "\n",
    "# create Slugging average column in batting dataframe\n",
    "tb = calc_tb(h=batting['H'], two_b=batting['2B'], three_b=batting['3B'], hr=batting['HR'])\n",
    "slg = calc_slg(tb, batting['AB'])\n",
    "batting['SLG'] = round(slg, 3)\n",
    "\n",
    "# create On Base Plus Slugging column in batting dataframe\n",
    "obs = calc_obs(obp, slg)\n",
    "batting['OBS'] = round(obs, 3)\n",
    "\n",
    "display(batting.head())"
   ]
  },
  {
   "cell_type": "markdown",
   "metadata": {},
   "source": [
    "Now that our dataframe has these averages, drop all unecessary columns. Additionally, rename columns for consistency. "
   ]
  },
  {
   "cell_type": "code",
   "execution_count": 76,
   "metadata": {},
   "outputs": [],
   "source": [
    "# drop irrelevant columns\n",
    "batting = batting[['playerID', 'yearID','AB', 'AVG', 'OBP','SLG','OBS']]\n",
    "\n",
    "# rename columns for consitency\n",
    "batting.columns = ['playerID', 'year', 'AB', 'AVG', 'OBP', 'SLG','OBS']"
   ]
  },
  {
   "cell_type": "markdown",
   "metadata": {},
   "source": [
    "Eventually, we will be comparing data in the \"contracts\" dataframe to the \"batting\" dataframe. To do this, each observation in the dataframes needs to have some variable that is shared across both dataframes. In this case, use player names as the shared variable for lookups. \n",
    "\n",
    "The \"batting\" dataframe does not have player names, only player IDs. Use data from the \"people\" dataframe to add a playerName column to the \"batting\" dataframe. Standardize this playerName column."
   ]
  },
  {
   "cell_type": "code",
   "execution_count": 77,
   "metadata": {},
   "outputs": [
    {
     "data": {
      "text/html": [
       "<div>\n",
       "<style scoped>\n",
       "    .dataframe tbody tr th:only-of-type {\n",
       "        vertical-align: middle;\n",
       "    }\n",
       "\n",
       "    .dataframe tbody tr th {\n",
       "        vertical-align: top;\n",
       "    }\n",
       "\n",
       "    .dataframe thead th {\n",
       "        text-align: right;\n",
       "    }\n",
       "</style>\n",
       "<table border=\"1\" class=\"dataframe\">\n",
       "  <thead>\n",
       "    <tr style=\"text-align: right;\">\n",
       "      <th></th>\n",
       "      <th>playerID</th>\n",
       "      <th>playerName</th>\n",
       "      <th>year</th>\n",
       "      <th>AB</th>\n",
       "      <th>AVG</th>\n",
       "      <th>OBP</th>\n",
       "      <th>SLG</th>\n",
       "      <th>OBS</th>\n",
       "    </tr>\n",
       "  </thead>\n",
       "  <tbody>\n",
       "    <tr>\n",
       "      <th>0</th>\n",
       "      <td>aardsda01</td>\n",
       "      <td>DavidAardsma</td>\n",
       "      <td>2006</td>\n",
       "      <td>2</td>\n",
       "      <td>0.000</td>\n",
       "      <td>0.000</td>\n",
       "      <td>0.000</td>\n",
       "      <td>0.000</td>\n",
       "    </tr>\n",
       "    <tr>\n",
       "      <th>1</th>\n",
       "      <td>aardsda01</td>\n",
       "      <td>DavidAardsma</td>\n",
       "      <td>2008</td>\n",
       "      <td>1</td>\n",
       "      <td>0.000</td>\n",
       "      <td>0.000</td>\n",
       "      <td>0.000</td>\n",
       "      <td>0.000</td>\n",
       "    </tr>\n",
       "    <tr>\n",
       "      <th>2</th>\n",
       "      <td>aardsda01</td>\n",
       "      <td>DavidAardsma</td>\n",
       "      <td>2015</td>\n",
       "      <td>1</td>\n",
       "      <td>0.000</td>\n",
       "      <td>0.000</td>\n",
       "      <td>0.000</td>\n",
       "      <td>0.000</td>\n",
       "    </tr>\n",
       "    <tr>\n",
       "      <th>3</th>\n",
       "      <td>aaronha01</td>\n",
       "      <td>HankAaron</td>\n",
       "      <td>1954</td>\n",
       "      <td>468</td>\n",
       "      <td>0.280</td>\n",
       "      <td>0.322</td>\n",
       "      <td>0.447</td>\n",
       "      <td>0.769</td>\n",
       "    </tr>\n",
       "    <tr>\n",
       "      <th>4</th>\n",
       "      <td>aaronha01</td>\n",
       "      <td>HankAaron</td>\n",
       "      <td>1955</td>\n",
       "      <td>602</td>\n",
       "      <td>0.314</td>\n",
       "      <td>0.366</td>\n",
       "      <td>0.540</td>\n",
       "      <td>0.906</td>\n",
       "    </tr>\n",
       "  </tbody>\n",
       "</table>\n",
       "</div>"
      ],
      "text/plain": [
       "    playerID    playerName  year   AB    AVG    OBP    SLG    OBS\n",
       "0  aardsda01  DavidAardsma  2006    2  0.000  0.000  0.000  0.000\n",
       "1  aardsda01  DavidAardsma  2008    1  0.000  0.000  0.000  0.000\n",
       "2  aardsda01  DavidAardsma  2015    1  0.000  0.000  0.000  0.000\n",
       "3  aaronha01     HankAaron  1954  468  0.280  0.322  0.447  0.769\n",
       "4  aaronha01     HankAaron  1955  602  0.314  0.366  0.540  0.906"
      ]
     },
     "execution_count": 77,
     "metadata": {},
     "output_type": "execute_result"
    }
   ],
   "source": [
    "# add name column to people that combines players first and last name\n",
    "people['name'] = people['nameFirst'] + ' ' + people['nameLast']\n",
    "\n",
    "# drop irrelevant columns\n",
    "people = people[['playerID','name']]\n",
    "\n",
    "# merge batting and people to add name column to batting dataframe\n",
    "batting = batting.merge(people, how='left', on='playerID')\n",
    "\n",
    "# rename and reorder  batting columns for consistency \n",
    "batting = batting.rename({'name':'playerName'}, axis=1)\n",
    "batting = batting[['playerID','playerName','year','AB', 'AVG', 'OBP', 'SLG','OBS']]\n",
    "\n",
    "# standardize playerName column\n",
    "batting['playerName'] = batting['playerName'].apply(standardize_name)\n",
    "batting.head()"
   ]
  },
  {
   "cell_type": "markdown",
   "metadata": {},
   "source": [
    "Our \"contract\" dataframe currently only contains contracts of free agent batters from the years 1991-2022. Our \"batting\" dataframe contains data on all players from 1871-2022. Drop all players from \"batting\" dataframe who do not appear in the \"contracts\" dataframe. \n",
    "\n",
    "*NOTE: the two original datasets occasionally used different naming conventions that could not be rectified through standardization. Because of this, \"batting\" ends up missing 22 names from \"contracts\".*"
   ]
  },
  {
   "cell_type": "code",
   "execution_count": 81,
   "metadata": {},
   "outputs": [
    {
     "name": "stdout",
     "output_type": "stream",
     "text": [
      "number of missing names from batting:  22\n"
     ]
    }
   ],
   "source": [
    "# remove players from batting who are not in contracts\n",
    "batting = batting[batting['playerName'].isin(list(contracts['playerName'].unique()))]\n",
    "\n",
    "# NOTE: 22 names in contracts missing from batting; Caused by naming disparities in databases;\n",
    "missing_from_batting  = len(contracts['playerName'].unique()) - len(batting['playerName'].unique())\n",
    "print('number of missing names from batting: ', missing_from_batting)"
   ]
  },
  {
   "cell_type": "markdown",
   "metadata": {},
   "source": [
    "One final issue with our data is that a few players in the dataframes have the same name. These players should not be treated as the same player and may cause issues down the line. Remove all players with the same name from the dataframes."
   ]
  },
  {
   "cell_type": "code",
   "execution_count": 83,
   "metadata": {},
   "outputs": [],
   "source": [
    "# all names associated with a unique playerID\n",
    "names = pd.Series([group[1]['playerName'].reset_index(drop=True)[0] for group in batting.groupby('playerID')])\n",
    "name_counts = names.value_counts();\n",
    "\n",
    "# list of players with the same name \n",
    "repeated_names = list(name_counts[name_counts > 1].index)\n",
    "\n",
    "# remove batters and contracts with repeated names name\n",
    "batting = batting[~batting['playerName'].isin(repeated_names)]\n",
    "contracts = contracts[~contracts['playerName'].isin(repeated_names)]"
   ]
  },
  {
   "cell_type": "markdown",
   "metadata": {},
   "source": [
    "The data cleaning is done! This is a breakdown of how the dataframes changed throughout the process."
   ]
  },
  {
   "cell_type": "code",
   "execution_count": null,
   "metadata": {
    "scrolled": true
   },
   "outputs": [],
   "source": [
    "# results of cleaning: \n",
    "print('original contracts dataframe: ')\n",
    "print('\\tshape: ', contracts_original.shape)\n",
    "print('\\tunique players: ', len(list(contracts_original['Player'].unique())))\n",
    "\n",
    "print('new contracts dataframe: ')\n",
    "print('\\tshape: ', contracts.shape)\n",
    "print('\\tunique players: ', len(list(contracts['playerName'].unique())),'\\n')\n",
    "\n",
    "print('original batting dataframe: ')\n",
    "print('\\tshape: ', batting_original.shape)\n",
    "print('\\tunique players: ', len(list(batting_original['playerID'].unique())))\n",
    "\n",
    "print('new batting dataframe: ')\n",
    "print('\\tshape: ', batting.shape)\n",
    "print('\\tunique players: ', len(list(batting['playerName'].unique())))"
   ]
  },
  {
   "cell_type": "markdown",
   "metadata": {},
   "source": [
    "# Data Analysis & Results (EDA)"
   ]
  },
  {
   "cell_type": "code",
   "execution_count": null,
   "metadata": {},
   "outputs": [],
   "source": [
    "batting_grouped = batting.groupby(['playerName','year'])"
   ]
  },
  {
   "cell_type": "code",
   "execution_count": null,
   "metadata": {},
   "outputs": [],
   "source": [
    "def getBattingStat(groupby, player, year, stat):\n",
    "    try:\n",
    "        return float(groupby.get_group((player, year))[stat])\n",
    "    except: \n",
    "        return -1"
   ]
  },
  {
   "cell_type": "code",
   "execution_count": null,
   "metadata": {},
   "outputs": [],
   "source": [
    "data = []\n",
    "for index, contract in contracts.iterrows():\n",
    "    if contract['playerName'] in list(batting['playerName']):\n",
    "        year_salary = contract['yearSalary']\n",
    "        stat = getBattingStat(batting_grouped, contract['playerName'], contract['year']-1, 'OBP')\n",
    "        if stat > 0:\n",
    "            data.append((stat, year_salary))\n",
    "fig, ax = plt.subplots()\n",
    "sns.scatterplot(data=pd.DataFrame(data=data, columns = ['OBP', 'year salary']), x='OBP', y='year salary')"
   ]
  },
  {
   "cell_type": "markdown",
   "metadata": {},
   "source": [
    "Yearly salary predictions will depend on the year; factors including inflation and viewership are expected to alter MLB salaries from year to year. First, we will compare the MLB free agent contracts between 1991 and 2022."
   ]
  },
  {
   "cell_type": "code",
   "execution_count": null,
   "metadata": {},
   "outputs": [],
   "source": [
    "# compare yearly salaries between 1991 and 2022\n",
    "fig = plt.figure(figsize=(15, 10))\n",
    "plt.suptitle(\"Yearly Salaries\", fontsize=14)\n",
    "ax1 = fig.add_subplot(221)\n",
    "ax2 = fig.add_subplot(222)\n",
    "ax1.title.set_text('1991')\n",
    "ax2.title.set_text('2022')\n",
    "sns.histplot(data = contracts[contracts['year'] == 1991], x = 'yearSalary', bins = 30, ax = ax1)\n",
    "sns.histplot(data = contracts[contracts['year'] == 2022], x = 'yearSalary', bins = 30, ax = ax2)\n",
    "plt.show()"
   ]
  },
  {
   "cell_type": "markdown",
   "metadata": {},
   "source": [
    "As expected, the average yearly salary jumped a significant amount from 1991 to 2022. The highest contract from 1991 is around $4,000,000 compared to the hihgest contract from 2022 being close to $35,000,000. \n",
    "\n",
    "We will now look at the average salary from each year of data that we have obtained (1991-2022)."
   ]
  },
  {
   "cell_type": "code",
   "execution_count": null,
   "metadata": {},
   "outputs": [],
   "source": [
    "# compare average salaries over the years\n",
    "\n",
    "salary_years = contracts['year'].value_counts().rename_axis('year').reset_index(name='counts')\n",
    "salary_years['avg salary'] = ''\n",
    "for i in range(len(salary_years)):\n",
    "    salary_years['avg salary'][i] = statistics.mean(contracts[contracts['year'] == salary_years['year'][i]]['yearSalary'])\n",
    "salary_years = salary_years.sort_values(by=['year']).reset_index(drop = True)\n",
    "sns.scatterplot(data=salary_years, x='year', y='avg salary').set_title('Average Salary vs. Year')\n",
    "plt.grid()\n",
    "plt.show()\n",
    "# try to fit the data (linear/exponential/etc)"
   ]
  },
  {
   "cell_type": "markdown",
   "metadata": {},
   "source": [
    "The average salary has a general upward trend as the year increases. From these results, it is important to take into account the year when predicting salaries. \n",
    "\n",
    "In order to predict what information and stats are important for predicting salaries, we will take a look at the stats of the highest paid player from each year. Since we want to use previous performace to predict future salaries, we will first look at only the year prior to each contract. It will be helpful to get a better idea of what stats to expect given high salaries. "
   ]
  },
  {
   "cell_type": "code",
   "execution_count": null,
   "metadata": {},
   "outputs": [],
   "source": [
    "# look at the previous year stats for the highest contract from each year\n",
    "\n",
    "# find the maximum salary from each year\n",
    "salary_years['max salary'] = ''\n",
    "for i in range(len(salary_years)):\n",
    "    salary_years['max salary'][i] = ((contracts[contracts['year'] == salary_years['year'][i]]['yearSalary'])  \n",
    "    [(contracts[contracts['year'] == salary_years['year'][i]]['yearSalary']).idxmax()])\n",
    "\n",
    "\n",
    "# find players with max salary\n",
    "max_player = (contracts[contracts['year']==1991][contracts[contracts['year']==1991]['yearSalary'] ==\n",
    " int(salary_years[salary_years['year']==1991]['max salary'])])\n",
    "\n",
    "for i in range(len(salary_years)-1):\n",
    "    max_player=max_player.append(contracts[contracts['year']==salary_years['year'][i+1]][contracts[contracts['year']==\n",
    "    salary_years['year'][i+1]]['yearSalary'] == int(salary_years[salary_years['year']==salary_years['year'][i+1]]['max salary'])])\n",
    "max_player = max_player.reset_index(drop = True)\n",
    "\n",
    "# find the previous year stats for each max salary player\n",
    "max_player['previous AVG'] = ''\n",
    "max_player['previous AVG'][0] = np.nan\n",
    "max_player['previous OBP'] = ''\n",
    "max_player['previous OBP'][0] = np.nan\n",
    "max_player['previous SLG'] = ''\n",
    "max_player['previous SLG'][0] = np.nan\n",
    "max_player['previous OBS'] = ''\n",
    "max_player['previous OBS'][0] = np.nan\n",
    "for i in range(len(max_player)-1):\n",
    "    max_player['previous AVG'][i+1] = (float(batting[batting['year'] == max_player['year'][i]]\n",
    "    [batting[batting['year'] == max_player['year'][i]]['playerName'] == max_player['playerName'][i]]['AVG']))\n",
    "for i in range(len(max_player)-1):\n",
    "    max_player['previous OBP'][i+1] = (float(batting[batting['year'] == max_player['year'][i]]\n",
    "    [batting[batting['year'] == max_player['year'][i]]['playerName'] == max_player['playerName'][i]]['OBP']))\n",
    "for i in range(len(max_player)-1):\n",
    "    max_player['previous SLG'][i+1] = (float(batting[batting['year'] == max_player['year'][i]]\n",
    "    [batting[batting['year'] == max_player['year'][i]]['playerName'] == max_player['playerName'][i]]['SLG']))\n",
    "for i in range(len(max_player)-1):\n",
    "    max_player['previous OBS'][i+1] = (float(batting[batting['year'] == max_player['year'][i]]\n",
    "    [batting[batting['year'] == max_player['year'][i]]['playerName'] == max_player['playerName'][i]]['OBS']))\n",
    "\n",
    "\n",
    "# find the minimum salary from each year\n",
    "salary_years['min salary'] = ''\n",
    "for i in range(len(salary_years)):\n",
    "    salary_years['min salary'][i] = ((contracts[contracts['year'] == salary_years['year'][i]]['yearSalary'])  \n",
    "    [(contracts[contracts['year'] == salary_years['year'][i]]['yearSalary']).idxmin()])\n",
    "\n",
    "\n",
    "# can look at minimum salary stats similarly to how maximum stats were analyzed\n"
   ]
  },
  {
   "cell_type": "markdown",
   "metadata": {},
   "source": [
    "Looking at the average salary, maximum salary, and minimum salary from the first three and last three years of data:"
   ]
  },
  {
   "cell_type": "code",
   "execution_count": null,
   "metadata": {},
   "outputs": [],
   "source": [
    "print(salary_years.iloc[np.r_[:3, -3:0]])"
   ]
  },
  {
   "cell_type": "markdown",
   "metadata": {},
   "source": [
    "The highest salary player from each year along with their previous year stats (AVG, OBP, SLG, OBS):"
   ]
  },
  {
   "cell_type": "code",
   "execution_count": null,
   "metadata": {},
   "outputs": [],
   "source": [
    "print(max_player)"
   ]
  },
  {
   "cell_type": "code",
   "execution_count": 53,
   "metadata": {},
   "outputs": [
    {
     "data": {
      "text/plain": [
       "<AxesSubplot: xlabel='SLG', ylabel='year salary'>"
      ]
     },
     "execution_count": 53,
     "metadata": {},
     "output_type": "execute_result"
    },
    {
     "data": {
      "image/png": "[encoded data removed]",
      "text/plain": [
       "<Figure size 640x480 with 1 Axes>"
      ]
     },
     "metadata": {},
     "output_type": "display_data"
    }
   ],
   "source": [
    "# Players yearly salary compared to their SLG\n",
    "data = []\n",
    "for index, contract in contracts.iterrows():\n",
    "    if contract['playerName'] in list(batting['playerName']):\n",
    "        year_salary = contract['yearSalary']\n",
    "        stat = getBattingStat(batting_grouped, contract['playerName'], contract['year']-1, 'SLG')\n",
    "        if stat > 0 and stat < 0.8:\n",
    "            data.append((stat, year_salary))\n",
    "fig, ax = plt.subplots()\n",
    "sns.regplot(data=pd.DataFrame(data=data, columns = ['SLG', 'year salary']), x='SLG', y='year salary')"
   ]
  },
  {
   "cell_type": "code",
   "execution_count": null,
   "metadata": {},
   "outputs": [],
   "source": []
  }
 ],
 "metadata": {
  "kernelspec": {
   "display_name": "Python 3 (ipykernel)",
   "language": "python",
   "name": "python3"
  },
  "language_info": {
   "codemirror_mode": {
    "name": "ipython",
    "version": 3
   },
   "file_extension": ".py",
   "mimetype": "text/x-python",
   "name": "python",
   "nbconvert_exporter": "python",
   "pygments_lexer": "ipython3",
   "version": "3.10.3"
  },
  "vscode": {
   "interpreter": {
    "hash": "17148b80536a9518b3c217100db44d9bbf858b2c0861d2db315eb0a1b18cdf91"
   }
  }
 },
 "nbformat": 4,
 "nbformat_minor": 2
}
