{
 "cells": [
  {
   "cell_type": "markdown",
   "metadata": {},
   "source": [
    "# COGS 108 - Final Project Proposal"
   ]
  },
  {
   "cell_type": "markdown",
   "metadata": {},
   "source": [
    "# Names\n",
    "\n",
    "- Naomi Chin\n",
    "- Leo Friedman\n",
    "- Jake Heinlein\n",
    "- Dante Tanjuatco\n",
    "- Nathan Tripp"
   ]
  },
  {
   "cell_type": "markdown",
   "metadata": {},
   "source": [
    "# Research Question"
   ]
  },
  {
   "cell_type": "markdown",
   "metadata": {},
   "source": [
    "-  Include a specific, clear data science question.\n",
    "-  Make sure what you're measuring (variables) to answer the question is clear\n",
    "\n",
    "What is your research question? Include the specific question you're setting out to answer. This question should be specific, answerable with data, and clear. A general question with specific subquestions is permitted. (1-2 sentences)\n",
    "\n",
    "***\n",
    "\n",
    "How do the changes in MLB player’s contracts, as measured by salary and length, relate to their batting performance, as measured by on-base plus slugging average?\n",
    "\n"
   ]
  },
  {
   "cell_type": "markdown",
   "metadata": {},
   "source": [
    "## Background and Prior Work"
   ]
  },
  {
   "cell_type": "markdown",
   "metadata": {},
   "source": [
    "\n",
    "- Include a general introduction to your topic\n",
    "- Include explanation of what work has been done previously\n",
    "- Include citations or links to previous work\n",
    "\n",
    "This section will present the background and context of your topic and question in a few paragraphs. Include a general introduction to your topic and then describe what information you currently know about the topic after doing your initial research. Include references to other projects who have asked similar questions or approached similar problems. Explain what others have learned in their projects.\n",
    "\n",
    "Find some relevant prior work, and reference those sources, summarizing what each did and what they learned. Even if you think you have a totally novel question, find the most similar prior work that you can and discuss how it relates to your project.\n",
    "\n",
    "References can be research publications, but they need not be. Blogs, GitHub repositories, company websites, etc., are all viable references if they are relevant to your project. It must be clear which information comes from which references. (2-3 paragraphs, including at least 2 references)\n",
    "\n",
    " **Use inline citation through Markdown footnotes to specify which references support which statements** \n",
    "\n",
    "For example: After government genocide in the 20th century, real birds were replaced with surveillance drones designed to look just like birds[^lorenz]. \n",
    "Use a minimum of 2 or 3 citations, but we prefer more[^admonish]. You need enough to fully explain and back up important facts. \n",
    "\n",
    "[^lorenz]: Lorenz, T. (9 Dec 2021) Birds Aren’t Real, or Are They? Inside a Gen Z Conspiracy Theory. *The New York Times*. https://www.nytimes.com/2021/12/09/technology/birds-arent-real-gen-z-misinformation.html \n",
    "[^admonish]: Also refs should be important to the background, not some randomly chosen vaguely related stuff. Include a web link if possible in refs as above.\n",
    "\n",
    "***\n",
    "\n",
    "Although there are many statistics that attempt to quantify the offensive ability of Major League Baseball (MLB) players, the on base percentage plus slugging (OPS) average is often regarded as the most telling [^pate]. OPS is adept at capturing a player’s overall offensive capabilities because it combines multiple relevant offensive statistics: On Base Percentage, the likelihood a player gets on base, and Slugging Percentage, a measurement of the quality of a player’s hits [^fields]. Thus understanding factors that influence a player’s OPS is valuable in that it gives insight into how well a player will perform in the future. While physical attributes like arm strength, speed, and agility can certainly affect a batter’s ability to hit a baseball, professional MLB players often regard baseball as a mental game. Yogi Berra, previously a catcher for the New York Yankees, claimed that “baseball is 90 percent mental; the other half is physical\" [^thompson]. In this project we will attempt to identify whether a player’s contract to an MLB team is a mental factor that affects their batting ability. \n",
    "\n",
    "MLB players generally desire to sign long, high paying contracts. Although this caps the players potential earnings, it provides job security and a guaranteed payday [^turvey]. At the same time, the teams focus on signing the best players for the lowest cost possible. Long term contracts can also be desirable for teams because it guarantees that the players will remain on their roster for the specified time period [^paulson]. However, it is not guaranteed that a player will continue their current production through the length of their contract. In some cases, players exceed their expectations, but in others, players drastically underperform. Whether an increase in performance is due to having job security or whether a drop in performance is due to complacency, it is important for both players and teams to be informed on optimal contract salaries and lengths that will best suit their own interests. Inorder for optimal contracts to be written all relevant factors that give insight into the players future performance must be considered. Thus the factor of how the contract, itself, may influence the players future contributions must be considered as well.\n",
    "\n",
    "Similar projects to ours have had variable results. In the article, “New Evidence in the Study of Shirking in Major League Baseball”, Richard J. Paulson discovered a negative relationship between years remaining on a baseball player’s contract and performance [^paulson]. These findings suggest that players generally underperform long contracts due to complacency. While this study is similar to ours, the results are not fully applicable because the contract salary was not taken into account. Another similar study, performed by Matthew J. Cahill, deduced that there is no relationship between contract salary and length and player performance [^cahill]. It must be noted, however, that Cahill’s sample size was too small to apply these generalizations to the league as a whole. \n",
    "\n",
    "[^pate]: Pate, A. (24 Jan 2020) 3 Basic MLB Hitting Stats that Define a Great Hitter. The Hitting Vault.  https://thehittingvault.com/3-basic-mlb-hitting-stats-that-define-a-great-hitter/ \n",
    "\n",
    "[^fields]: Fields, B. (28 Aug 2022) How to Calculate OPS in Baseball. SportsRec.   https://www.sportsrec.com/calculate-ops-baseball-2063754.html \n",
    "\n",
    "[^thompson]: Thompson, A. (26 Oct 2007) Mind Games: What Makes a Great Baseball Player Great. Livescience. https://www.livescience.com/4685-mind-games-great-baseball-player-great.html \n",
    "\n",
    "[^turvey]: Turvey, J. (Fall 2003) The Future of Baseball Contracts: A Look at the Growing Trend in Long-Term Contracts. SABR. https://www.researchgate.net/publication/347239317_New_Evidence_in_the_Study_of_Shirking_in_Major_League_Baseball \n",
    "\n",
    "[^paulson]: Paulson, R. (12 Dec 2020) New Evidence in the Study of Shirking in Major League Baseball. Human Kinetics Journal. https://www.researchgate.net/publication/347239317_New_Evidence_in_the_Study_of_Shirking_in_Major_League_Baseball \n",
    "\n",
    "[^cahill]: Cahill, M. (Summer 2014) Change in Major League Baseball player performance after\n",
    "signing a Long-Term Deal. Fisher Digital Publications. https://www.researchgate.net/publication/347239317_New_Evidence_in_the_Study_of_Shirking_in_Major_League_Baseball \n",
    "\n",
    "\n",
    "\n",
    "\n",
    "\n",
    "\n"
   ]
  },
  {
   "cell_type": "markdown",
   "metadata": {},
   "source": [
    "# Hypothesis\n"
   ]
  },
  {
   "cell_type": "markdown",
   "metadata": {},
   "source": [
    "\n",
    "- Include your team's hypothesis\n",
    "- Ensure that this hypothesis is clear to readers\n",
    "- Explain why you think this will be the outcome (what was your thinking?)\n",
    "\n",
    "What is your main hypothesis/predictions about what the answer to your question is? Briefly explain your thinking. (2-3 sentences)\n",
    "\n",
    "***\n",
    "\n",
    "We predict that increases in players salary and contract length will increase their on-base plus slugging average. We believe this because an increase in player salary and contract means the club values the player, which most likely will boost the player’s morale and confidence. On the flip side, a player with a short or low-paying contract likely will perform worse from the pressure of job insecurity. "
   ]
  },
  {
   "cell_type": "markdown",
   "metadata": {},
   "source": [
    "# Data"
   ]
  },
  {
   "cell_type": "markdown",
   "metadata": {},
   "source": [
    "1. Explain what the **ideal** dataset you would want to answer this question. (This should include: What variables? How many observations? Who/what/how would these data be collected? How would these data be stored/organized?)\n",
    "1. Search for potential **real** datasets that could provide you with something useful for this project.  You do not have to find every piece of data you will use, but you do need to have demonstrated some idea that (a) this data is gettable and (b) that this data may be different from what your ideal is\n",
    "\n",
    "***\n",
    "\n",
    "The ideal dataset would include observations describing MLB players during a particular year. Each observation should have the following variables: year, on base percentage plus slugging average, remaining contract length, and current salary. As we will be comparing players’ performance year by year, we need our dataset to contain multiple years worth of observations. For each year, we want as many observations as possible. In the most perfect situation, we want an observation for every active MLB player in the past ten or so years. Most of this information is easily accessible on baseball websites, often even with an option to download as csv. Likely we will download pieces of the data and then combine and store them as a dataframe using the Pandas library. In our search for data we have been successful. On Spotrac (https://www.spotrac.com/mlb/rankings/2022/contract-length/), we found an organized list of all MLB player contracts from 2011-2023. From that data we can extract player contract length and salary amount. On Rotowire (https://www.rotowire.com/baseball/stats.php), we found an organized list of all MLB player batting statistics (including OPS) from 2010-2022. From that site we can extract OPS. Combining both of these datasets should give us the ideal dataset which we can begin to analyze. "
   ]
  },
  {
   "cell_type": "markdown",
   "metadata": {},
   "source": [
    "# Ethics & Privacy"
   ]
  },
  {
   "cell_type": "markdown",
   "metadata": {},
   "source": [
    "- Thoughtful discussion of ethical concerns included\n",
    "- Ethical concerns consider the whole data science process (question asked, data collected, data being used, the bias in data, analysis, post-analysis, etc.)\n",
    "- How your group handled bias/ethical concerns clearly described\n",
    "\n",
    "Acknowledge and address any ethics & privacy related issues of your question(s), proposed dataset(s), and/or analyses. Use the information provided in lecture to guide your group discussion and thinking. If you need further guidance, check out [Deon's Ethics Checklist](http://deon.drivendata.org/#data-science-ethics-checklist). In particular:\n",
    "\n",
    "- Are there any biases/privacy/terms of use issues with the data you propsed?\n",
    "- Are there potential biases in your dataset(s), in terms of who it composes, and how it was collected, that may be problematic in terms of it allowing for equitable analysis? (For example, does your data exclude particular populations, or is it likely to reflect particular human biases in a way that could be a problem?)\n",
    "- How will you set out to detect these specific biases before, during, and after/when communicating your analysis?\n",
    "- Are there any other issues related to your topic area, data, and/or analyses that are potentially problematic in terms of data privacy and equitable impact?\n",
    "- How will you handle issues you identified?\n",
    "\n",
    "***\n",
    "\n",
    "There should not be any bias in the data we are proposing, as the variables we are collecting (on-base plus slugging average, player salary, and player contract length) are all objective facts. The only way our data may have bias is if it was imputed incorrectly on the sites we are extracting from. We should be able to limit this possibility by checking site reputability and by cross referencing different sites with the same data. Also because MLB statistics are considered facts, they are not protected by copyright law. Thus we are free to use MLB statistics for our project. There is also no exclusion in our data as on the site we have chosen, every batter in the MLB is listed.\n"
   ]
  },
  {
   "cell_type": "markdown",
   "metadata": {},
   "source": [
    "# Team Expectations "
   ]
  },
  {
   "cell_type": "markdown",
   "metadata": {},
   "source": [
    "\n",
    "Read over the [COGS108 Team Policies](https://github.com/COGS108/Projects/blob/master/COGS108_TeamPolicies.md) individually. Then, include your group’s expectations of one another for successful completion of your COGS108 project below. Discuss and agree on what all of your expectations are. Discuss how your team will communicate throughout the quarter and consider how you will communicate respectfully should conflicts arise. By including each member’s name above and by adding their name to the submission, you are indicating that you have read the COGS108 Team Policies, accept your team’s expectations below, and have every intention to fulfill them. These expectations are for your team’s use and benefit — they won’t be graded for their details.\n",
    "\n",
    "***\n",
    "\n",
    "* *Communication will be done through text message, call, and in person during our discussion meetings.*\n",
    "* *Each team member will complete their agreed upon work by the deadlines set by the team.*\n",
    "* *If a problem or conflict arises, the group will be understanding of the situation while still holding each individual responsible for contributing to the project.*"
   ]
  },
  {
   "cell_type": "markdown",
   "metadata": {},
   "source": [
    "# Project Timeline Proposal"
   ]
  },
  {
   "cell_type": "markdown",
   "metadata": {},
   "source": [
    "Specify your team's specific project timeline. An example timeline has been provided. Changes the dates, times, names, and details to fit your group's plan.\n",
    "\n",
    "If you think you will need any special resources or training outside what we have covered in COGS 108 to solve your problem, then your proposal should state these clearly. For example, if you have selected a problem that involves implementing multiple neural networks, please state this so we can make sure you know what you’re doing and so we can point you to resources you will need to implement your project. Note that you are not required to use outside methods.\n",
    "\n",
    "\n",
    "| Meeting Date  | Meeting Time| Completed Before Meeting  | Discuss at Meeting |\n",
    "|---|---|---|---|\n",
    "| 1/20  |  1 PM | Read & Think about COGS 108 expectations; brainstorm topics/questions  | Determine best form of communication; Discuss and decide on final project topic; discuss hypothesis; begin background research | \n",
    "| 1/26  |  10 AM |  Do background research on topic | Discuss ideal dataset(s) and ethics; draft project proposal | \n",
    "| 2/1  | 10 AM  | Edit, finalize, and submit proposal; Search for datasets  | Discuss Wrangling and possible analytical approaches; Assign group members to lead each specific part   |\n",
    "| 2/14  | 6 PM  | Import & Wrangle Data (Ant Man); EDA (Hulk) | Review/Edit wrangling/EDA; Discuss Analysis Plan   |\n",
    "| 2/23  | 12 PM  | Finalize wrangling/EDA; Begin Analysis (Iron Man; Thor) | Discuss/edit Analysis; Complete project check-in |\n",
    "| 3/13  | 12 PM  | Complete analysis; Draft results/conclusion/discussion (Wasp)| Discuss/edit full project |\n",
    "| 3/19  | Before 11:59 PM  | NA | Turn in Final Project & Group Project Surveys |"
   ]
  },
  {
   "cell_type": "code",
   "execution_count": null,
   "metadata": {},
   "outputs": [],
   "source": []
  }
 ],
 "metadata": {
  "kernelspec": {
   "display_name": "Python 3",
   "language": "python",
   "name": "python3"
  },
  "language_info": {
   "codemirror_mode": {
    "name": "ipython",
    "version": 3
   },
   "file_extension": ".py",
   "mimetype": "text/x-python",
   "name": "python",
   "nbconvert_exporter": "python",
   "pygments_lexer": "ipython3",
   "version": "3.8.8"
  }
 },
 "nbformat": 4,
 "nbformat_minor": 2
}
