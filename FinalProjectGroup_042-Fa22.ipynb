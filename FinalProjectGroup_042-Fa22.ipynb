{
 "cells": [
  {
   "cell_type": "markdown",
   "metadata": {},
   "source": [
    "# COGS 108 - Final Project (change this to your project's title)"
   ]
  },
  {
   "cell_type": "markdown",
   "metadata": {},
   "source": [
    "## Permissions\n",
    "\n",
    "Place an `X` in the appropriate bracket below to specify if you would like your group's project to be made available to the public. (Note that student names will be included (but PIDs will be scraped from any groups who include their PIDs).\n",
    "\n",
    "* [  ] YES - make available\n",
    "* [  ] NO - keep private"
   ]
  },
  {
   "cell_type": "markdown",
   "metadata": {},
   "source": [
    "# Overview"
   ]
  },
  {
   "cell_type": "markdown",
   "metadata": {},
   "source": [
    "*Fill in your overview here*"
   ]
  },
  {
   "cell_type": "markdown",
   "metadata": {},
   "source": [
    "# Names\n",
    "\n",
    "- Naomi Chin\n",
    "- Leo Friedman\n",
    "- Jake Heinlein\n",
    "- Dante Tanjuatco\n",
    "- Nathan Tripp"
   ]
  },
  {
   "cell_type": "markdown",
   "metadata": {},
   "source": [
    "<a id='research_question'></a>\n",
    "# Research Question"
   ]
  },
  {
   "cell_type": "markdown",
   "metadata": {},
   "source": [
    "Is the combination of an mlb free agents age and batting performance, measured by relevant batting statistics (Batting Average, On Base Percentage, Slugging Average, etc.) indicative of their yearly salary, and if so, can we predict a player's salary based on these factors?"
   ]
  },
  {
   "cell_type": "markdown",
   "metadata": {},
   "source": [
    "<a id='background'></a>\n",
    "\n",
    "## Background & Prior Work"
   ]
  },
  {
   "cell_type": "markdown",
   "metadata": {},
   "source": [
    "Many statistics attempt to quantify the offensive ability of Major League Baseball (MLB) players, however, the On-Base Percentage Plus Slugging (OPS) average is often regarded as the most telling **(1)**. OPS is adept at capturing a player’s overall offensive capabilities because it combines multiple relevant offensive statistics: On Base Percentage, the likelihood a player gets on base, and Slugging Percentage, a measurement of the quality of a player’s hits **(2)**. Thus it can be inferred that OPS and statistics similar to it (On-Base Percentage, Batting Average, Slugging Average, etc.) accurately reflect how valuable a player is to a baseball team. \n",
    "\n",
    "MLB Free Agents generally desire to sign highest paying contracts. At the same time, teams focus on signing the best players for the lowest cost possible. In many cases players who sign long-term, high paying contracts underperform relative to how much they're paid **(3)**. At the same time, countless players are undervalued and are paid much less than they deserve **(4)**. To avoid unfair compensensation, it is important that both players and teams understand the general fair contract value before entering in negotiations. Thus a model that can accurately predict a player's value from known factors would be  beneficial to the baseball industry. \n",
    "\n",
    "Similar studies to ours have been performed, however, they are not without issues. A project performed by Enes Arslan attempted to predict the salaries of baseball players through linear regression. While the general priciples of the project were sound, Arslan made the mistake of only looking at about 300 observations **(5)**. Such a small dataset is unlikely to provide insight that can be generalized to the whole league. Additional, Arslan didn't take into account the age of each player which is a factor that is likely very indicaive of salary **(5)**. Finally, Arsan only used data from 1986 to train the prediction model **(5)**. Data from 1986 is very outdated as inflation (among other factors) has greatly affected the salaries of current MLB players. \n",
    "\n",
    "**References:**\n",
    "1. Pate, A. (24 Jan 2020) 3 Basic MLB Hitting Stats that Define a Great Hitter. The Hitting Vault. https://thehittingvault.com/3-basic-mlb-hitting-stats-that-define-a-great-hitter/\n",
    "2. Fields, B. (28 Aug 2022) How to Calculate OPS in Baseball. SportsRec. https://www.sportsrec.com/calculate-ops-baseball-2063754.html\n",
    "3. Paulson, R. (12 Dec 2020) New Evidence in the Study of Shirking in Major League Baseball. Human Kinetics Journal. https://www.researchgate.net/publication/347239317_New_Evidence_in_the_Study_of_Shirking_in_Major_League_Baseball\n",
    "4. Anderson, R.J. (14 Jan 2022) MLB's 10 most underpaid players, including reigning MVP Shohei Ohtani and Cy Young winner Corbin Burnes.\n",
    "https://www.cbssports.com/mlb/news/mlbs-10-most-underpaid-players-including-reigning-mvp-shohei-ohtani-and-cy-young-winner-corbin-burnes/\n",
    "5. Arslan, Enes (Summer 2022) Salary Prediction of Baseball https://www.kaggle.com/code/enesarslan8/salary-prediction-of-baseball-players"
   ]
  },
  {
   "cell_type": "markdown",
   "metadata": {},
   "source": [
    "# Hypothesis\n"
   ]
  },
  {
   "cell_type": "markdown",
   "metadata": {},
   "source": [
    "MLB free agents' age is non-linearly correlated with salary such that salary will increase as players approach their \"prime\" and then decrease each year following. Batting performance is positively correlated with salary; players who bat better get paid more. \n",
    "\n",
    "Given relevant information of an MLB Free Agent (age, batting average, on base percentage, etc.), our predictive model will be able to accurately predict the salary of said baseball player. \n",
    "\n",
    "Also, the year a baseball contract is given will likely influence the salary due to general inflation over time. We will control this confounder by adjusting salaries to match inflationary trends. "
   ]
  },
  {
   "cell_type": "markdown",
   "metadata": {},
   "source": [
    "# Dataset(s)"
   ]
  },
  {
   "cell_type": "markdown",
   "metadata": {},
   "source": [
    "**Dataset 1:**\n",
    "\n",
    "- Dataset name: MLB Free Agent Contracts 1991-2023\n",
    "- Link: https://docs.google.com/spreadsheets/d/1bXUPBabVf82y0m2KaZ0F9Fno9xwZ2pmepbFvMBX_TEM/edit#gid=1265430999\n",
    "- Number of observations: 4995\n",
    "- Description: Dataset of all MLB Free Agent Contracts given from 1991-2023. Each observation contains relevant variables such salary, year signed, player name, and player age.\n",
    "\n",
    "**Dataset 2:**\n",
    "\n",
    "- Dataset name: MLB Batting Stats 1871-2022\n",
    "- Link to dataset: https://github.com/chadwickbureau/baseballdatabank/blob/master/core/Batting.csv\n",
    "- Number of observations: 110458\n",
    "- Description: Dataset of all MLB player batting statistics from from 1871-2022. Each observation contains variables (hits, walks, doubles, singles, homeruns, etc.) that can be used to calculate batting average and on base percentace plus slugging average.\n",
    "\n",
    "**Dataset 3:**\n",
    "\n",
    "- Dataset name: MLB Batting Player Information 1871-2022\n",
    "- Link to the dataset: https://github.com/chadwickbureau/baseballdatabank/blob/master/core/People.csv\n",
    "- Number of observations: 20369\n",
    "- Description: Dataset of general information about MLB players from 1871-2022. Each observation contains variables relating to the player such as age, name, and birthday.\n",
    "\n",
    "**Combining datasets:**\n",
    "We plan to combine dataset 2 and 3 by adding the player names in dataset 3 to a column in dataset 2. This is possible because dataset 2 and 3 each share the variable playerIDs. We plan on comparing values in dataset 1 with values in dataset 2 based on player names. We will achieve this by standardizing each player's name."
   ]
  },
  {
   "cell_type": "markdown",
   "metadata": {},
   "source": [
    "# Setup"
   ]
  },
  {
   "cell_type": "code",
   "execution_count": 182,
   "metadata": {},
   "outputs": [],
   "source": [
    "# import packages and setup visuals\n",
    "import pandas as pd\n",
    "import numpy as np\n",
    "import os\n",
    "import matplotlib.pyplot as plt\n",
    "import seaborn as sns\n",
    "import patsy\n",
    "import statsmodels.api as sm\n",
    "import statistics\n",
    "pd.options.mode.chained_assignment = None "
   ]
  },
  {
   "cell_type": "markdown",
   "metadata": {},
   "source": [
    "# Data Cleaning"
   ]
  },
  {
   "cell_type": "markdown",
   "metadata": {},
   "source": [
    "### Contracts"
   ]
  },
  {
   "cell_type": "markdown",
   "metadata": {},
   "source": [
    "Concatenate all Contract dataset csv files from years 1991-2022 as a dataframe named \"contracts\". "
   ]
  },
  {
   "cell_type": "code",
   "execution_count": 183,
   "metadata": {},
   "outputs": [
    {
     "name": "stdout",
     "output_type": "stream",
     "text": [
      "contracts shape:  (4996, 18)\n"
     ]
    },
    {
     "data": {
      "text/html": [
       "<div>\n",
       "<style scoped>\n",
       "    .dataframe tbody tr th:only-of-type {\n",
       "        vertical-align: middle;\n",
       "    }\n",
       "\n",
       "    .dataframe tbody tr th {\n",
       "        vertical-align: top;\n",
       "    }\n",
       "\n",
       "    .dataframe thead th {\n",
       "        text-align: right;\n",
       "    }\n",
       "</style>\n",
       "<table border=\"1\" class=\"dataframe\">\n",
       "  <thead>\n",
       "    <tr style=\"text-align: right;\">\n",
       "      <th></th>\n",
       "      <th>Player</th>\n",
       "      <th>Pos'n</th>\n",
       "      <th>Age</th>\n",
       "      <th>Qual    Offer</th>\n",
       "      <th>Old    Club</th>\n",
       "      <th>New Club</th>\n",
       "      <th>Years</th>\n",
       "      <th>Guarantee</th>\n",
       "      <th>Term</th>\n",
       "      <th>Option</th>\n",
       "      <th>Opt Out</th>\n",
       "      <th>AAV</th>\n",
       "      <th>Player Agent</th>\n",
       "      <th>Club Owner</th>\n",
       "      <th>Baseball Ops      head / club GM</th>\n",
       "      <th>Details</th>\n",
       "      <th>Age 7/1/21</th>\n",
       "      <th>Age 7/1/22</th>\n",
       "    </tr>\n",
       "  </thead>\n",
       "  <tbody>\n",
       "    <tr>\n",
       "      <th>0</th>\n",
       "      <td>Cano, Robinson</td>\n",
       "      <td>2b</td>\n",
       "      <td>31.0</td>\n",
       "      <td>rejected</td>\n",
       "      <td>NYA</td>\n",
       "      <td>SEA</td>\n",
       "      <td>10.0</td>\n",
       "      <td>$240,000,000</td>\n",
       "      <td>2014-23</td>\n",
       "      <td>NaN</td>\n",
       "      <td>NaN</td>\n",
       "      <td>$24,000,000</td>\n",
       "      <td>Roc Nation</td>\n",
       "      <td>Nintendo/America</td>\n",
       "      <td>Jack Zduriencik</td>\n",
       "      <td>NaN</td>\n",
       "      <td>NaN</td>\n",
       "      <td>NaN</td>\n",
       "    </tr>\n",
       "    <tr>\n",
       "      <th>1</th>\n",
       "      <td>Ellsbury, Jacoby</td>\n",
       "      <td>of</td>\n",
       "      <td>30.0</td>\n",
       "      <td>rejected</td>\n",
       "      <td>BOS</td>\n",
       "      <td>NYA</td>\n",
       "      <td>7.0</td>\n",
       "      <td>$153,000,000</td>\n",
       "      <td>2014-20</td>\n",
       "      <td>club</td>\n",
       "      <td>NaN</td>\n",
       "      <td>$21,857,143</td>\n",
       "      <td>Boras Corp.</td>\n",
       "      <td>Hal Steinbrenner</td>\n",
       "      <td>Brian Cashman</td>\n",
       "      <td>NaN</td>\n",
       "      <td>NaN</td>\n",
       "      <td>NaN</td>\n",
       "    </tr>\n",
       "    <tr>\n",
       "      <th>2</th>\n",
       "      <td>Choo, Shin-Soo</td>\n",
       "      <td>rf</td>\n",
       "      <td>31.0</td>\n",
       "      <td>rejected</td>\n",
       "      <td>CIN</td>\n",
       "      <td>TEX</td>\n",
       "      <td>7.0</td>\n",
       "      <td>$130,000,000</td>\n",
       "      <td>2014-20</td>\n",
       "      <td>NaN</td>\n",
       "      <td>NaN</td>\n",
       "      <td>$18,571,429</td>\n",
       "      <td>Boras Corp.</td>\n",
       "      <td>RDavis/BSimpson</td>\n",
       "      <td>Jon Daniels</td>\n",
       "      <td>NaN</td>\n",
       "      <td>NaN</td>\n",
       "      <td>NaN</td>\n",
       "    </tr>\n",
       "    <tr>\n",
       "      <th>3</th>\n",
       "      <td>McCann, Brian</td>\n",
       "      <td>c</td>\n",
       "      <td>30.0</td>\n",
       "      <td>rejected</td>\n",
       "      <td>ATL</td>\n",
       "      <td>NYA</td>\n",
       "      <td>5.0</td>\n",
       "      <td>$85,000,000</td>\n",
       "      <td>2014-18</td>\n",
       "      <td>club</td>\n",
       "      <td>NaN</td>\n",
       "      <td>$17,000,000</td>\n",
       "      <td>BB Abbott</td>\n",
       "      <td>Hal Steinbrenner</td>\n",
       "      <td>Brian Cashman</td>\n",
       "      <td>NaN</td>\n",
       "      <td>NaN</td>\n",
       "      <td>NaN</td>\n",
       "    </tr>\n",
       "    <tr>\n",
       "      <th>4</th>\n",
       "      <td>Granderson, Curtis</td>\n",
       "      <td>of</td>\n",
       "      <td>33.0</td>\n",
       "      <td>rejected</td>\n",
       "      <td>NYA</td>\n",
       "      <td>NYN</td>\n",
       "      <td>4.0</td>\n",
       "      <td>$60,000,000</td>\n",
       "      <td>2014-17</td>\n",
       "      <td>NaN</td>\n",
       "      <td>NaN</td>\n",
       "      <td>$15,000,000</td>\n",
       "      <td>Matt Brown</td>\n",
       "      <td>Fred Wilpon</td>\n",
       "      <td>Sandy Alderson</td>\n",
       "      <td>NaN</td>\n",
       "      <td>NaN</td>\n",
       "      <td>NaN</td>\n",
       "    </tr>\n",
       "  </tbody>\n",
       "</table>\n",
       "</div>"
      ],
      "text/plain": [
       "               Player Pos'n   Age Qual    Offer Old    Club New Club  Years  \\\n",
       "0      Cano, Robinson    2b  31.0      rejected         NYA      SEA   10.0   \n",
       "1    Ellsbury, Jacoby    of  30.0      rejected         BOS      NYA    7.0   \n",
       "2      Choo, Shin-Soo    rf  31.0      rejected         CIN      TEX    7.0   \n",
       "3       McCann, Brian     c  30.0      rejected         ATL      NYA    5.0   \n",
       "4  Granderson, Curtis    of  33.0      rejected         NYA      NYN    4.0   \n",
       "\n",
       "       Guarantee     Term Option Opt Out          AAV Player Agent  \\\n",
       "0  $240,000,000   2014-23    NaN     NaN  $24,000,000   Roc Nation   \n",
       "1  $153,000,000   2014-20   club     NaN  $21,857,143  Boras Corp.   \n",
       "2  $130,000,000   2014-20    NaN     NaN  $18,571,429  Boras Corp.   \n",
       "3   $85,000,000   2014-18   club     NaN  $17,000,000    BB Abbott   \n",
       "4   $60,000,000   2014-17    NaN     NaN  $15,000,000   Matt Brown   \n",
       "\n",
       "         Club Owner Baseball Ops      head / club GM Details  Age 7/1/21  \\\n",
       "0  Nintendo/America                  Jack Zduriencik     NaN         NaN   \n",
       "1  Hal Steinbrenner                    Brian Cashman     NaN         NaN   \n",
       "2   RDavis/BSimpson                      Jon Daniels     NaN         NaN   \n",
       "3  Hal Steinbrenner                    Brian Cashman     NaN         NaN   \n",
       "4       Fred Wilpon                   Sandy Alderson     NaN         NaN   \n",
       "\n",
       "   Age 7/1/22  \n",
       "0         NaN  \n",
       "1         NaN  \n",
       "2         NaN  \n",
       "3         NaN  \n",
       "4         NaN  "
      ]
     },
     "metadata": {},
     "output_type": "display_data"
    }
   ],
   "source": [
    "# get list of all contract dataset filepaths\n",
    "directory = 'data/contracts/'\n",
    "filepaths = [directory + filename for filename in os.listdir(directory)]\n",
    "\n",
    "# merge all contract files in \"contracts\" directory as one dataframe\n",
    "contracts = pd.concat([pd.read_csv(filepath) for filepath in filepaths])\n",
    "print('contracts shape: ', contracts.shape)\n",
    "display(contracts.head())"
   ]
  },
  {
   "cell_type": "markdown",
   "metadata": {},
   "source": [
    "Combine the three columns, 'Age', 'Age 7/1/21', and 'Age 7/1/22', into one 'Age' column by taking the non-null value from each set of columns (if it exists)."
   ]
  },
  {
   "cell_type": "code",
   "execution_count": 184,
   "metadata": {},
   "outputs": [],
   "source": [
    "# set 'Age' column to value in 'Age  7/1/21' column or 'Age 7/1/22' column if NaN\n",
    "contracts['Age'] = contracts['Age'].add(contracts['Age 7/1/21'], fill_value=0)\n",
    "contracts['Age'] = contracts['Age'].add(contracts['Age 7/1/22'], fill_value=0)"
   ]
  },
  {
   "cell_type": "markdown",
   "metadata": {},
   "source": [
    "There are 18 columns per contract observation, we are only looking at 5. Drop all columns that are irrelevant to our project."
   ]
  },
  {
   "cell_type": "code",
   "execution_count": 185,
   "metadata": {},
   "outputs": [],
   "source": [
    "contracts = contracts[['Player','Pos\\'n', 'Age', 'Term', 'AAV']]"
   ]
  },
  {
   "cell_type": "markdown",
   "metadata": {},
   "source": [
    "Now that the dataframe only contains relevant variables, drop all observations with NaN values. "
   ]
  },
  {
   "cell_type": "code",
   "execution_count": 186,
   "metadata": {},
   "outputs": [],
   "source": [
    "contracts = contracts.dropna(axis=0)"
   ]
  },
  {
   "cell_type": "markdown",
   "metadata": {},
   "source": [
    "Our project is looking at how batting performance affects salary. Pitcher's are not paid based on their batting performance. Drop all pitchers."
   ]
  },
  {
   "cell_type": "code",
   "execution_count": 187,
   "metadata": {},
   "outputs": [],
   "source": [
    "# drop players that are pitchers\n",
    "contracts = contracts[contracts[\"Pos'n\"].str.contains(\"hp\") == False]\n",
    "\n",
    "# drop position column (no longer needed)\n",
    "contracts = contracts.drop('Pos\\'n',axis=1)"
   ]
  },
  {
   "cell_type": "markdown",
   "metadata": {},
   "source": [
    "Next, standardize our variables so we can plot and compare them with values from other datasets. "
   ]
  },
  {
   "cell_type": "code",
   "execution_count": 188,
   "metadata": {},
   "outputs": [],
   "source": [
    "# convert a players yearly salary (AAV) from a string to an int\n",
    "def salary_to_int(str_in):\n",
    "    return int(str_in.replace('$','').replace(',',''))\n",
    "\n",
    "# convert the term of a player's contract (Term) to the year they were offered it\n",
    "def term_to_year(str_in):\n",
    "    return int(str(str_in).split('-')[0])\n",
    "\n",
    "# standardize player names\n",
    "def standardize_name(str_in):\n",
    "    if ',' in str_in:\n",
    "        name_list = str(str_in).split(',')\n",
    "        str_in = name_list[1].strip() + \" \" + name_list[0].strip()\n",
    "    str_in = str_in.replace('Jr.','')\n",
    "    str_in = str_in.replace('Sr.','')\n",
    "    str_in = str_in.replace('.','')\n",
    "    str_in = str_in.replace('é','e')\n",
    "    str_in = str_in.replace('á','a')\n",
    "    return str_in.replace(' ', '')\n",
    "\n",
    "# round all ages\n",
    "def standardize_age(age):\n",
    "    return round(float(age), 0)"
   ]
  },
  {
   "cell_type": "code",
   "execution_count": 189,
   "metadata": {},
   "outputs": [],
   "source": [
    "# standardize name, age, salary, and term variables\n",
    "contracts['Player'] = contracts['Player'].apply(standardize_name)\n",
    "contracts['Age'] = contracts['Age'].apply(standardize_age)\n",
    "contracts['AAV'] = contracts['AAV'].apply(salary_to_int)\n",
    "contracts['Term'] = contracts['Term'].apply(term_to_year)"
   ]
  },
  {
   "cell_type": "markdown",
   "metadata": {},
   "source": [
    "Rename contract columns for consistency."
   ]
  },
  {
   "cell_type": "code",
   "execution_count": 190,
   "metadata": {},
   "outputs": [],
   "source": [
    "contracts.columns = ['playerName','playerAge','year','yearSalary']"
   ]
  },
  {
   "cell_type": "markdown",
   "metadata": {},
   "source": [
    "Some observations have a yearSalary value of 1. This is a mistake by the dataset creators. Drop all observations with yearSalary value of 1."
   ]
  },
  {
   "cell_type": "code",
   "execution_count": 191,
   "metadata": {},
   "outputs": [],
   "source": [
    "contracts = contracts[contracts['yearSalary'] > 1]"
   ]
  },
  {
   "cell_type": "markdown",
   "metadata": {},
   "source": [
    "The \"contracts\" dataframe is cleaned!"
   ]
  },
  {
   "cell_type": "code",
   "execution_count": 192,
   "metadata": {},
   "outputs": [
    {
     "data": {
      "text/html": [
       "<div>\n",
       "<style scoped>\n",
       "    .dataframe tbody tr th:only-of-type {\n",
       "        vertical-align: middle;\n",
       "    }\n",
       "\n",
       "    .dataframe tbody tr th {\n",
       "        vertical-align: top;\n",
       "    }\n",
       "\n",
       "    .dataframe thead th {\n",
       "        text-align: right;\n",
       "    }\n",
       "</style>\n",
       "<table border=\"1\" class=\"dataframe\">\n",
       "  <thead>\n",
       "    <tr style=\"text-align: right;\">\n",
       "      <th></th>\n",
       "      <th>playerName</th>\n",
       "      <th>playerAge</th>\n",
       "      <th>year</th>\n",
       "      <th>yearSalary</th>\n",
       "    </tr>\n",
       "  </thead>\n",
       "  <tbody>\n",
       "    <tr>\n",
       "      <th>0</th>\n",
       "      <td>RobinsonCano</td>\n",
       "      <td>31.0</td>\n",
       "      <td>2014</td>\n",
       "      <td>24000000</td>\n",
       "    </tr>\n",
       "    <tr>\n",
       "      <th>1</th>\n",
       "      <td>JacobyEllsbury</td>\n",
       "      <td>30.0</td>\n",
       "      <td>2014</td>\n",
       "      <td>21857143</td>\n",
       "    </tr>\n",
       "    <tr>\n",
       "      <th>2</th>\n",
       "      <td>Shin-SooChoo</td>\n",
       "      <td>31.0</td>\n",
       "      <td>2014</td>\n",
       "      <td>18571429</td>\n",
       "    </tr>\n",
       "    <tr>\n",
       "      <th>3</th>\n",
       "      <td>BrianMcCann</td>\n",
       "      <td>30.0</td>\n",
       "      <td>2014</td>\n",
       "      <td>17000000</td>\n",
       "    </tr>\n",
       "    <tr>\n",
       "      <th>4</th>\n",
       "      <td>CurtisGranderson</td>\n",
       "      <td>33.0</td>\n",
       "      <td>2014</td>\n",
       "      <td>15000000</td>\n",
       "    </tr>\n",
       "  </tbody>\n",
       "</table>\n",
       "</div>"
      ],
      "text/plain": [
       "         playerName  playerAge  year  yearSalary\n",
       "0      RobinsonCano       31.0  2014    24000000\n",
       "1    JacobyEllsbury       30.0  2014    21857143\n",
       "2      Shin-SooChoo       31.0  2014    18571429\n",
       "3       BrianMcCann       30.0  2014    17000000\n",
       "4  CurtisGranderson       33.0  2014    15000000"
      ]
     },
     "metadata": {},
     "output_type": "display_data"
    }
   ],
   "source": [
    "display(contracts.head())"
   ]
  },
  {
   "cell_type": "markdown",
   "metadata": {},
   "source": [
    "### Batting"
   ]
  },
  {
   "cell_type": "markdown",
   "metadata": {},
   "source": [
    "Read Batting.csv dataset file as a dataframe named \"batting\"."
   ]
  },
  {
   "cell_type": "code",
   "execution_count": 193,
   "metadata": {},
   "outputs": [
    {
     "name": "stdout",
     "output_type": "stream",
     "text": [
      "batting shape:  (110495, 22)\n"
     ]
    },
    {
     "data": {
      "text/html": [
       "<div>\n",
       "<style scoped>\n",
       "    .dataframe tbody tr th:only-of-type {\n",
       "        vertical-align: middle;\n",
       "    }\n",
       "\n",
       "    .dataframe tbody tr th {\n",
       "        vertical-align: top;\n",
       "    }\n",
       "\n",
       "    .dataframe thead th {\n",
       "        text-align: right;\n",
       "    }\n",
       "</style>\n",
       "<table border=\"1\" class=\"dataframe\">\n",
       "  <thead>\n",
       "    <tr style=\"text-align: right;\">\n",
       "      <th></th>\n",
       "      <th>playerID</th>\n",
       "      <th>yearID</th>\n",
       "      <th>stint</th>\n",
       "      <th>teamID</th>\n",
       "      <th>lgID</th>\n",
       "      <th>G</th>\n",
       "      <th>AB</th>\n",
       "      <th>R</th>\n",
       "      <th>H</th>\n",
       "      <th>2B</th>\n",
       "      <th>...</th>\n",
       "      <th>RBI</th>\n",
       "      <th>SB</th>\n",
       "      <th>CS</th>\n",
       "      <th>BB</th>\n",
       "      <th>SO</th>\n",
       "      <th>IBB</th>\n",
       "      <th>HBP</th>\n",
       "      <th>SH</th>\n",
       "      <th>SF</th>\n",
       "      <th>GIDP</th>\n",
       "    </tr>\n",
       "  </thead>\n",
       "  <tbody>\n",
       "    <tr>\n",
       "      <th>0</th>\n",
       "      <td>abercda01</td>\n",
       "      <td>1871</td>\n",
       "      <td>1</td>\n",
       "      <td>TRO</td>\n",
       "      <td>NaN</td>\n",
       "      <td>1</td>\n",
       "      <td>4</td>\n",
       "      <td>0</td>\n",
       "      <td>0</td>\n",
       "      <td>0</td>\n",
       "      <td>...</td>\n",
       "      <td>0.0</td>\n",
       "      <td>0.0</td>\n",
       "      <td>0.0</td>\n",
       "      <td>0</td>\n",
       "      <td>0.0</td>\n",
       "      <td>NaN</td>\n",
       "      <td>NaN</td>\n",
       "      <td>NaN</td>\n",
       "      <td>NaN</td>\n",
       "      <td>0.0</td>\n",
       "    </tr>\n",
       "    <tr>\n",
       "      <th>1</th>\n",
       "      <td>addybo01</td>\n",
       "      <td>1871</td>\n",
       "      <td>1</td>\n",
       "      <td>RC1</td>\n",
       "      <td>NaN</td>\n",
       "      <td>25</td>\n",
       "      <td>118</td>\n",
       "      <td>30</td>\n",
       "      <td>32</td>\n",
       "      <td>6</td>\n",
       "      <td>...</td>\n",
       "      <td>13.0</td>\n",
       "      <td>8.0</td>\n",
       "      <td>1.0</td>\n",
       "      <td>4</td>\n",
       "      <td>0.0</td>\n",
       "      <td>NaN</td>\n",
       "      <td>NaN</td>\n",
       "      <td>NaN</td>\n",
       "      <td>NaN</td>\n",
       "      <td>0.0</td>\n",
       "    </tr>\n",
       "    <tr>\n",
       "      <th>2</th>\n",
       "      <td>allisar01</td>\n",
       "      <td>1871</td>\n",
       "      <td>1</td>\n",
       "      <td>CL1</td>\n",
       "      <td>NaN</td>\n",
       "      <td>29</td>\n",
       "      <td>137</td>\n",
       "      <td>28</td>\n",
       "      <td>40</td>\n",
       "      <td>4</td>\n",
       "      <td>...</td>\n",
       "      <td>19.0</td>\n",
       "      <td>3.0</td>\n",
       "      <td>1.0</td>\n",
       "      <td>2</td>\n",
       "      <td>5.0</td>\n",
       "      <td>NaN</td>\n",
       "      <td>NaN</td>\n",
       "      <td>NaN</td>\n",
       "      <td>NaN</td>\n",
       "      <td>1.0</td>\n",
       "    </tr>\n",
       "    <tr>\n",
       "      <th>3</th>\n",
       "      <td>allisdo01</td>\n",
       "      <td>1871</td>\n",
       "      <td>1</td>\n",
       "      <td>WS3</td>\n",
       "      <td>NaN</td>\n",
       "      <td>27</td>\n",
       "      <td>133</td>\n",
       "      <td>28</td>\n",
       "      <td>44</td>\n",
       "      <td>10</td>\n",
       "      <td>...</td>\n",
       "      <td>27.0</td>\n",
       "      <td>1.0</td>\n",
       "      <td>1.0</td>\n",
       "      <td>0</td>\n",
       "      <td>2.0</td>\n",
       "      <td>NaN</td>\n",
       "      <td>NaN</td>\n",
       "      <td>NaN</td>\n",
       "      <td>NaN</td>\n",
       "      <td>0.0</td>\n",
       "    </tr>\n",
       "    <tr>\n",
       "      <th>4</th>\n",
       "      <td>ansonca01</td>\n",
       "      <td>1871</td>\n",
       "      <td>1</td>\n",
       "      <td>RC1</td>\n",
       "      <td>NaN</td>\n",
       "      <td>25</td>\n",
       "      <td>120</td>\n",
       "      <td>29</td>\n",
       "      <td>39</td>\n",
       "      <td>11</td>\n",
       "      <td>...</td>\n",
       "      <td>16.0</td>\n",
       "      <td>6.0</td>\n",
       "      <td>2.0</td>\n",
       "      <td>2</td>\n",
       "      <td>1.0</td>\n",
       "      <td>NaN</td>\n",
       "      <td>NaN</td>\n",
       "      <td>NaN</td>\n",
       "      <td>NaN</td>\n",
       "      <td>0.0</td>\n",
       "    </tr>\n",
       "  </tbody>\n",
       "</table>\n",
       "<p>5 rows × 22 columns</p>\n",
       "</div>"
      ],
      "text/plain": [
       "    playerID  yearID  stint teamID lgID   G   AB   R   H  2B  ...   RBI   SB  \\\n",
       "0  abercda01    1871      1    TRO  NaN   1    4   0   0   0  ...   0.0  0.0   \n",
       "1   addybo01    1871      1    RC1  NaN  25  118  30  32   6  ...  13.0  8.0   \n",
       "2  allisar01    1871      1    CL1  NaN  29  137  28  40   4  ...  19.0  3.0   \n",
       "3  allisdo01    1871      1    WS3  NaN  27  133  28  44  10  ...  27.0  1.0   \n",
       "4  ansonca01    1871      1    RC1  NaN  25  120  29  39  11  ...  16.0  6.0   \n",
       "\n",
       "    CS  BB   SO  IBB  HBP  SH  SF  GIDP  \n",
       "0  0.0   0  0.0  NaN  NaN NaN NaN   0.0  \n",
       "1  1.0   4  0.0  NaN  NaN NaN NaN   0.0  \n",
       "2  1.0   2  5.0  NaN  NaN NaN NaN   1.0  \n",
       "3  1.0   0  2.0  NaN  NaN NaN NaN   0.0  \n",
       "4  2.0   2  1.0  NaN  NaN NaN NaN   0.0  \n",
       "\n",
       "[5 rows x 22 columns]"
      ]
     },
     "metadata": {},
     "output_type": "display_data"
    }
   ],
   "source": [
    "# read Batting file as dataframe\n",
    "batting = pd.read_csv('data/batting/Batting.csv')\n",
    "\n",
    "print('batting shape: ', batting.shape)\n",
    "display(batting.head())"
   ]
  },
  {
   "cell_type": "markdown",
   "metadata": {},
   "source": [
    "There are 22 columns per batting observation, we are only looking at 10. Drop all columns that are irrelevant to our project."
   ]
  },
  {
   "cell_type": "code",
   "execution_count": 194,
   "metadata": {},
   "outputs": [],
   "source": [
    "batting = batting[['playerID', 'yearID', 'AB', 'H', '2B', '3B', 'HR', 'BB','HBP','SF']]"
   ]
  },
  {
   "cell_type": "markdown",
   "metadata": {},
   "source": [
    "Some players have two sets of batting stats from the same year. This is because they were on two different teams during one year. For example, player with playerID value of 'abramca01' has two obsevations in the year 1952."
   ]
  },
  {
   "cell_type": "code",
   "execution_count": 195,
   "metadata": {
    "scrolled": true
   },
   "outputs": [
    {
     "data": {
      "text/html": [
       "<div>\n",
       "<style scoped>\n",
       "    .dataframe tbody tr th:only-of-type {\n",
       "        vertical-align: middle;\n",
       "    }\n",
       "\n",
       "    .dataframe tbody tr th {\n",
       "        vertical-align: top;\n",
       "    }\n",
       "\n",
       "    .dataframe thead th {\n",
       "        text-align: right;\n",
       "    }\n",
       "</style>\n",
       "<table border=\"1\" class=\"dataframe\">\n",
       "  <thead>\n",
       "    <tr style=\"text-align: right;\">\n",
       "      <th></th>\n",
       "      <th>playerID</th>\n",
       "      <th>yearID</th>\n",
       "      <th>AB</th>\n",
       "      <th>H</th>\n",
       "      <th>2B</th>\n",
       "      <th>3B</th>\n",
       "      <th>HR</th>\n",
       "      <th>BB</th>\n",
       "      <th>HBP</th>\n",
       "      <th>SF</th>\n",
       "    </tr>\n",
       "  </thead>\n",
       "  <tbody>\n",
       "    <tr>\n",
       "      <th>35670</th>\n",
       "      <td>abramca01</td>\n",
       "      <td>1952</td>\n",
       "      <td>10</td>\n",
       "      <td>2</td>\n",
       "      <td>0</td>\n",
       "      <td>0</td>\n",
       "      <td>0</td>\n",
       "      <td>2</td>\n",
       "      <td>0.0</td>\n",
       "      <td>NaN</td>\n",
       "    </tr>\n",
       "    <tr>\n",
       "      <th>35671</th>\n",
       "      <td>abramca01</td>\n",
       "      <td>1952</td>\n",
       "      <td>158</td>\n",
       "      <td>44</td>\n",
       "      <td>9</td>\n",
       "      <td>2</td>\n",
       "      <td>2</td>\n",
       "      <td>19</td>\n",
       "      <td>0.0</td>\n",
       "      <td>NaN</td>\n",
       "    </tr>\n",
       "  </tbody>\n",
       "</table>\n",
       "</div>"
      ],
      "text/plain": [
       "        playerID  yearID   AB   H  2B  3B  HR  BB  HBP  SF\n",
       "35670  abramca01    1952   10   2   0   0   0   2  0.0 NaN\n",
       "35671  abramca01    1952  158  44   9   2   2  19  0.0 NaN"
      ]
     },
     "metadata": {},
     "output_type": "display_data"
    }
   ],
   "source": [
    "display(batting.groupby(['playerID','yearID']).get_group(('abramca01', 1952)))"
   ]
  },
  {
   "cell_type": "markdown",
   "metadata": {},
   "source": [
    "Combine these multiple year stats such that every player only has one observation of stats per year. This may take around a minute to run."
   ]
  },
  {
   "cell_type": "code",
   "execution_count": 196,
   "metadata": {},
   "outputs": [
    {
     "data": {
      "text/html": [
       "<div>\n",
       "<style scoped>\n",
       "    .dataframe tbody tr th:only-of-type {\n",
       "        vertical-align: middle;\n",
       "    }\n",
       "\n",
       "    .dataframe tbody tr th {\n",
       "        vertical-align: top;\n",
       "    }\n",
       "\n",
       "    .dataframe thead th {\n",
       "        text-align: right;\n",
       "    }\n",
       "</style>\n",
       "<table border=\"1\" class=\"dataframe\">\n",
       "  <thead>\n",
       "    <tr style=\"text-align: right;\">\n",
       "      <th></th>\n",
       "      <th>playerID</th>\n",
       "      <th>yearID</th>\n",
       "      <th>AB</th>\n",
       "      <th>H</th>\n",
       "      <th>2B</th>\n",
       "      <th>3B</th>\n",
       "      <th>HR</th>\n",
       "      <th>BB</th>\n",
       "      <th>HBP</th>\n",
       "      <th>SF</th>\n",
       "    </tr>\n",
       "  </thead>\n",
       "  <tbody>\n",
       "    <tr>\n",
       "      <th>190</th>\n",
       "      <td>abramca01</td>\n",
       "      <td>1952</td>\n",
       "      <td>168</td>\n",
       "      <td>46</td>\n",
       "      <td>9</td>\n",
       "      <td>2</td>\n",
       "      <td>2</td>\n",
       "      <td>21</td>\n",
       "      <td>0.0</td>\n",
       "      <td>NaN</td>\n",
       "    </tr>\n",
       "  </tbody>\n",
       "</table>\n",
       "</div>"
      ],
      "text/plain": [
       "      playerID  yearID   AB   H  2B  3B  HR  BB  HBP  SF\n",
       "190  abramca01    1952  168  46   9   2   2  21  0.0 NaN"
      ]
     },
     "metadata": {},
     "output_type": "display_data"
    }
   ],
   "source": [
    "# summing batting stats from the same player in the same year\n",
    "batting = batting.groupby(['playerID', 'yearID']).agg(lambda x: x.sum(min_count=1)).reset_index()\n",
    "\n",
    "# display 'abraca01' in 1952 to show success\n",
    "display(batting.groupby(['playerID','yearID']).get_group(('abramca01', 1952)))"
   ]
  },
  {
   "cell_type": "markdown",
   "metadata": {},
   "source": [
    "Now that the dataframe only contains relevant variables, drop all observations with NaN values. "
   ]
  },
  {
   "cell_type": "code",
   "execution_count": 197,
   "metadata": {},
   "outputs": [],
   "source": [
    "batting = batting.dropna(axis=0)"
   ]
  },
  {
   "cell_type": "markdown",
   "metadata": {},
   "source": [
    "A player can only be judged by their batting ability if they went up to bat at least once. Drop observations with zero at bats. "
   ]
  },
  {
   "cell_type": "code",
   "execution_count": 198,
   "metadata": {},
   "outputs": [],
   "source": [
    "batting = batting[batting['AB'] > 0].reset_index()"
   ]
  },
  {
   "cell_type": "markdown",
   "metadata": {},
   "source": [
    "This batting dataframe only contains the raw batting numbers per player in a given season (number of hits, strikes, homeruns, etc.). For our analysis, we want averaged data. Add columns for \"Batting Average\" (AVG), \"On Base Percentage\" (OBP), \"Slugging Average\" (SLG), and \"On Base Plus Slugging Average\" (OBS)."
   ]
  },
  {
   "cell_type": "code",
   "execution_count": 199,
   "metadata": {},
   "outputs": [],
   "source": [
    "# calculate batting average\n",
    "def calc_avg(h, ab):\n",
    "    return h / ab\n",
    "  \n",
    "# calculate on base percentage\n",
    "def calc_obp(h, bb, hbp, ab, sf):\n",
    "    return (h + bb + hbp) / (ab + bb + sf + hbp)\n",
    "    \n",
    "# calculate total bases\n",
    "def calc_tb(h, two_b, three_b, hr):\n",
    "    singles = h - two_b - three_b - hr\n",
    "    return singles + two_b * 2 + three_b * 3 + hr * 4\n",
    "\n",
    "# calculate slugging average\n",
    "def calc_slg(tb, ab):\n",
    "    return tb / ab\n",
    "\n",
    "# calculate on base plus slugging average\n",
    "def calc_obs(obp, slg):\n",
    "    return obp + slg"
   ]
  },
  {
   "cell_type": "code",
   "execution_count": 200,
   "metadata": {},
   "outputs": [],
   "source": [
    "# create Batting Average column in batting dataframe\n",
    "avg = calc_avg(h=batting['H'], ab=batting['AB'])\n",
    "batting['AVG'] = round(avg, 3)\n",
    "\n",
    "# create On Base Percentage average column in batting dataframe\n",
    "obp = calc_obp(h=batting['H'], bb=batting['BB'], hbp=batting['HBP'], ab=batting['AB'], sf=batting['SF'])\n",
    "batting['OBP'] = round(obp, 3)\n",
    "\n",
    "# create Slugging average column in batting dataframe\n",
    "tb = calc_tb(h=batting['H'], two_b=batting['2B'], three_b=batting['3B'], hr=batting['HR'])\n",
    "slg = calc_slg(tb, batting['AB'])\n",
    "batting['SLG'] = round(slg, 3)\n",
    "\n",
    "# create On Base Plus Slugging column in batting dataframe\n",
    "obs = calc_obs(obp, slg)\n",
    "batting['OBS'] = round(obs, 3)"
   ]
  },
  {
   "cell_type": "markdown",
   "metadata": {},
   "source": [
    "Now that our dataframe has these averages, drop all unecessary columns of raw statistics."
   ]
  },
  {
   "cell_type": "code",
   "execution_count": 201,
   "metadata": {},
   "outputs": [],
   "source": [
    "batting = batting[['playerID', 'yearID','AB', 'AVG', 'OBP','SLG','OBS']]"
   ]
  },
  {
   "cell_type": "markdown",
   "metadata": {},
   "source": [
    "Rename columns for consistency. "
   ]
  },
  {
   "cell_type": "code",
   "execution_count": 202,
   "metadata": {},
   "outputs": [],
   "source": [
    "batting.columns = ['playerID', 'year', 'AB', 'AVG', 'OBP', 'SLG','OBS']"
   ]
  },
  {
   "cell_type": "markdown",
   "metadata": {},
   "source": [
    "The \"batting\" dataframe is cleaned!"
   ]
  },
  {
   "cell_type": "code",
   "execution_count": 203,
   "metadata": {
    "scrolled": false
   },
   "outputs": [
    {
     "data": {
      "text/html": [
       "<div>\n",
       "<style scoped>\n",
       "    .dataframe tbody tr th:only-of-type {\n",
       "        vertical-align: middle;\n",
       "    }\n",
       "\n",
       "    .dataframe tbody tr th {\n",
       "        vertical-align: top;\n",
       "    }\n",
       "\n",
       "    .dataframe thead th {\n",
       "        text-align: right;\n",
       "    }\n",
       "</style>\n",
       "<table border=\"1\" class=\"dataframe\">\n",
       "  <thead>\n",
       "    <tr style=\"text-align: right;\">\n",
       "      <th></th>\n",
       "      <th>playerID</th>\n",
       "      <th>year</th>\n",
       "      <th>AB</th>\n",
       "      <th>AVG</th>\n",
       "      <th>OBP</th>\n",
       "      <th>SLG</th>\n",
       "      <th>OBS</th>\n",
       "    </tr>\n",
       "  </thead>\n",
       "  <tbody>\n",
       "    <tr>\n",
       "      <th>0</th>\n",
       "      <td>aardsda01</td>\n",
       "      <td>2006</td>\n",
       "      <td>2</td>\n",
       "      <td>0.000</td>\n",
       "      <td>0.000</td>\n",
       "      <td>0.000</td>\n",
       "      <td>0.000</td>\n",
       "    </tr>\n",
       "    <tr>\n",
       "      <th>1</th>\n",
       "      <td>aardsda01</td>\n",
       "      <td>2008</td>\n",
       "      <td>1</td>\n",
       "      <td>0.000</td>\n",
       "      <td>0.000</td>\n",
       "      <td>0.000</td>\n",
       "      <td>0.000</td>\n",
       "    </tr>\n",
       "    <tr>\n",
       "      <th>2</th>\n",
       "      <td>aardsda01</td>\n",
       "      <td>2015</td>\n",
       "      <td>1</td>\n",
       "      <td>0.000</td>\n",
       "      <td>0.000</td>\n",
       "      <td>0.000</td>\n",
       "      <td>0.000</td>\n",
       "    </tr>\n",
       "    <tr>\n",
       "      <th>3</th>\n",
       "      <td>aaronha01</td>\n",
       "      <td>1954</td>\n",
       "      <td>468</td>\n",
       "      <td>0.280</td>\n",
       "      <td>0.322</td>\n",
       "      <td>0.447</td>\n",
       "      <td>0.769</td>\n",
       "    </tr>\n",
       "    <tr>\n",
       "      <th>4</th>\n",
       "      <td>aaronha01</td>\n",
       "      <td>1955</td>\n",
       "      <td>602</td>\n",
       "      <td>0.314</td>\n",
       "      <td>0.366</td>\n",
       "      <td>0.540</td>\n",
       "      <td>0.906</td>\n",
       "    </tr>\n",
       "  </tbody>\n",
       "</table>\n",
       "</div>"
      ],
      "text/plain": [
       "    playerID  year   AB    AVG    OBP    SLG    OBS\n",
       "0  aardsda01  2006    2  0.000  0.000  0.000  0.000\n",
       "1  aardsda01  2008    1  0.000  0.000  0.000  0.000\n",
       "2  aardsda01  2015    1  0.000  0.000  0.000  0.000\n",
       "3  aaronha01  1954  468  0.280  0.322  0.447  0.769\n",
       "4  aaronha01  1955  602  0.314  0.366  0.540  0.906"
      ]
     },
     "metadata": {},
     "output_type": "display_data"
    }
   ],
   "source": [
    "display(batting.head())"
   ]
  },
  {
   "cell_type": "markdown",
   "metadata": {},
   "source": [
    "### Merging Batting and People"
   ]
  },
  {
   "cell_type": "markdown",
   "metadata": {},
   "source": [
    "Eventually, we will be comparing data in the \"contracts\" dataframe to data in the \"batting\" dataframe. To do this, each observation in the dataframes needs to have some variable that is shared across both dataframes. In this case, use player names as the shared variable for lookups. Information in the People database can make this possible"
   ]
  },
  {
   "cell_type": "markdown",
   "metadata": {},
   "source": [
    "Read People.csv file as a dataframe named \"people\"."
   ]
  },
  {
   "cell_type": "code",
   "execution_count": 204,
   "metadata": {},
   "outputs": [
    {
     "name": "stdout",
     "output_type": "stream",
     "text": [
      "people shape:  (20370, 24)\n"
     ]
    },
    {
     "data": {
      "text/html": [
       "<div>\n",
       "<style scoped>\n",
       "    .dataframe tbody tr th:only-of-type {\n",
       "        vertical-align: middle;\n",
       "    }\n",
       "\n",
       "    .dataframe tbody tr th {\n",
       "        vertical-align: top;\n",
       "    }\n",
       "\n",
       "    .dataframe thead th {\n",
       "        text-align: right;\n",
       "    }\n",
       "</style>\n",
       "<table border=\"1\" class=\"dataframe\">\n",
       "  <thead>\n",
       "    <tr style=\"text-align: right;\">\n",
       "      <th></th>\n",
       "      <th>playerID</th>\n",
       "      <th>birthYear</th>\n",
       "      <th>birthMonth</th>\n",
       "      <th>birthDay</th>\n",
       "      <th>birthCountry</th>\n",
       "      <th>birthState</th>\n",
       "      <th>birthCity</th>\n",
       "      <th>deathYear</th>\n",
       "      <th>deathMonth</th>\n",
       "      <th>deathDay</th>\n",
       "      <th>...</th>\n",
       "      <th>nameLast</th>\n",
       "      <th>nameGiven</th>\n",
       "      <th>weight</th>\n",
       "      <th>height</th>\n",
       "      <th>bats</th>\n",
       "      <th>throws</th>\n",
       "      <th>debut</th>\n",
       "      <th>finalGame</th>\n",
       "      <th>retroID</th>\n",
       "      <th>bbrefID</th>\n",
       "    </tr>\n",
       "  </thead>\n",
       "  <tbody>\n",
       "    <tr>\n",
       "      <th>0</th>\n",
       "      <td>aardsda01</td>\n",
       "      <td>1981.0</td>\n",
       "      <td>12.0</td>\n",
       "      <td>27.0</td>\n",
       "      <td>USA</td>\n",
       "      <td>CO</td>\n",
       "      <td>Denver</td>\n",
       "      <td>NaN</td>\n",
       "      <td>NaN</td>\n",
       "      <td>NaN</td>\n",
       "      <td>...</td>\n",
       "      <td>Aardsma</td>\n",
       "      <td>David Allan</td>\n",
       "      <td>215.0</td>\n",
       "      <td>75.0</td>\n",
       "      <td>R</td>\n",
       "      <td>R</td>\n",
       "      <td>2004-04-06</td>\n",
       "      <td>2015-08-23</td>\n",
       "      <td>aardd001</td>\n",
       "      <td>aardsda01</td>\n",
       "    </tr>\n",
       "    <tr>\n",
       "      <th>1</th>\n",
       "      <td>aaronha01</td>\n",
       "      <td>1934.0</td>\n",
       "      <td>2.0</td>\n",
       "      <td>5.0</td>\n",
       "      <td>USA</td>\n",
       "      <td>AL</td>\n",
       "      <td>Mobile</td>\n",
       "      <td>2021.0</td>\n",
       "      <td>1.0</td>\n",
       "      <td>22.0</td>\n",
       "      <td>...</td>\n",
       "      <td>Aaron</td>\n",
       "      <td>Henry Louis</td>\n",
       "      <td>180.0</td>\n",
       "      <td>72.0</td>\n",
       "      <td>R</td>\n",
       "      <td>R</td>\n",
       "      <td>1954-04-13</td>\n",
       "      <td>1976-10-03</td>\n",
       "      <td>aaroh101</td>\n",
       "      <td>aaronha01</td>\n",
       "    </tr>\n",
       "    <tr>\n",
       "      <th>2</th>\n",
       "      <td>aaronto01</td>\n",
       "      <td>1939.0</td>\n",
       "      <td>8.0</td>\n",
       "      <td>5.0</td>\n",
       "      <td>USA</td>\n",
       "      <td>AL</td>\n",
       "      <td>Mobile</td>\n",
       "      <td>1984.0</td>\n",
       "      <td>8.0</td>\n",
       "      <td>16.0</td>\n",
       "      <td>...</td>\n",
       "      <td>Aaron</td>\n",
       "      <td>Tommie Lee</td>\n",
       "      <td>190.0</td>\n",
       "      <td>75.0</td>\n",
       "      <td>R</td>\n",
       "      <td>R</td>\n",
       "      <td>1962-04-10</td>\n",
       "      <td>1971-09-26</td>\n",
       "      <td>aarot101</td>\n",
       "      <td>aaronto01</td>\n",
       "    </tr>\n",
       "    <tr>\n",
       "      <th>3</th>\n",
       "      <td>aasedo01</td>\n",
       "      <td>1954.0</td>\n",
       "      <td>9.0</td>\n",
       "      <td>8.0</td>\n",
       "      <td>USA</td>\n",
       "      <td>CA</td>\n",
       "      <td>Orange</td>\n",
       "      <td>NaN</td>\n",
       "      <td>NaN</td>\n",
       "      <td>NaN</td>\n",
       "      <td>...</td>\n",
       "      <td>Aase</td>\n",
       "      <td>Donald William</td>\n",
       "      <td>190.0</td>\n",
       "      <td>75.0</td>\n",
       "      <td>R</td>\n",
       "      <td>R</td>\n",
       "      <td>1977-07-26</td>\n",
       "      <td>1990-10-03</td>\n",
       "      <td>aased001</td>\n",
       "      <td>aasedo01</td>\n",
       "    </tr>\n",
       "    <tr>\n",
       "      <th>4</th>\n",
       "      <td>abadan01</td>\n",
       "      <td>1972.0</td>\n",
       "      <td>8.0</td>\n",
       "      <td>25.0</td>\n",
       "      <td>USA</td>\n",
       "      <td>FL</td>\n",
       "      <td>Palm Beach</td>\n",
       "      <td>NaN</td>\n",
       "      <td>NaN</td>\n",
       "      <td>NaN</td>\n",
       "      <td>...</td>\n",
       "      <td>Abad</td>\n",
       "      <td>Fausto Andres</td>\n",
       "      <td>184.0</td>\n",
       "      <td>73.0</td>\n",
       "      <td>L</td>\n",
       "      <td>L</td>\n",
       "      <td>2001-09-10</td>\n",
       "      <td>2006-04-13</td>\n",
       "      <td>abada001</td>\n",
       "      <td>abadan01</td>\n",
       "    </tr>\n",
       "  </tbody>\n",
       "</table>\n",
       "<p>5 rows × 24 columns</p>\n",
       "</div>"
      ],
      "text/plain": [
       "    playerID  birthYear  birthMonth  birthDay birthCountry birthState  \\\n",
       "0  aardsda01     1981.0        12.0      27.0          USA         CO   \n",
       "1  aaronha01     1934.0         2.0       5.0          USA         AL   \n",
       "2  aaronto01     1939.0         8.0       5.0          USA         AL   \n",
       "3   aasedo01     1954.0         9.0       8.0          USA         CA   \n",
       "4   abadan01     1972.0         8.0      25.0          USA         FL   \n",
       "\n",
       "    birthCity  deathYear  deathMonth  deathDay  ... nameLast       nameGiven  \\\n",
       "0      Denver        NaN         NaN       NaN  ...  Aardsma     David Allan   \n",
       "1      Mobile     2021.0         1.0      22.0  ...    Aaron     Henry Louis   \n",
       "2      Mobile     1984.0         8.0      16.0  ...    Aaron      Tommie Lee   \n",
       "3      Orange        NaN         NaN       NaN  ...     Aase  Donald William   \n",
       "4  Palm Beach        NaN         NaN       NaN  ...     Abad   Fausto Andres   \n",
       "\n",
       "  weight height bats throws       debut   finalGame   retroID    bbrefID  \n",
       "0  215.0   75.0    R      R  2004-04-06  2015-08-23  aardd001  aardsda01  \n",
       "1  180.0   72.0    R      R  1954-04-13  1976-10-03  aaroh101  aaronha01  \n",
       "2  190.0   75.0    R      R  1962-04-10  1971-09-26  aarot101  aaronto01  \n",
       "3  190.0   75.0    R      R  1977-07-26  1990-10-03  aased001   aasedo01  \n",
       "4  184.0   73.0    L      L  2001-09-10  2006-04-13  abada001   abadan01  \n",
       "\n",
       "[5 rows x 24 columns]"
      ]
     },
     "metadata": {},
     "output_type": "display_data"
    }
   ],
   "source": [
    "people = pd.read_csv('data/batting/People.csv')\n",
    "\n",
    "print('people shape: ', people.shape)\n",
    "display(people.head())"
   ]
  },
  {
   "cell_type": "markdown",
   "metadata": {},
   "source": [
    "Add a \"playerName\" column to the \"people\" dataframe of the first and last name for each player."
   ]
  },
  {
   "cell_type": "code",
   "execution_count": 205,
   "metadata": {},
   "outputs": [],
   "source": [
    "people['playerName'] = people['nameFirst'] + ' ' + people['nameLast']"
   ]
  },
  {
   "cell_type": "markdown",
   "metadata": {},
   "source": [
    "We only need playerID and name for the merge. Drop all other columns."
   ]
  },
  {
   "cell_type": "code",
   "execution_count": 206,
   "metadata": {},
   "outputs": [],
   "source": [
    "people = people[['playerID','playerName']]"
   ]
  },
  {
   "cell_type": "markdown",
   "metadata": {},
   "source": [
    "Merge \"batting\" dataframe and \"people\" dataframe to add a \"name\" column to the \"batting\" dataframe."
   ]
  },
  {
   "cell_type": "code",
   "execution_count": 207,
   "metadata": {},
   "outputs": [],
   "source": [
    "batting = batting.merge(people, how='left', on='playerID')"
   ]
  },
  {
   "cell_type": "markdown",
   "metadata": {},
   "source": [
    "Reorder columns in the \"batting\" dataframe for consistency. "
   ]
  },
  {
   "cell_type": "code",
   "execution_count": 208,
   "metadata": {},
   "outputs": [],
   "source": [
    "batting = batting[['playerID','playerName','year','AB', 'AVG', 'OBP', 'SLG','OBS']]"
   ]
  },
  {
   "cell_type": "markdown",
   "metadata": {},
   "source": [
    "Standardize names in the \"playerName\" column."
   ]
  },
  {
   "cell_type": "code",
   "execution_count": 209,
   "metadata": {},
   "outputs": [],
   "source": [
    "batting['playerName'] = batting['playerName'].apply(standardize_name)"
   ]
  },
  {
   "cell_type": "markdown",
   "metadata": {},
   "source": [
    "The \"batting\" dataframe and \"people\" dataframe are merged!"
   ]
  },
  {
   "cell_type": "code",
   "execution_count": 210,
   "metadata": {},
   "outputs": [
    {
     "data": {
      "text/html": [
       "<div>\n",
       "<style scoped>\n",
       "    .dataframe tbody tr th:only-of-type {\n",
       "        vertical-align: middle;\n",
       "    }\n",
       "\n",
       "    .dataframe tbody tr th {\n",
       "        vertical-align: top;\n",
       "    }\n",
       "\n",
       "    .dataframe thead th {\n",
       "        text-align: right;\n",
       "    }\n",
       "</style>\n",
       "<table border=\"1\" class=\"dataframe\">\n",
       "  <thead>\n",
       "    <tr style=\"text-align: right;\">\n",
       "      <th></th>\n",
       "      <th>playerID</th>\n",
       "      <th>playerName</th>\n",
       "      <th>year</th>\n",
       "      <th>AB</th>\n",
       "      <th>AVG</th>\n",
       "      <th>OBP</th>\n",
       "      <th>SLG</th>\n",
       "      <th>OBS</th>\n",
       "    </tr>\n",
       "  </thead>\n",
       "  <tbody>\n",
       "    <tr>\n",
       "      <th>0</th>\n",
       "      <td>aardsda01</td>\n",
       "      <td>DavidAardsma</td>\n",
       "      <td>2006</td>\n",
       "      <td>2</td>\n",
       "      <td>0.000</td>\n",
       "      <td>0.000</td>\n",
       "      <td>0.000</td>\n",
       "      <td>0.000</td>\n",
       "    </tr>\n",
       "    <tr>\n",
       "      <th>1</th>\n",
       "      <td>aardsda01</td>\n",
       "      <td>DavidAardsma</td>\n",
       "      <td>2008</td>\n",
       "      <td>1</td>\n",
       "      <td>0.000</td>\n",
       "      <td>0.000</td>\n",
       "      <td>0.000</td>\n",
       "      <td>0.000</td>\n",
       "    </tr>\n",
       "    <tr>\n",
       "      <th>2</th>\n",
       "      <td>aardsda01</td>\n",
       "      <td>DavidAardsma</td>\n",
       "      <td>2015</td>\n",
       "      <td>1</td>\n",
       "      <td>0.000</td>\n",
       "      <td>0.000</td>\n",
       "      <td>0.000</td>\n",
       "      <td>0.000</td>\n",
       "    </tr>\n",
       "    <tr>\n",
       "      <th>3</th>\n",
       "      <td>aaronha01</td>\n",
       "      <td>HankAaron</td>\n",
       "      <td>1954</td>\n",
       "      <td>468</td>\n",
       "      <td>0.280</td>\n",
       "      <td>0.322</td>\n",
       "      <td>0.447</td>\n",
       "      <td>0.769</td>\n",
       "    </tr>\n",
       "    <tr>\n",
       "      <th>4</th>\n",
       "      <td>aaronha01</td>\n",
       "      <td>HankAaron</td>\n",
       "      <td>1955</td>\n",
       "      <td>602</td>\n",
       "      <td>0.314</td>\n",
       "      <td>0.366</td>\n",
       "      <td>0.540</td>\n",
       "      <td>0.906</td>\n",
       "    </tr>\n",
       "  </tbody>\n",
       "</table>\n",
       "</div>"
      ],
      "text/plain": [
       "    playerID    playerName  year   AB    AVG    OBP    SLG    OBS\n",
       "0  aardsda01  DavidAardsma  2006    2  0.000  0.000  0.000  0.000\n",
       "1  aardsda01  DavidAardsma  2008    1  0.000  0.000  0.000  0.000\n",
       "2  aardsda01  DavidAardsma  2015    1  0.000  0.000  0.000  0.000\n",
       "3  aaronha01     HankAaron  1954  468  0.280  0.322  0.447  0.769\n",
       "4  aaronha01     HankAaron  1955  602  0.314  0.366  0.540  0.906"
      ]
     },
     "metadata": {},
     "output_type": "display_data"
    }
   ],
   "source": [
    "display(batting.head())"
   ]
  },
  {
   "cell_type": "markdown",
   "metadata": {},
   "source": [
    "### Final cleaning steps"
   ]
  },
  {
   "cell_type": "markdown",
   "metadata": {},
   "source": [
    "Our \"contract\" dataframe currently only contains contracts of **free agent batters** from the years 1991-2022. Our \"batting\" dataframe contains data on all players from 1871-2022. Drop all players from \"batting\" dataframe who do not appear in the \"contracts\" dataframe. "
   ]
  },
  {
   "cell_type": "code",
   "execution_count": 211,
   "metadata": {},
   "outputs": [],
   "source": [
    "batting = batting[batting['playerName'].isin(list(contracts['playerName'].unique()))]"
   ]
  },
  {
   "cell_type": "markdown",
   "metadata": {},
   "source": [
    "The two original datasets occasionally used different naming conventions that could not be rectified through standardization. Because of this, \"batting\" ends up missing 22 names from \"contracts\"."
   ]
  },
  {
   "cell_type": "code",
   "execution_count": 212,
   "metadata": {},
   "outputs": [
    {
     "name": "stdout",
     "output_type": "stream",
     "text": [
      "number of missing names from batting:  22\n"
     ]
    }
   ],
   "source": [
    "missing_from_batting  = len(contracts['playerName'].unique()) - len(batting['playerName'].unique())\n",
    "print('number of missing names from batting: ', missing_from_batting)"
   ]
  },
  {
   "cell_type": "markdown",
   "metadata": {},
   "source": [
    "Address the above issue by droping all players from \"contracts\" dataframe who do not appear in the \"batting\" dataframe. "
   ]
  },
  {
   "cell_type": "code",
   "execution_count": 213,
   "metadata": {
    "scrolled": true
   },
   "outputs": [
    {
     "name": "stdout",
     "output_type": "stream",
     "text": [
      "unique batting names:  769\n",
      "unique contract names:  769\n"
     ]
    }
   ],
   "source": [
    "contracts = contracts[contracts['playerName'].isin(list(batting['playerName'].unique()))]\n",
    "print(\"unique batting names: \", len(list(batting['playerName'].unique())))\n",
    "print(\"unique contract names: \", len(list(contracts['playerName'].unique())))"
   ]
  },
  {
   "cell_type": "markdown",
   "metadata": {},
   "source": [
    "One final problem with our data is that some unique players in the dataframes happen to have the same first and last name. These players should not be treated as the same player. Remove a player if there exists another player with the same name."
   ]
  },
  {
   "cell_type": "code",
   "execution_count": 214,
   "metadata": {},
   "outputs": [],
   "source": [
    "# all names associated with a unique playerID\n",
    "names = pd.Series([group[1]['playerName'].reset_index(drop=True)[0] for group in batting.groupby('playerID')])\n",
    "name_counts = names.value_counts();\n",
    "\n",
    "# list of players with the same name \n",
    "repeated_names = list(name_counts[name_counts > 1].index)\n",
    "\n",
    "# remove batters and contracts with repeated names name\n",
    "batting = batting[~batting['playerName'].isin(repeated_names)]\n",
    "contracts = contracts[~contracts['playerName'].isin(repeated_names)]"
   ]
  },
  {
   "cell_type": "markdown",
   "metadata": {},
   "source": [
    "The data cleaning is done!"
   ]
  },
  {
   "cell_type": "code",
   "execution_count": 181,
   "metadata": {},
   "outputs": [
    {
     "name": "stdout",
     "output_type": "stream",
     "text": [
      "unique batting names:  731\n",
      "unique contract names:  731\n",
      "batting shape:  (9423, 8)\n",
      "contracts shape:  (1396, 4)\n"
     ]
    }
   ],
   "source": [
    "print(\"unique batting names: \", len(list(batting['playerName'].unique())))\n",
    "print(\"unique contract names: \", len(list(contracts['playerName'].unique())))\n",
    "print(\"batting shape: \", batting.shape) \n",
    "print(\"contracts shape: \", contracts.shape)"
   ]
  },
  {
   "cell_type": "markdown",
   "metadata": {},
   "source": [
    "# Data Analysis & Results"
   ]
  },
  {
   "cell_type": "markdown",
   "metadata": {},
   "source": [
    "The first variable for predicting salaries that we will look at is the year of the contracts. Factors including inflation and viewership are expected to alter MLB salaries from year to year. First, we will compare the MLB free agent contracts between 1991 and 2022."
   ]
  },
  {
   "cell_type": "code",
   "execution_count": 20,
   "metadata": {},
   "outputs": [
    {
     "data": {
      "image/png": "[encoded data removed]",
      "text/plain": [
       "<Figure size 1080x720 with 2 Axes>"
      ]
     },
     "metadata": {
      "needs_background": "light"
     },
     "output_type": "display_data"
    }
   ],
   "source": [
    "# compare yearly salaries between 1991 and 2022\n",
    "fig = plt.figure(figsize=(15, 10))\n",
    "plt.suptitle(\"Yearly Salaries\", fontsize=14)\n",
    "ax1 = fig.add_subplot(221)\n",
    "ax2 = fig.add_subplot(222)\n",
    "ax1.title.set_text('1991')\n",
    "ax2.title.set_text('2022')\n",
    "sns.histplot(data = contracts[contracts['year'] == 1991], x = 'yearSalary', bins = 30, ax = ax1)\n",
    "sns.histplot(data = contracts[contracts['year'] == 2022], x = 'yearSalary', bins = 30, ax = ax2)\n",
    "plt.show()"
   ]
  },
  {
   "cell_type": "markdown",
   "metadata": {},
   "source": [
    "As expected, the average yearly salary jumped a significant amount from 1991 to 2022. The highest contract from 1991 is around \\$4,000,000 compared to the highest contract from 2022 being close to \\$35,000,000. \n",
    "\n",
    "We will now look at the average salary from each year of data that we have obtained (1991-2022)."
   ]
  },
  {
   "cell_type": "code",
   "execution_count": 21,
   "metadata": {},
   "outputs": [
    {
     "data": {
      "text/plain": [
       "Text(0.5, 0.98, 'Average Salary vs. Year')"
      ]
     },
     "execution_count": 21,
     "metadata": {},
     "output_type": "execute_result"
    },
    {
     "data": {
      "image/png": "[encoded data removed]",
      "text/plain": [
       "<Figure size 432x288 with 1 Axes>"
      ]
     },
     "metadata": {
      "needs_background": "light"
     },
     "output_type": "display_data"
    }
   ],
   "source": [
    "fig, ax = plt.subplots()\n",
    "s_years = contracts.groupby('year').yearSalary.agg('mean')\n",
    "sns.scatterplot(data=s_years, ax=ax)\n",
    "plt.grid()\n",
    "fig.suptitle('Average Salary vs. Year')"
   ]
  },
  {
   "cell_type": "markdown",
   "metadata": {},
   "source": [
    "The average salary has a general upward trend as the year increases. From these results, it is important to take into account the year when predicting salaries. \n",
    "\n",
    "In order to predict what information and stats are important for predicting salaries, we will take a look at the stats of the highest paid player from each year. Since we want to use previous performace to predict future salaries, we will first look at only the year prior to each contract. It will be helpful to get a better idea of what stats to expect given high salaries."
   ]
  },
  {
   "cell_type": "code",
   "execution_count": 22,
   "metadata": {},
   "outputs": [],
   "source": [
    "# look at the previous year stats for the highest contract from each year\n",
    "salary_years = contracts['year'].value_counts().rename_axis('year').reset_index(name='counts')\n",
    "salary_years['avg salary'] = ''\n",
    "for i in range(len(salary_years)):\n",
    "    salary_years['avg salary'][i] = statistics.mean(contracts[contracts['year'] == salary_years['year'][i]]['yearSalary'])\n",
    "    salary_years = salary_years.sort_values(by=['year']).reset_index(drop = True)\n",
    "\n",
    "# find the maximum salary from each year\n",
    "salary_years['max salary'] = ''\n",
    "for i in range(len(salary_years)):\n",
    "    salary_years['max salary'][i] = ((contracts[contracts['year'] == salary_years['year'][i]]['yearSalary'])  \n",
    "    [(contracts[contracts['year'] == salary_years['year'][i]]['yearSalary']).idxmax()])\n",
    "\n",
    "\n",
    "# find players with max salary\n",
    "max_player = (contracts[contracts['year']==1991][contracts[contracts['year']==1991]['yearSalary'] ==\n",
    " int(salary_years[salary_years['year']==1991]['max salary'])])\n",
    "\n",
    "for i in range(len(salary_years)-1):\n",
    "    max_player=max_player.append(contracts[contracts['year']==salary_years['year'][i+1]][contracts[contracts['year']==\n",
    "    salary_years['year'][i+1]]['yearSalary'] == int(salary_years[salary_years['year']==salary_years['year'][i+1]]['max salary'])])\n",
    "max_player = max_player.reset_index(drop = True)\n",
    "\n",
    "# find the previous year stats for each max salary player\n",
    "max_player['previous AVG'] = ''\n",
    "max_player['previous AVG'][0] = np.nan\n",
    "max_player['previous OBP'] = ''\n",
    "max_player['previous OBP'][0] = np.nan\n",
    "max_player['previous SLG'] = ''\n",
    "max_player['previous SLG'][0] = np.nan\n",
    "max_player['previous OBS'] = ''\n",
    "max_player['previous OBS'][0] = np.nan\n",
    "for i in range(len(max_player)-1):\n",
    "    max_player['previous AVG'][i+1] = (float(batting[batting['year'] == max_player['year'][i]]\n",
    "    [batting[batting['year'] == max_player['year'][i]]['playerName'] == max_player['playerName'][i]]['AVG']))\n",
    "for i in range(len(max_player)-1):\n",
    "    max_player['previous OBP'][i+1] = (float(batting[batting['year'] == max_player['year'][i]]\n",
    "    [batting[batting['year'] == max_player['year'][i]]['playerName'] == max_player['playerName'][i]]['OBP']))\n",
    "for i in range(len(max_player)-1):\n",
    "    max_player['previous SLG'][i+1] = (float(batting[batting['year'] == max_player['year'][i]]\n",
    "    [batting[batting['year'] == max_player['year'][i]]['playerName'] == max_player['playerName'][i]]['SLG']))\n",
    "for i in range(len(max_player)-1):\n",
    "    max_player['previous OBS'][i+1] = (float(batting[batting['year'] == max_player['year'][i]]\n",
    "    [batting[batting['year'] == max_player['year'][i]]['playerName'] == max_player['playerName'][i]]['OBS']))\n",
    "\n",
    "\n",
    "# find the minimum salary from each year\n",
    "salary_years['min salary'] = ''\n",
    "for i in range(len(salary_years)):\n",
    "    salary_years['min salary'][i] = ((contracts[contracts['year'] == salary_years['year'][i]]['yearSalary'])  \n",
    "    [(contracts[contracts['year'] == salary_years['year'][i]]['yearSalary']).idxmin()])"
   ]
  },
  {
   "cell_type": "markdown",
   "metadata": {},
   "source": [
    "Looking at the average salary, maximum salary, and minimum salary from the first three and last three years of data:\n",
    "\n"
   ]
  },
  {
   "cell_type": "code",
   "execution_count": 23,
   "metadata": {},
   "outputs": [
    {
     "name": "stdout",
     "output_type": "stream",
     "text": [
      "    year  counts       avg salary max salary min salary\n",
      "0   1991      39                     4050000     150000\n",
      "1   1992      31   2124516.129032   12000000     375000\n",
      "2   1993      50       1977113.32    7291667     109000\n",
      "29  2020      44   7292992.431818   35000000    1000000\n",
      "30  2021      38   7363815.789474   25000000    1000000\n",
      "31  2022      38  11792543.842105   35100000     850000\n"
     ]
    }
   ],
   "source": [
    "print(salary_years.iloc[np.r_[:3, -3:0]])"
   ]
  },
  {
   "cell_type": "markdown",
   "metadata": {},
   "source": [
    "The highest salary player from each year along with their previous year stats (AVG, OBP, SLG, OBS):"
   ]
  },
  {
   "cell_type": "code",
   "execution_count": 24,
   "metadata": {},
   "outputs": [
    {
     "name": "stdout",
     "output_type": "stream",
     "text": [
      "          playerName  playerAge  year  yearSalary previous AVG previous OBP  \\\n",
      "0   DarrylStrawberry       29.0  1991     4050000          NaN          NaN   \n",
      "1     MikePagliarulo       32.0  1992    12000000        0.265        0.361   \n",
      "2         BarryBonds       28.0  1993     7291667          0.2        0.213   \n",
      "3     RafaelPalmeiro       29.0  1994     6070000        0.336        0.458   \n",
      "4        LarryWalker       28.0  1995     5623595        0.319        0.392   \n",
      "5      RobertoAlomar       28.0  1996     6000000        0.306        0.381   \n",
      "6        AlbertBelle       30.0  1997    11000000        0.328        0.411   \n",
      "7    AndresGalarraga       37.0  1998     8250000        0.274        0.332   \n",
      "8           MoVaughn       31.0  1999    13333333        0.305        0.397   \n",
      "9         GregVaughn       34.0  2000     8500000        0.281        0.358   \n",
      "10     AlexRodriguez       25.0  2001    25200000        0.254        0.365   \n",
      "11        BarryBonds       37.0  2002    18000000        0.318        0.399   \n",
      "12          JimThome       32.0  2003    14166666         0.37        0.582   \n",
      "13     GarySheffield       35.0  2004    13000000        0.266        0.385   \n",
      "14     CarlosBeltran       28.0  2005    17000000         0.29        0.393   \n",
      "15       JohnnyDamon       32.0  2006    13000000        0.266         0.33   \n",
      "16      RafaelFurcal       28.0  2006    13000000        0.285        0.359   \n",
      "17    AlfonsoSoriano       31.0  2007    17000000          0.3        0.369   \n",
      "18     AlexRodriguez       32.0  2008    27500000        0.299        0.337   \n",
      "19      MarkTeixeira       29.0  2009    22500000        0.302        0.392   \n",
      "20      MannyRamirez       37.0  2009    22500000        0.292        0.383   \n",
      "21      MattHolliday       30.0  2010    17142857         0.29        0.418   \n",
      "22      CarlCrawford       29.0  2011    20285714        0.312         0.39   \n",
      "23      AlbertPujols       32.0  2012    24000000        0.255        0.289   \n",
      "24      JoshHamilton       32.0  2013    25000000        0.285        0.343   \n",
      "25      RobinsonCano       31.0  2014    24000000         0.25        0.307   \n",
      "26     HanleyRamirez       31.0  2015    22000000        0.314        0.382   \n",
      "27    YoenisCespedes       30.0  2016    25000000        0.249        0.291   \n",
      "28    YoenisCespedes       31.0  2017    27500000         0.28        0.354   \n",
      "29        JDMartinez       30.0  2018    22000000        0.292        0.352   \n",
      "30      MannyMachado       26.0  2019    30000000         0.33        0.402   \n",
      "31     AnthonyRendon       30.0  2020    35000000        0.256        0.334   \n",
      "32    GeorgeSpringer       31.0  2021    25000000        0.286        0.418   \n",
      "33      CarlosCorrea       27.0  2022    35100000        0.264        0.352   \n",
      "\n",
      "   previous SLG previous OBS  \n",
      "0           NaN          NaN  \n",
      "1         0.491        0.852  \n",
      "2         0.238        0.451  \n",
      "3         0.677        1.136  \n",
      "4          0.55        0.942  \n",
      "5         0.607        0.988  \n",
      "6         0.527        0.938  \n",
      "7         0.491        0.823  \n",
      "8         0.595        0.991  \n",
      "9         0.508        0.866  \n",
      "10        0.499        0.864  \n",
      "11        0.622        1.021  \n",
      "12        0.799        1.381  \n",
      "13        0.573        0.958  \n",
      "14        0.534        0.927  \n",
      "15        0.414        0.744  \n",
      "16        0.482        0.841  \n",
      "17        0.445        0.814  \n",
      "18         0.56        0.897  \n",
      "19        0.573        0.965  \n",
      "20        0.565        0.948  \n",
      "21        0.531        0.949  \n",
      "22        0.532        0.922  \n",
      "23        0.405        0.694  \n",
      "24        0.516        0.859  \n",
      "25        0.432        0.739  \n",
      "26        0.454        0.836  \n",
      "27        0.426        0.717  \n",
      "28         0.53        0.884  \n",
      "29         0.54        0.892  \n",
      "30        0.629        1.031  \n",
      "31        0.462        0.796  \n",
      "32        0.497        0.915  \n",
      "33        0.555        0.907  \n"
     ]
    }
   ],
   "source": [
    "print(max_player)"
   ]
  },
  {
   "cell_type": "markdown",
   "metadata": {},
   "source": [
    "Our next step in data analysis is to see whether the factors we're looking at (Age, AVG, OBP, etc.) are actually correlated with player salary. This involves looking up player statistics in the \"batting\" dataframe. To make this process easier we will make a DataFrameGroupBy named \"batting_grouped\" so that we can look up specific player stats during specific years."
   ]
  },
  {
   "cell_type": "code",
   "execution_count": 25,
   "metadata": {},
   "outputs": [],
   "source": [
    "batting_grouped = batting.groupby(['playerName','year'])"
   ]
  },
  {
   "cell_type": "markdown",
   "metadata": {},
   "source": [
    "To plot factors against salary we need some functions that can return plottable data. The two functions below are used to return a list of tuples in the form (stat, salary). These tuples can be plotted later to look for relationships."
   ]
  },
  {
   "cell_type": "code",
   "execution_count": 26,
   "metadata": {},
   "outputs": [],
   "source": [
    "# get a player's statistics\n",
    "# player (str): the name of the player\n",
    "# year (float): the year of the statistics \n",
    "# return: a one row dataframe of the batting statistics \n",
    "def getBattingStats(player: str, year: float):\n",
    "    try:\n",
    "        return batting_grouped.get_group((player, year))\n",
    "    except: \n",
    "        return None\n",
    "\n",
    "# gets data for plotting a batting stat against a yearly salary.  \n",
    "# stat (str) : the stat to plot against salary\n",
    "# AB_limit (int) : drops any stat with less at bats than this\n",
    "# years_back (int) : how many previous years of statistics to average.\n",
    "# return: a list of tuples (stat, salary)\n",
    "def getPlotableData(stat: str, AB_limit: int, years_back: int):\n",
    "    data = []\n",
    "    for index, contract in contracts.iterrows():\n",
    "        if contract['playerName'] in list(batting['playerName']):\n",
    "            year_salary = contract['yearSalary']\n",
    "            average = 0\n",
    "            for i in range(years_back):\n",
    "                stats = getBattingStats(contract['playerName'], contract['year']-(i+1))\n",
    "                if stats is not None and float(stats['AB']) > AB_limit:\n",
    "                    average += float(stats[stat])\n",
    "                else: \n",
    "                    average = -1\n",
    "                    break\n",
    "            if average != -1:\n",
    "                data.append((float(average/years_back), year_salary))\n",
    "    return data"
   ]
  },
  {
   "cell_type": "markdown",
   "metadata": {},
   "source": [
    "First we will compare the age of players to their salaries. We expect as players get older, teams will not want to invest as much money in them."
   ]
  },
  {
   "cell_type": "code",
   "execution_count": 27,
   "metadata": {},
   "outputs": [
    {
     "data": {
      "text/plain": [
       "<AxesSubplot:xlabel='Age', ylabel='year salary'>"
      ]
     },
     "execution_count": 27,
     "metadata": {},
     "output_type": "execute_result"
    },
    {
     "data": {
      "image/png": "[encoded data removed]",
      "text/plain": [
       "<Figure size 432x288 with 1 Axes>"
      ]
     },
     "metadata": {
      "needs_background": "light"
     },
     "output_type": "display_data"
    }
   ],
   "source": [
    "# Players yearly salary compared to their age\n",
    "data = []\n",
    "for index, contract in contracts.iterrows():\n",
    "    if contract['playerName'] in list(batting['playerName']):\n",
    "        year_salary = contract['yearSalary']\n",
    "        stat = contract['playerAge']\n",
    "        data.append((stat, year_salary))\n",
    "fig, ax = plt.subplots()\n",
    "sns.regplot(data=pd.DataFrame(data=data, columns = ['Age', 'year salary']), x='Age', y='year salary')"
   ]
  },
  {
   "cell_type": "markdown",
   "metadata": {},
   "source": [
    "From the figure, we can see there is a general downward trend as age increases. The highest salaries at 30 years of age or before."
   ]
  },
  {
   "cell_type": "markdown",
   "metadata": {},
   "source": [
    "Here we create three scatterplots that describe the Batting Average of players (going back up to 3 years) against the salaries. These plots ignore data that have under 50 At Bats."
   ]
  },
  {
   "cell_type": "code",
   "execution_count": 28,
   "metadata": {},
   "outputs": [
    {
     "data": {
      "text/plain": [
       "<AxesSubplot:xlabel='AVG_3', ylabel='year salary'>"
      ]
     },
     "execution_count": 28,
     "metadata": {},
     "output_type": "execute_result"
    },
    {
     "data": {
      "image/png": "[encoded data removed]",
      "text/plain": [
       "<Figure size 1080x360 with 3 Axes>"
      ]
     },
     "metadata": {
      "needs_background": "light"
     },
     "output_type": "display_data"
    }
   ],
   "source": [
    "data_1 = pd.DataFrame(data= getPlotableData('AVG', 50, 1), columns = ['AVG_1', 'year salary']) \n",
    "data_2 = pd.DataFrame(data= getPlotableData('AVG', 50, 2), columns = ['AVG_2', 'year salary']) \n",
    "data_3 = pd.DataFrame(data= getPlotableData('AVG', 50, 3), columns = ['AVG_3', 'year salary']) \n",
    "fig, (ax1, ax2, ax3) = plt.subplots(1,3)\n",
    "fig.set_figheight(5)\n",
    "fig.set_figwidth(15)\n",
    "sns.regplot(data=data_1, x='AVG_1', y='year salary', ax=ax1)\n",
    "sns.regplot(data=data_2, x='AVG_2', y='year salary', ax=ax2)\n",
    "sns.regplot(data=data_3, x='AVG_3', y='year salary', ax=ax3)"
   ]
  },
  {
   "cell_type": "markdown",
   "metadata": {},
   "source": [
    "From left to right, the salaries are compared to prior batting averages from one, two, and three years prior. In all three instances, there appears to be a general upward trend of salaries as the average increases.  "
   ]
  },
  {
   "cell_type": "markdown",
   "metadata": {},
   "source": [
    "Create three scatterplots of plotting on base percentage against yearly salary. The scatter plots ignore statistics with at bats under 50 and look 1, 2, and 3 years back respectively. "
   ]
  },
  {
   "cell_type": "code",
   "execution_count": 29,
   "metadata": {},
   "outputs": [
    {
     "data": {
      "text/plain": [
       "<AxesSubplot:xlabel='OBP_3', ylabel='year salary'>"
      ]
     },
     "execution_count": 29,
     "metadata": {},
     "output_type": "execute_result"
    },
    {
     "data": {
      "image/png": "[encoded data removed]",
      "text/plain": [
       "<Figure size 1080x360 with 3 Axes>"
      ]
     },
     "metadata": {
      "needs_background": "light"
     },
     "output_type": "display_data"
    }
   ],
   "source": [
    "data_1 = pd.DataFrame(data= getPlotableData('OBP', 50, 1), columns = ['OBP_1', 'year salary']) \n",
    "data_2 = pd.DataFrame(data= getPlotableData('OBP', 50, 2), columns = ['OBP_2', 'year salary']) \n",
    "data_3 = pd.DataFrame(data= getPlotableData('OBP', 50, 3), columns = ['OBP_3', 'year salary']) \n",
    "fig, (ax1, ax2, ax3) = plt.subplots(1,3)\n",
    "fig.set_figheight(5)\n",
    "fig.set_figwidth(15)\n",
    "sns.scatterplot(data=data_1, x='OBP_1', y='year salary', ax=ax1)\n",
    "sns.scatterplot(data=data_2, x='OBP_2', y='year salary', ax=ax2)\n",
    "sns.scatterplot(data=data_3, x='OBP_3', y='year salary', ax=ax3)"
   ]
  },
  {
   "cell_type": "markdown",
   "metadata": {},
   "source": [
    "There appears to be a positive relationship between OBP and salary for all three previous years."
   ]
  },
  {
   "cell_type": "markdown",
   "metadata": {},
   "source": [
    "Create three scatterplots that plot Slugging Percentage against yearly salary. The scatter plots ignore statistics with at bats under 50 and look 1, 2, and 3 years back respectively."
   ]
  },
  {
   "cell_type": "code",
   "execution_count": 30,
   "metadata": {},
   "outputs": [
    {
     "data": {
      "text/plain": [
       "<AxesSubplot:xlabel='SLG_3', ylabel='year salary'>"
      ]
     },
     "execution_count": 30,
     "metadata": {},
     "output_type": "execute_result"
    },
    {
     "data": {
      "image/png": "[encoded data removed]",
      "text/plain": [
       "<Figure size 1080x360 with 3 Axes>"
      ]
     },
     "metadata": {
      "needs_background": "light"
     },
     "output_type": "display_data"
    }
   ],
   "source": [
    "data_1 = pd.DataFrame(data= getPlotableData('SLG', 50, 1), columns = ['SLG_1', 'year salary']) \n",
    "data_2 = pd.DataFrame(data= getPlotableData('SLG', 50, 2), columns = ['SLG_2', 'year salary']) \n",
    "data_3 = pd.DataFrame(data= getPlotableData('SLG', 50, 3), columns = ['SLG_3', 'year salary']) \n",
    "fig, (ax1, ax2, ax3) = plt.subplots(1,3)\n",
    "fig.set_figheight(5)\n",
    "fig.set_figwidth(15)\n",
    "sns.scatterplot(data=data_1, x='SLG_1', y='year salary', ax=ax1)\n",
    "sns.scatterplot(data=data_2, x='SLG_2', y='year salary', ax=ax2)\n",
    "sns.scatterplot(data=data_3, x='SLG_3', y='year salary', ax=ax3)"
   ]
  },
  {
   "cell_type": "markdown",
   "metadata": {},
   "source": [
    "Similarly to batting averages and on-base percentage (OBP), there is a general upward trend of salaries compared to slugging for all three years prior. "
   ]
  },
  {
   "cell_type": "markdown",
   "metadata": {},
   "source": [
    "Create three scatterplots that plot On-Base Plus Slugging against Yearly Salary. The scatter plots ignore statistics with at bats under 50 and look 1, 2, and 3 years back respectively."
   ]
  },
  {
   "cell_type": "code",
   "execution_count": 31,
   "metadata": {},
   "outputs": [
    {
     "data": {
      "text/plain": [
       "<AxesSubplot:xlabel='OBS_3', ylabel='year salary'>"
      ]
     },
     "execution_count": 31,
     "metadata": {},
     "output_type": "execute_result"
    },
    {
     "data": {
      "image/png": "[encoded data removed]",
      "text/plain": [
       "<Figure size 1080x360 with 3 Axes>"
      ]
     },
     "metadata": {
      "needs_background": "light"
     },
     "output_type": "display_data"
    }
   ],
   "source": [
    "data_1 = pd.DataFrame(data= getPlotableData('OBS', 50, 1), columns = ['OBS_1', 'year salary']) \n",
    "data_2 = pd.DataFrame(data= getPlotableData('OBS', 50, 2), columns = ['OBS_2', 'year salary']) \n",
    "data_3 = pd.DataFrame(data= getPlotableData('OBS', 50, 3), columns = ['OBS_3', 'year salary']) \n",
    "fig, (ax1, ax2, ax3) = plt.subplots(1,3)\n",
    "fig.set_figheight(5)\n",
    "fig.set_figwidth(15)\n",
    "sns.scatterplot(data=data_1, x='OBS_1', y='year salary', ax=ax1)\n",
    "sns.scatterplot(data=data_2, x='OBS_2', y='year salary', ax=ax2)\n",
    "sns.scatterplot(data=data_3, x='OBS_3', y='year salary', ax=ax3)"
   ]
  },
  {
   "cell_type": "markdown",
   "metadata": {},
   "source": [
    "For all three years, there is a general upward trend of salaries as OBS increases. \n",
    "\n",
    "From our EDA, we expect age, batting average, slugging, OBP, and OBS to affect salaries. In general, as batting stats get better (increase), the salaries increase. "
   ]
  },
  {
   "cell_type": "markdown",
   "metadata": {},
   "source": [
    "# Ethics & Privacy"
   ]
  },
  {
   "cell_type": "markdown",
   "metadata": {},
   "source": [
    "*Fill in your ethics & privacy discussion here*"
   ]
  },
  {
   "cell_type": "markdown",
   "metadata": {},
   "source": [
    "# Conclusion & Discussion"
   ]
  },
  {
   "cell_type": "markdown",
   "metadata": {},
   "source": [
    "*Fill in your discussion information here*"
   ]
  },
  {
   "cell_type": "markdown",
   "metadata": {},
   "source": [
    "# Team Contributions"
   ]
  },
  {
   "cell_type": "markdown",
   "metadata": {},
   "source": [
    "*Specify who in your group worked on which parts of the project.*"
   ]
  }
 ],
 "metadata": {
  "kernelspec": {
   "display_name": "Python 3 (ipykernel)",
   "language": "python",
   "name": "python3"
  },
  "language_info": {
   "codemirror_mode": {
    "name": "ipython",
    "version": 3
   },
   "file_extension": ".py",
   "mimetype": "text/x-python",
   "name": "python",
   "nbconvert_exporter": "python",
   "pygments_lexer": "ipython3",
   "version": "3.10.3"
  },
  "vscode": {
   "interpreter": {
    "hash": "17148b80536a9518b3c217100db44d9bbf858b2c0861d2db315eb0a1b18cdf91"
   }
  }
 },
 "nbformat": 4,
 "nbformat_minor": 2
}
